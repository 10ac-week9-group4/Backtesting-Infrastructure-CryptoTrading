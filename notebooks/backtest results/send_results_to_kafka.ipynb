{
 "cells": [
  {
   "cell_type": "code",
   "execution_count": 1,
   "metadata": {},
   "outputs": [
    {
     "name": "stderr",
     "output_type": "stream",
     "text": [
      "[*********************100%%**********************]  1 of 1 completed\n"
     ]
    },
    {
     "data": {
      "text/plain": [
       "{'sharpe_ratio': -58.66063557429906,\n",
       " 'return': 0.0016255774658640904,\n",
       " 'max_drawdown': 0.023526728407521492,\n",
       " 'win_trade': 7,\n",
       " 'loss_trade': 3,\n",
       " 'total_trade': 11,\n",
       " 'start_portfolio': 100000,\n",
       " 'final_portfolio': 100162.6899433136}"
      ]
     },
     "execution_count": 1,
     "metadata": {},
     "output_type": "execute_result"
    }
   ],
   "source": [
    "import os\n",
    "os.chdir(\"../../../\")\n",
    "from src.backtesting.run_backtest import prepare_and_run_backtest\n",
    "\n",
    "result=prepare_and_run_backtest()\n",
    "result"
   ]
  },
  {
   "cell_type": "code",
   "execution_count": 2,
   "metadata": {},
   "outputs": [],
   "source": [
    "# The backtest results dictionary\n",
    "results = {\n",
    "    'sharpe_ratio': -58.66063557429906,\n",
    "    'return': 0.0016255774658640904,\n",
    "    'max_drawdown': 0.023526728407521492,\n",
    "    'win_trade': 7,\n",
    "    'loss_trade': 3,\n",
    "    'total_trade': 11,\n",
    "    'start_portfolio': 100000,\n",
    "    'final_portfolio': 100162.6899433136\n",
    "}\n"
   ]
  },
  {
   "cell_type": "markdown",
   "metadata": {},
   "source": [
    "## Send backtest results to Kafka"
   ]
  },
  {
   "cell_type": "code",
   "execution_count": 5,
   "metadata": {},
   "outputs": [
    {
     "name": "stdout",
     "output_type": "stream",
     "text": [
      "Message sent to KAFKA successfully!\n"
     ]
    }
   ],
   "source": [
    "from confluent_kafka import Producer\n",
    "import json\n",
    "import socket  # For getting hostname\n",
    "\n",
    "# Kafka Configuration\n",
    "conf = {\n",
    "    'bootstrap.servers': 'localhost:9094',  # Kafka broker address\n",
    "    'client.id': socket.gethostname(),     # Unique identifier for this producer\n",
    "}\n",
    "\n",
    "# Optional Producer Configurations (Best Practices)\n",
    "conf.update({\n",
    "    'acks': 'all',       # Strongest delivery guarantee (all brokers acknowledge)\n",
    "    'retries': 3,         # Number of retries for failed messages\n",
    "    'batch.size': 16384, # Batch messages for efficiency (can be adjusted)\n",
    "    'linger.ms': 100,     # Wait briefly for more messages to batch (this can be adjusted)\n",
    "})\n",
    "\n",
    "# Create the Producer\n",
    "producer = Producer(conf)\n",
    "\n",
    "# Topic Name\n",
    "topic_name = 'backtest_results_topic'\n",
    "\n",
    "# Prepare Data\n",
    "message_value = json.dumps(results) # Convert dictionary to JSON string\n",
    "\n",
    "# Send the Message\n",
    "try:\n",
    "    producer.produce(topic_name, value=message_value)\n",
    "    producer.flush()  # Ensure all messages are delivered\n",
    "    print(\"Message sent to KAFKA successfully!\")\n",
    "except Exception as e:\n",
    "    print(f\"Error producing message: {e}\")\n"
   ]
  },
  {
   "cell_type": "markdown",
   "metadata": {},
   "source": [
    "### Kafka Consumer for backtest results"
   ]
  },
  {
   "cell_type": "code",
   "execution_count": 2,
   "metadata": {},
   "outputs": [
    {
     "name": "stdout",
     "output_type": "stream",
     "text": [
      "Received message: {'sharpe_ratio': -58.66063557429906, 'return': 0.0016255774658640904, 'max_drawdown': 0.023526728407521492, 'win_trade': 7, 'loss_trade': 3, 'total_trade': 11, 'start_portfolio': 100000, 'final_portfolio': 100162.6899433136}\n",
      "Received message: {'sharpe_ratio': -58.66063557429906, 'return': 0.0016255774658640904, 'max_drawdown': 0.023526728407521492, 'win_trade': 7, 'loss_trade': 3, 'total_trade': 11, 'start_portfolio': 100000, 'final_portfolio': 100162.6899433136}\n",
      "Received message: {'sharpe_ratio': -58.66063557429906, 'return': 0.0016255774658640904, 'max_drawdown': 0.023526728407521492, 'win_trade': 7, 'loss_trade': 3, 'total_trade': 11, 'start_portfolio': 100000, 'final_portfolio': 100162.6899433136}\n"
     ]
    }
   ],
   "source": [
    "from confluent_kafka import Consumer\n",
    "import json\n",
    "\n",
    "# Kafka Configuration\n",
    "conf = {\n",
    "    'bootstrap.servers': 'localhost:9094',\n",
    "    'group.id': 'backtest_results_consumer_group',\n",
    "    'auto.offset.reset': 'earliest'  # Start consuming from the beginning of the topic\n",
    "}\n",
    "\n",
    "topic_name = 'backtest_results'\n",
    "\n",
    "# Create the Consumer\n",
    "consumer = Consumer(conf)\n",
    "consumer.subscribe([topic_name])\n",
    "\n",
    "# Read the Messages\n",
    "try:\n",
    "    while True:\n",
    "        msg = consumer.poll(1.0)\n",
    "\n",
    "        if msg is None:\n",
    "            continue\n",
    "        if msg.error():\n",
    "            print(f\"Consumer error: {msg.error()}\")\n",
    "            continue\n",
    "\n",
    "        message_value = json.loads(msg.value())\n",
    "        print(f\"Received message: {message_value}\")\n",
    "    # process the message_value in postgres\n",
    "except KeyboardInterrupt:\n",
    "    pass\n",
    "finally:\n",
    "    consumer.close()\n",
    "\n"
   ]
  },
  {
   "cell_type": "markdown",
   "metadata": {},
   "source": [
    "### Reusable functions for kafka producer and consumer"
   ]
  },
  {
   "cell_type": "code",
   "execution_count": 1,
   "metadata": {},
   "outputs": [],
   "source": [
    "from api.app import create_kafka_producer, send_message_to_kafka, create_kafka_consumer, consume_messages\n",
    "\n",
    "# Create Producer\n",
    "producer = create_kafka_producer()\n",
    "\n",
    "# Send Results\n",
    "topic_name = 'backtest_results'\n",
    "\n",
    "send_message_to_kafka(producer, 'backtest_results', results)\n"
   ]
  },
  {
   "cell_type": "code",
   "execution_count": 5,
   "metadata": {},
   "outputs": [
    {
     "name": "stdout",
     "output_type": "stream",
     "text": [
      "Received message: {'sharpe_ratio': -58.66063557429906, 'return': 0.0016255774658640904, 'max_drawdown': 0.023526728407521492, 'win_trade': 7, 'loss_trade': 3, 'total_trade': 11, 'start_portfolio': 100000, 'final_portfolio': 100162.6899433136}\n",
      "Received message: {'sharpe_ratio': -58.66063557429906, 'return': 0.0016255774658640904, 'max_drawdown': 0.023526728407521492, 'win_trade': 7, 'loss_trade': 3, 'total_trade': 11, 'start_portfolio': 100000, 'final_portfolio': 100162.6899433136}\n"
     ]
    }
   ],
   "source": [
    "# Create Consumer\n",
    "consumer = create_kafka_consumer()\n",
    "\n",
    "# Read the Messages\n",
    "for message in consume_messages(consumer, 'backtest_results'):\n",
    "    print(f\"Received message: {message}\")\n",
    "    # Process the message in postgres (insert into db)"
   ]
  },
  {
   "cell_type": "code",
   "execution_count": null,
   "metadata": {},
   "outputs": [],
   "source": []
  }
 ],
 "metadata": {
  "kernelspec": {
   "display_name": ".venv",
   "language": "python",
   "name": "python3"
  },
  "language_info": {
   "codemirror_mode": {
    "name": "ipython",
    "version": 3
   },
   "file_extension": ".py",
   "mimetype": "text/x-python",
   "name": "python",
   "nbconvert_exporter": "python",
   "pygments_lexer": "ipython3",
   "version": "3.9.19"
  }
 },
 "nbformat": 4,
 "nbformat_minor": 2
}
