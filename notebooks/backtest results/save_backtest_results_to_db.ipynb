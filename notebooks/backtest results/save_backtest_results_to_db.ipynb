{
 "cells": [
  {
   "cell_type": "code",
   "execution_count": 1,
   "metadata": {},
   "outputs": [],
   "source": [
    "import os\n",
    "# os.chdir(\"../../../\")\n",
    "from backtest_service.backtesting.run_backtest import prepare_and_run_backtest, prepare_and_run_many_backtests\n"
   ]
  },
  {
   "cell_type": "code",
   "execution_count": 2,
   "metadata": {},
   "outputs": [],
   "source": [
    "bollinger_params = {\n",
    "  'period': 20,\n",
    "  'devfactor': 2\n",
    "}\n",
    "\n",
    "crossover_indicator_params = {\n",
    "    \"pfast\": 11,\n",
    "    \"pslow\": 230\n",
    "}\n",
    "\n",
    "rsi_params = {\n",
    "  'maperiod': 15,\n",
    "}\n",
    "\n",
    "macd_params = {\n",
    "  'fastperiod': 10,\n",
    "  'slowperiod': 26,\n",
    "  'signalperiod': 9}"
   ]
  },
  {
   "cell_type": "code",
   "execution_count": 5,
   "metadata": {},
   "outputs": [
    {
     "name": "stderr",
     "output_type": "stream",
     "text": [
      "[*********************100%%**********************]  1 of 1 completed"
     ]
    },
    {
     "name": "stdout",
     "output_type": "stream",
     "text": [
      "\n"
     ]
    },
    {
     "name": "stderr",
     "output_type": "stream",
     "text": [
      "\n"
     ]
    },
    {
     "data": {
      "text/plain": [
       "{'sharpe_ratio': -79.75169900102752,\n",
       " 'return': 0.0007839905793228928,\n",
       " 'max_drawdown': 0.04559863362794017,\n",
       " 'win_trade': 34,\n",
       " 'loss_trade': 12,\n",
       " 'total_trade': 46,\n",
       " 'start_portfolio': 100000,\n",
       " 'final_portfolio': 100078.42979802651}"
      ]
     },
     "execution_count": 5,
     "metadata": {},
     "output_type": "execute_result"
    }
   ],
   "source": [
    "\n",
    "\n",
    "result=prepare_and_run_backtest(\n",
    "  asset=\"GOOGL\",\n",
    "  interval=\"1d\",\n",
    "  strategy_name=\"BollingerBands\",\n",
    "  start_date=\"2007-06-26\",\n",
    "  end_date=\"2024-06-28\",\n",
    "  commission=0.001,\n",
    "  cash=100000,\n",
    "  # strategy_params=rsi_params\n",
    ")\n",
    "result"
   ]
  },
  {
   "cell_type": "code",
   "execution_count": 4,
   "metadata": {},
   "outputs": [
    {
     "name": "stderr",
     "output_type": "stream",
     "text": [
      "[*********************100%%**********************]  1 of 1 completed\n",
      "[*********************100%%**********************]  1 of 1 completed\n",
      "[*********************100%%**********************]  1 of 1 completed\n",
      "[*********************100%%**********************]  1 of 1 completed\n"
     ]
    }
   ],
   "source": [
    "strategy_params = {\n",
    "  'pfast': [10, 15],\n",
    "  'pslow': [30, 40]\n",
    "}\n",
    "\n",
    "# Assuming you want to test each 'pfast' with each 'pslow'\n",
    "strategy_params_list = []\n",
    "for pfast in strategy_params['pfast']:\n",
    "  for pslow in strategy_params['pslow']:\n",
    "    strategy_params_list.append({'pfast': pfast, 'pslow': pslow})\n",
    "\n",
    "# Now call prepare_and_run_backtest with the list of parameter dictionaries\n",
    "results = prepare_and_run_many_backtests(\n",
    "  asset=\"GOOGL\",\n",
    "  # strategy=SmaCrossOver,\n",
    "  strategy_params_list=strategy_params_list,\n",
    "  start_date=\"2006-12-19\",\n",
    "  cash=100000,\n",
    "  commission=0\n",
    ")"
   ]
  },
  {
   "cell_type": "code",
   "execution_count": 7,
   "metadata": {},
   "outputs": [
    {
     "name": "stderr",
     "output_type": "stream",
     "text": [
      "[*********************100%%**********************]  1 of 1 completed\n",
      "[*********************100%%**********************]  1 of 1 completed\n",
      "[*********************100%%**********************]  1 of 1 completed\n",
      "[*********************100%%**********************]  1 of 1 completed\n"
     ]
    }
   ],
   "source": [
    "strategy = {\n",
    "  \"start_date\": \"2022-12-19\",\n",
    "  \"end_date\": \"2023-02-19\",\n",
    "  \"indicator\": \"SmaCrossOver\",\n",
    "  \"indicator_params_range\": {\n",
    "    'pfast': [10, 15],\n",
    "    'pslow': [30, 40]\n",
    "  }\n",
    "}\n",
    "\n",
    "strategy_params = strategy['indicator_params_range']\n",
    "\n",
    "\n",
    "# Assuming you want to test each 'pfast' with each 'pslow'\n",
    "strategy_params_list = []\n",
    "for pfast in strategy_params['pfast']:\n",
    "  for pslow in strategy_params['pslow']:\n",
    "    strategy_params_list.append({'pfast': pfast, 'pslow': pslow})\n",
    "\n",
    "# Now call prepare_and_run_backtest with the list of parameter dictionaries\n",
    "results = prepare_and_run_many_backtests(\n",
    "  asset=\"GOOGL\",\n",
    "  # strategy=SmaCrossOver,\n",
    "  strategy_params_list=strategy_params_list,\n",
    "  start_date=\"2006-12-19\",\n",
    "  cash=100000,\n",
    "  commission=0\n",
    ")"
   ]
  },
  {
   "cell_type": "code",
   "execution_count": null,
   "metadata": {},
   "outputs": [],
   "source": [
    "import hashlib\n",
    "import json\n",
    "\n",
    "def generate_strategy_id(strategy_params, asset, start_date, end_date):\n",
    "    # Include relevant information in the ID\n",
    "    id_components = {\n",
    "        'strategy_params': strategy_params,\n",
    "        'asset': asset,\n",
    "        'start_date': start_date,\n",
    "        'end_date': end_date\n",
    "    }\n",
    "    \n",
    "    # Serialize the components to a JSON string, ensuring consistent ordering\n",
    "    serialized_components = json.dumps(id_components, sort_keys=True)\n",
    "    \n",
    "    # Generate a SHA-256 hash of the serialized string\n",
    "    strategy_id = hashlib.sha256(serialized_components.encode()).hexdigest()\n",
    "    \n",
    "    return strategy_id"
   ]
  },
  {
   "cell_type": "code",
   "execution_count": 6,
   "metadata": {},
   "outputs": [
    {
     "name": "stdout",
     "output_type": "stream",
     "text": [
      "[{'sharpe_ratio': -61.7130814514063, 'return': 0.000609949259972471, 'max_drawdown': 0.06566744297938924, 'win_trade': 41, 'loss_trade': 41, 'total_trade': 83, 'start_portfolio': 100000, 'final_portfolio': 100061.01353168488}, {'sharpe_ratio': -67.16657940562777, 'return': 0.0007807301736037235, 'max_drawdown': 0.06516090691278884, 'win_trade': 33, 'loss_trade': 28, 'total_trade': 62, 'start_portfolio': 100000, 'final_portfolio': 100078.10350227356}, {'sharpe_ratio': -68.5167074659037, 'return': 0.0007172750739617725, 'max_drawdown': 0.059044228582792645, 'win_trade': 39, 'loss_trade': 38, 'total_trade': 78, 'start_portfolio': 100000, 'final_portfolio': 100071.7532377243}, {'sharpe_ratio': -69.73404892808364, 'return': 0.0007514158957317705, 'max_drawdown': 0.06111359941634388, 'win_trade': 30, 'loss_trade': 25, 'total_trade': 56, 'start_portfolio': 100000, 'final_portfolio': 100075.16982793808}]\n"
     ]
    }
   ],
   "source": [
    "print(results)"
   ]
  },
  {
   "cell_type": "code",
   "execution_count": 10,
   "metadata": {},
   "outputs": [
    {
     "name": "stdout",
     "output_type": "stream",
     "text": [
      "[{'profit': 1000, 'max_drawdown': 5, 'strategyID': '835d26b638b3c1ad41e937244edcbb0e4c07a1751858a614d8ef7bfef3db14d9'}, {'profit': 1000, 'max_drawdown': 5, 'strategyID': 'd5ae404d56032c803687294958cacbac5bc4c2dc621ff24de527a384d9939a96'}, {'profit': 1000, 'max_drawdown': 5, 'strategyID': 'c345f00acc58e814f0bcae55910f47844750d1704ad40a0ada7715d21e2361bc'}, {'profit': 1000, 'max_drawdown': 5, 'strategyID': 'dc55e5f3fbdd72240ff322482c3833d4955be0182555a77f4fc4a65731242bac'}]\n"
     ]
    }
   ],
   "source": [
    "import hashlib\n",
    "import json\n",
    "\n",
    "def generate_strategy_id(strategy_params, asset, start_date, end_date):\n",
    "    id_components = {\n",
    "        'strategy_params': strategy_params,\n",
    "        'asset': asset,\n",
    "        'start_date': start_date,\n",
    "        'end_date': end_date\n",
    "    }\n",
    "    serialized_components = json.dumps(id_components, sort_keys=True)\n",
    "    strategy_id = hashlib.sha256(serialized_components.encode()).hexdigest()\n",
    "    return strategy_id\n",
    "\n",
    "def prepare_and_run_many_backtests(asset, strategy_params_list, start_date, cash, commission):\n",
    "    all_results = []\n",
    "    for strategy_params in strategy_params_list:\n",
    "        # Generate a unique strategyID for each set of parameters\n",
    "        strategy_id = generate_strategy_id(strategy_params, asset, start_date, strategy['end_date'])\n",
    "        \n",
    "        # Here, you would run your backtest based on the strategy_params\n",
    "        # For demonstration, let's assume the backtest returns a dictionary of results\n",
    "        # Replace the following line with your actual backtest call\n",
    "        backtest_results = {\"profit\": 1000, \"max_drawdown\": 5}  # Example results\n",
    "        res = prepare_and_run_backtest(strategy_params=strategy_params)\n",
    "        \n",
    "        # Add the strategyID to the results\n",
    "        results_with_id = backtest_results.copy()\n",
    "        results_with_id['strategyID'] = strategy_id\n",
    "        \n",
    "        all_results.append(results_with_id)\n",
    "    return all_results\n",
    "\n",
    "# Your existing strategy setup\n",
    "strategy = {\n",
    "  \"start_date\": \"2022-12-19\",\n",
    "  \"end_date\": \"2023-02-19\",\n",
    "  \"indicator\": \"SmaCrossOver\",\n",
    "  \"indicator_params_range\": {\n",
    "    'pfast': [10, 15],\n",
    "    'pslow': [30, 40]\n",
    "  }\n",
    "}\n",
    "\n",
    "strategy_params = strategy['indicator_params_range']\n",
    "\n",
    "# Generating strategy_params_list\n",
    "strategy_params_list = []\n",
    "for pfast in strategy_params['pfast']:\n",
    "  for pslow in strategy_params['pslow']:\n",
    "    strategy_params_list.append({'pfast': pfast, 'pslow': pslow})\n",
    "\n",
    "# Running backtests with the modified function\n",
    "results = prepare_and_run_many_backtests(\n",
    "  asset=\"GOOGL\",\n",
    "  strategy_params_list=strategy_params_list,\n",
    "  start_date=strategy[\"start_date\"],\n",
    "  cash=100000,\n",
    "  commission=0\n",
    ")\n",
    "\n",
    "# Example output\n",
    "print(results)"
   ]
  },
  {
   "cell_type": "markdown",
   "metadata": {},
   "source": [
    "#### Generate param combinations"
   ]
  },
  {
   "cell_type": "code",
   "execution_count": 14,
   "metadata": {},
   "outputs": [
    {
     "name": "stdout",
     "output_type": "stream",
     "text": [
      "{'pfast': 10, 'pslow': 30}\n",
      "{'pfast': 10, 'pslow': 40}\n",
      "{'pfast': 15, 'pslow': 30}\n",
      "{'pfast': 15, 'pslow': 40}\n"
     ]
    }
   ],
   "source": [
    "from itertools import product\n",
    "\n",
    "def generate_param_combinations(param_ranges):\n",
    "    # Extract parameter names and their corresponding ranges\n",
    "    param_names = list(param_ranges.keys())\n",
    "    param_values = [param_ranges[name] for name in param_names]\n",
    "    \n",
    "    # Generate all combinations of parameter values\n",
    "    all_combinations = product(*param_values)\n",
    "    \n",
    "    # Convert each combination of values back into a dictionary with the correct parameter names\n",
    "    combination_dicts = [{param_names[i]: combo[i] for i in range(len(param_names))} for combo in all_combinations]\n",
    "    \n",
    "    return combination_dicts\n",
    "\n",
    "# Example usage with a dynamic set of parameters\n",
    "indicator_params_range = {\n",
    "    'pfast': [10, 15],\n",
    "    'pslow': [30, 40],\n",
    "    # Add more parameters as needed\n",
    "    # 'ema': [20, 25]\n",
    "}\n",
    "\n",
    "combinations = generate_param_combinations(indicator_params_range)\n",
    "for combo in combinations:\n",
    "    print(combo)"
   ]
  },
  {
   "cell_type": "markdown",
   "metadata": {},
   "source": [
    "#### Generate unique Strategy ID and return results with the strategy ID"
   ]
  },
  {
   "cell_type": "code",
   "execution_count": 19,
   "metadata": {},
   "outputs": [
    {
     "name": "stderr",
     "output_type": "stream",
     "text": [
      "[*********************100%%**********************]  1 of 1 completed"
     ]
    },
    {
     "name": "stderr",
     "output_type": "stream",
     "text": [
      "\n",
      "[*********************100%%**********************]  1 of 1 completed\n",
      "[*********************100%%**********************]  1 of 1 completed\n",
      "[*********************100%%**********************]  1 of 1 completed\n"
     ]
    },
    {
     "name": "stdout",
     "output_type": "stream",
     "text": [
      "[{'sharpe_ratio': -61.7130814514063, 'return': 0.000609949259972471, 'max_drawdown': 0.06566744297938924, 'win_trade': 41, 'loss_trade': 41, 'total_trade': 83, 'start_portfolio': 100000, 'final_portfolio': 100061.01353168488, 'strategyID': '835d26b638b3c1ad41e937244edcbb0e4c07a1751858a614d8ef7bfef3db14d9'}, {'sharpe_ratio': -67.16657940562777, 'return': 0.0007807301736037235, 'max_drawdown': 0.06516090691278884, 'win_trade': 33, 'loss_trade': 28, 'total_trade': 62, 'start_portfolio': 100000, 'final_portfolio': 100078.10350227356, 'strategyID': 'd5ae404d56032c803687294958cacbac5bc4c2dc621ff24de527a384d9939a96'}, {'sharpe_ratio': -68.5167074659037, 'return': 0.0007172750739617725, 'max_drawdown': 0.059044228582792645, 'win_trade': 39, 'loss_trade': 38, 'total_trade': 78, 'start_portfolio': 100000, 'final_portfolio': 100071.7532377243, 'strategyID': 'c345f00acc58e814f0bcae55910f47844750d1704ad40a0ada7715d21e2361bc'}, {'sharpe_ratio': -69.73404892808364, 'return': 0.0007514158957317705, 'max_drawdown': 0.06111359941634388, 'win_trade': 30, 'loss_trade': 25, 'total_trade': 56, 'start_portfolio': 100000, 'final_portfolio': 100075.16982793808, 'strategyID': 'dc55e5f3fbdd72240ff322482c3833d4955be0182555a77f4fc4a65731242bac'}]\n"
     ]
    }
   ],
   "source": [
    "import hashlib\n",
    "import json\n",
    "\n",
    "def generate_strategy_id(strategy_params, asset, start_date, end_date):\n",
    "    id_components = {\n",
    "        'strategy_params': strategy_params,\n",
    "        'asset': asset,\n",
    "        'start_date': start_date,\n",
    "        'end_date': end_date\n",
    "    }\n",
    "    serialized_components = json.dumps(id_components, sort_keys=True)\n",
    "    strategy_id = hashlib.sha256(serialized_components.encode()).hexdigest()\n",
    "    return strategy_id\n",
    "\n",
    "def run_many_backtests(asset, indicator_params_range, start_date, cash, commission):\n",
    "    combinations = generate_param_combinations(indicator_params_range)\n",
    "    all_results = []\n",
    "    for combination in combinations:\n",
    "        # Generate a unique strategyID for each set of parameters\n",
    "        strategy_id = generate_strategy_id(combination, asset, start_date, strategy['end_date'])\n",
    "        \n",
    "        # Here, you would run your backtest based on the strategy_params\n",
    "        # For demonstration, let's assume the backtest returns a dictionary of results\n",
    "        # Replace the following line with your actual backtest call\n",
    "\n",
    "        # backtest_results = {\"profit\": 1000, \"max_drawdown\": 5}  # Example results\n",
    "        backtest_results = prepare_and_run_backtest(strategy_params=combination)\n",
    "        \n",
    "        # Add the strategyID to the results\n",
    "        results_with_id = backtest_results.copy()\n",
    "        results_with_id['strategyID'] = strategy_id\n",
    "        \n",
    "        all_results.append(results_with_id)\n",
    "    return all_results\n",
    "\n",
    "# Your existing strategy setup\n",
    "strategy = {\n",
    "  \"start_date\": \"2022-12-19\",\n",
    "  \"end_date\": \"2023-02-19\",\n",
    "  \"indicator\": \"SmaCrossOver\",\n",
    "  \"indicator_params_range\": {\n",
    "    'pfast': [10, 15],\n",
    "    'pslow': [30, 40]\n",
    "  }\n",
    "}\n",
    "\n",
    "indicator_params_range = strategy['indicator_params_range']\n",
    "strategy_params = strategy['indicator_params_range']\n",
    "\n",
    "# Running backtests with the modified function\n",
    "results = run_many_backtests(\n",
    "  asset=\"GOOGL\",\n",
    "  indicator_params_range=indicator_params_range,\n",
    "  start_date=strategy[\"start_date\"],\n",
    "  cash=100000,\n",
    "  commission=0\n",
    ")\n",
    "\n",
    "# Example output\n",
    "print(results)"
   ]
  },
  {
   "cell_type": "code",
   "execution_count": 17,
   "metadata": {},
   "outputs": [
    {
     "data": {
      "text/plain": [
       "{'sharpe_ratio': -61.7130814514063,\n",
       " 'return': 0.000609949259972471,\n",
       " 'max_drawdown': 0.06566744297938924,\n",
       " 'win_trade': 41,\n",
       " 'loss_trade': 41,\n",
       " 'total_trade': 83,\n",
       " 'start_portfolio': 100000,\n",
       " 'final_portfolio': 100061.01353168488,\n",
       " 'strategyID': '835d26b638b3c1ad41e937244edcbb0e4c07a1751858a614d8ef7bfef3db14d9'}"
      ]
     },
     "execution_count": 17,
     "metadata": {},
     "output_type": "execute_result"
    }
   ],
   "source": [
    "results[0]"
   ]
  },
  {
   "cell_type": "markdown",
   "metadata": {},
   "source": [
    "#### Save the results to postgres db"
   ]
  },
  {
   "cell_type": "code",
   "execution_count": 21,
   "metadata": {},
   "outputs": [
    {
     "ename": "ImportError",
     "evalue": "cannot import name 'engine' from 'database_models' (/home/hilla/code/10Academy-training/week9/Backtesting-Infrastructure-CryptoTrading/database_models/__init__.py)",
     "output_type": "error",
     "traceback": [
      "\u001b[0;31m---------------------------------------------------------------------------\u001b[0m",
      "\u001b[0;31mImportError\u001b[0m                               Traceback (most recent call last)",
      "Cell \u001b[0;32mIn[21], line 2\u001b[0m\n\u001b[1;32m      1\u001b[0m \u001b[38;5;28;01mfrom\u001b[39;00m \u001b[38;5;21;01msqlalchemy\u001b[39;00m\u001b[38;5;21;01m.\u001b[39;00m\u001b[38;5;21;01morm\u001b[39;00m \u001b[38;5;28;01mimport\u001b[39;00m sessionmaker\n\u001b[0;32m----> 2\u001b[0m \u001b[38;5;28;01mfrom\u001b[39;00m \u001b[38;5;21;01mdatabase_models\u001b[39;00m \u001b[38;5;28;01mimport\u001b[39;00m engine, BacktestResult, Dim_Date\n\u001b[1;32m      3\u001b[0m \u001b[38;5;28;01mfrom\u001b[39;00m \u001b[38;5;21;01mdatetime\u001b[39;00m \u001b[38;5;28;01mimport\u001b[39;00m datetime\n\u001b[1;32m      5\u001b[0m \u001b[38;5;66;03m# The backtest results dictionary\u001b[39;00m\n",
      "\u001b[0;31mImportError\u001b[0m: cannot import name 'engine' from 'database_models' (/home/hilla/code/10Academy-training/week9/Backtesting-Infrastructure-CryptoTrading/database_models/__init__.py)"
     ]
    }
   ],
   "source": [
    "from sqlalchemy.orm import sessionmaker\n",
    "from database_models import engine, BacktestResult, Dim_Date\n",
    "from datetime import datetime\n",
    "\n",
    "# The backtest results dictionary\n",
    "results = {\n",
    "    'sharpe_ratio': -58.66063557429906,\n",
    "    'return': 0.0016255774658640904,\n",
    "    'max_drawdown': 0.023526728407521492,\n",
    "    'win_trade': 7,\n",
    "    'loss_trade': 3,\n",
    "    'total_trade': 11,\n",
    "    'start_portfolio': 100000,\n",
    "    'final_portfolio': 100162.6899433136\n",
    "}\n",
    "\n",
    "# Create a session\n",
    "\n",
    "\n",
    "# Correctly querying Dim_Date and handling the result\n",
    "current_date = datetime.now().date()\n",
    "date_record = session.query(Dim_Date).filter_by(Date=current_date).first()\n",
    "if not date_record:\n",
    "    date_record = Dim_Date(Date=current_date)\n",
    "    session.add(date_record)\n",
    "    session.commit()\n",
    "\n",
    "# Create a new BacktestResult record\n",
    "backtest_result = BacktestResult(\n",
    "    SharpeRatio=results['sharpe_ratio'],\n",
    "    TotalReturn=results['return'],\n",
    "    MaxDrawdown=results['max_drawdown'],\n",
    "    WinningTrades=results['win_trade'],\n",
    "    LosingTrades=results['loss_trade'],\n",
    "    TradeCount=results['total_trade'],\n",
    "    DateKey=date_record.DateKey,\n",
    "    StartPortfolio=results['start_portfolio'],\n",
    "    FinalPortfolio=results['final_portfolio']\n",
    ")\n",
    "\n",
    "# Add the new record to the session and commit it\n",
    "session.add(backtest_result)\n",
    "session.commit()\n",
    "\n",
    "print(\"SUCCESS - Backtest result added to the database.\")"
   ]
  },
  {
   "cell_type": "markdown",
   "metadata": {},
   "source": [
    "#### Save assets and stock data to postgres db"
   ]
  },
  {
   "cell_type": "code",
   "execution_count": 24,
   "metadata": {},
   "outputs": [],
   "source": [
    "from datetime import datetime\n",
    "import yfinance as yf\n",
    "from sqlalchemy.orm.exc import NoResultFound\n",
    "from database_models import init_db, Dim_Assets, Dim_Date, Fact_StockPrices\n",
    "\n",
    "# Initialize database session\n",
    "session = init_db()\n",
    "\n",
    "def save_assets_and_stock_data(top_5_stocks):\n",
    "  # Create or Update Assets in the Database\n",
    "  for stock in top_5_stocks:\n",
    "    try:\n",
    "      # Check if the asset already exists\n",
    "      asset = session.query(Dim_Assets).filter_by(TickerSymbol=stock[\"ticker\"]).one()\n",
    "    except NoResultFound:\n",
    "      # If not, create a new asset with AssetType\n",
    "      asset = Dim_Assets(TickerSymbol=stock[\"ticker\"], AssetName=stock[\"name\"], AssetType=stock[\"type\"])\n",
    "      session.add(asset)\n",
    "  session.commit()  # Commit once after adding all new assets\n",
    "\n",
    "  # Fetch and Save Stock Data\n",
    "  for stock in top_5_stocks:\n",
    "    ticker = stock[\"ticker\"]\n",
    "    stock_data = yf.Ticker(ticker)\n",
    "    hist = stock_data.history(period=\"1mo\")\n",
    "    \n",
    "    # Get the AssetID\n",
    "    asset = session.query(Dim_Assets).filter_by(TickerSymbol=ticker).one()\n",
    "    asset_id = asset.AssetID\n",
    "    \n",
    "    for index, row in hist.iterrows():\n",
    "      date_key = int(index.strftime('%Y%m%d'))\n",
    "      # Ensure the date entry exists\n",
    "      date_entry = session.query(Dim_Date).filter_by(DateKey=date_key).first()\n",
    "      if not date_entry:\n",
    "        date_entry = Dim_Date(DateKey=date_key, Date=index.date(), Year=index.year, Quarter=index.quarter, Month=index.month, Day=index.day)\n",
    "        session.add(date_entry)\n",
    "        session.commit()\n",
    "      \n",
    "      # Check if a stock price for this date and asset already exists\n",
    "      existing_stock_price = session.query(Fact_StockPrices).filter_by(DateKey=date_key, AssetID=asset_id).first()\n",
    "      if not existing_stock_price:\n",
    "        stock_price = Fact_StockPrices(\n",
    "          DateKey=date_key,\n",
    "          AssetID=asset_id,\n",
    "          Open=row['Open'].item(),\n",
    "          High=row['High'].item(),\n",
    "          Low=row['Low'].item(),\n",
    "          Close=row['Close'].item()\n",
    "        )\n",
    "        session.add(stock_price)\n",
    "    session.commit()\n",
    "\n",
    "# Define the Top 5 Stock Companies\n",
    "top_5_stocks = [\n",
    "  {\"ticker\": \"AAPL\", \"name\": \"Apple Inc.\", \"type\": \"Stock\"},\n",
    "  {\"ticker\": \"MSFT\", \"name\": \"Microsoft Corporation\", \"type\": \"Stock\"},\n",
    "  {\"ticker\": \"GOOGL\", \"name\": \"Alphabet Inc.\", \"type\": \"Stock\"},\n",
    "  {\"ticker\": \"AMZN\", \"name\": \"Amazon.com, Inc.\", \"type\": \"Stock\"},\n",
    "  {\"ticker\": \"Meta\", \"name\": \"Meta Platforms, Inc.\", \"type\": \"Stock\"}\n",
    "]\n",
    "\n",
    "# Call the function with the top 5 stocks\n",
    "save_assets_and_stock_data(top_5_stocks)\n",
    "\n",
    "# Close the session\n",
    "session.close()"
   ]
  },
  {
   "cell_type": "code",
   "execution_count": null,
   "metadata": {},
   "outputs": [],
   "source": []
  }
 ],
 "metadata": {
  "kernelspec": {
   "display_name": ".venv",
   "language": "python",
   "name": "python3"
  },
  "language_info": {
   "codemirror_mode": {
    "name": "ipython",
    "version": 3
   },
   "file_extension": ".py",
   "mimetype": "text/x-python",
   "name": "python",
   "nbconvert_exporter": "python",
   "pygments_lexer": "ipython3",
   "version": "3.9.19"
  }
 },
 "nbformat": 4,
 "nbformat_minor": 2
}
