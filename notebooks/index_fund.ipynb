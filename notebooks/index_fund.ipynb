{
 "cells": [
  {
   "cell_type": "code",
   "execution_count": 13,
   "metadata": {},
   "outputs": [],
   "source": [
    "import os\n",
    "import requests\n",
    "import pandas as pd\n",
    "from dotenv import load_dotenv\n",
    "from datetime import datetime, timedelta\n",
    "import time"
   ]
  },
  {
   "cell_type": "code",
   "execution_count": 14,
   "metadata": {},
   "outputs": [],
   "source": [
    "# Load environment variables from .env file\n",
    "load_dotenv()\n",
    "\n",
    "# CoinMarketCap API URL\n",
    "url = \"https://pro-api.coinmarketcap.com/v1/cryptocurrency/listings/latest\"\n",
    "\n",
    "# Fetch API key from environment variables\n",
    "api_key = os.getenv('COINMARKETCAP_API_KEY')"
   ]
  },
  {
   "cell_type": "code",
   "execution_count": 15,
   "metadata": {},
   "outputs": [
    {
     "name": "stdout",
     "output_type": "stream",
     "text": [
      "Top 10 Cryptocurrencies by Market Capitalization:\n",
      "          name symbol    weight\n",
      "0      Bitcoin    BTC  0.607994\n",
      "1     Ethereum    ETH  0.204847\n",
      "2  Tether USDt   USDT  0.057246\n",
      "3          BNB    BNB  0.042742\n",
      "4       Solana    SOL  0.031767\n",
      "5         USDC   USDC  0.016555\n",
      "6          XRP    XRP  0.013373\n",
      "7      Toncoin    TON  0.009463\n",
      "8     Dogecoin   DOGE  0.008975\n",
      "9      Cardano    ADA  0.007037\n",
      "\n",
      "Waiting until 2024-07-25 10:31:42 for next update...\n",
      "\n"
     ]
    },
    {
     "ename": "KeyboardInterrupt",
     "evalue": "",
     "output_type": "error",
     "traceback": [
      "\u001b[0;31m---------------------------------------------------------------------------\u001b[0m",
      "\u001b[0;31mKeyboardInterrupt\u001b[0m                         Traceback (most recent call last)",
      "Cell \u001b[0;32mIn[15], line 77\u001b[0m\n\u001b[1;32m     74\u001b[0m         prev_total_market_cap \u001b[38;5;241m=\u001b[39m total_market_cap\n\u001b[1;32m     76\u001b[0m \u001b[38;5;66;03m# Start the monthly update process\u001b[39;00m\n\u001b[0;32m---> 77\u001b[0m \u001b[43mupdate_index_fund\u001b[49m\u001b[43m(\u001b[49m\u001b[43m)\u001b[49m\n",
      "Cell \u001b[0;32mIn[15], line 58\u001b[0m, in \u001b[0;36mupdate_index_fund\u001b[0;34m()\u001b[0m\n\u001b[1;32m     56\u001b[0m next_month \u001b[38;5;241m=\u001b[39m datetime\u001b[38;5;241m.\u001b[39mnow() \u001b[38;5;241m+\u001b[39m timedelta(days\u001b[38;5;241m=\u001b[39m\u001b[38;5;241m30\u001b[39m)\n\u001b[1;32m     57\u001b[0m \u001b[38;5;28mprint\u001b[39m(\u001b[38;5;124mf\u001b[39m\u001b[38;5;124m\"\u001b[39m\u001b[38;5;130;01m\\n\u001b[39;00m\u001b[38;5;124mWaiting until \u001b[39m\u001b[38;5;132;01m{\u001b[39;00mnext_month\u001b[38;5;241m.\u001b[39mstrftime(\u001b[38;5;124m'\u001b[39m\u001b[38;5;124m%\u001b[39m\u001b[38;5;124mY-\u001b[39m\u001b[38;5;124m%\u001b[39m\u001b[38;5;124mm-\u001b[39m\u001b[38;5;132;01m%d\u001b[39;00m\u001b[38;5;124m \u001b[39m\u001b[38;5;124m%\u001b[39m\u001b[38;5;124mH:\u001b[39m\u001b[38;5;124m%\u001b[39m\u001b[38;5;124mM:\u001b[39m\u001b[38;5;124m%\u001b[39m\u001b[38;5;124mS\u001b[39m\u001b[38;5;124m'\u001b[39m)\u001b[38;5;132;01m}\u001b[39;00m\u001b[38;5;124m for next update...\u001b[39m\u001b[38;5;130;01m\\n\u001b[39;00m\u001b[38;5;124m\"\u001b[39m)\n\u001b[0;32m---> 58\u001b[0m \u001b[43mtime\u001b[49m\u001b[38;5;241;43m.\u001b[39;49m\u001b[43msleep\u001b[49m\u001b[43m(\u001b[49m\u001b[43m(\u001b[49m\u001b[43mnext_month\u001b[49m\u001b[43m \u001b[49m\u001b[38;5;241;43m-\u001b[39;49m\u001b[43m \u001b[49m\u001b[43mdatetime\u001b[49m\u001b[38;5;241;43m.\u001b[39;49m\u001b[43mnow\u001b[49m\u001b[43m(\u001b[49m\u001b[43m)\u001b[49m\u001b[43m)\u001b[49m\u001b[38;5;241;43m.\u001b[39;49m\u001b[43mtotal_seconds\u001b[49m\u001b[43m(\u001b[49m\u001b[43m)\u001b[49m\u001b[43m)\u001b[49m\n\u001b[1;32m     60\u001b[0m \u001b[38;5;66;03m# Fetch and process updated data\u001b[39;00m\n\u001b[1;32m     61\u001b[0m index_df, total_market_cap \u001b[38;5;241m=\u001b[39m fetch_process_data()\n",
      "\u001b[0;31mKeyboardInterrupt\u001b[0m: "
     ]
    }
   ],
   "source": [
    "# Function to fetch and process data\n",
    "def fetch_process_data():\n",
    "        # Parameters for the request\n",
    "        parameters = {\n",
    "            'start': '1',\n",
    "            'limit': '100',  # Fetching top 100 cryptocurrencies\n",
    "            'convert': 'USD'\n",
    "        }\n",
    "\n",
    "        # Headers containing your API key\n",
    "        headers = {\n",
    "            'Accepts': 'application/json',\n",
    "            'X-CMC_PRO_API_KEY': api_key,\n",
    "        }\n",
    "\n",
    "        # Make a GET request to the CoinMarketCap API\n",
    "        response = requests.get(url, headers=headers, params=parameters)\n",
    "        \n",
    "        # Check for HTTP errors\n",
    "        response.raise_for_status()\n",
    "        \n",
    "        # Load data into pandas DataFrame\n",
    "        data = response.json()\n",
    "        df = pd.json_normalize(data['data'])  # Normalize JSON data into DataFrame\n",
    "\n",
    "        # Filter out stablecoins (assuming stablecoins have 'True' in 'platform.name' field)\n",
    "        df_filtered = df[~df['tags'].apply(lambda x: 'Stablecoin' in x if isinstance(x, list) else False)]\n",
    "\n",
    "        # Sort by market capitalization and select the top 10 cryptocurrencies\n",
    "        df_filtered_sorted = df_filtered.sort_values(by='quote.USD.market_cap', ascending=False).head(10)\n",
    "\n",
    "        # Calculate weights based on market capitalization\n",
    "        total_market_cap = df_filtered_sorted['quote.USD.market_cap'].sum()\n",
    "        df_filtered_sorted['weight'] = df_filtered_sorted['quote.USD.market_cap'] / total_market_cap\n",
    "\n",
    "        # Create an index DataFrame\n",
    "        index_df = df_filtered_sorted[['name', 'symbol', 'weight']]\n",
    "\n",
    "        return index_df, total_market_cap\n",
    "\n",
    "# Function to update the index fund monthly\n",
    "def update_index_fund():\n",
    "    # Initial fetch and process data\n",
    "    index_df, prev_total_market_cap = fetch_process_data()\n",
    "\n",
    "    if index_df is None:\n",
    "        return\n",
    "\n",
    "    # Print initial index\n",
    "    print(\"Top 10 Cryptocurrencies by Market Capitalization:\")\n",
    "    print(index_df)\n",
    "\n",
    "    # Loop to simulate monthly updates\n",
    "    while True:\n",
    "        # Wait for the next month\n",
    "        next_month = datetime.now() + timedelta(days=30)\n",
    "        print(f\"\\nWaiting until {next_month.strftime('%Y-%m-%d %H:%M:%S')} for next update...\\n\")\n",
    "        time.sleep((next_month - datetime.now()).total_seconds())\n",
    "\n",
    "        # Fetch and process updated data\n",
    "        index_df, total_market_cap = fetch_process_data()\n",
    "\n",
    "        if index_df is None:\n",
    "            continue\n",
    "\n",
    "        # Calculate updated weights based on the new total market capitalization\n",
    "        index_df['weight'] = index_df['quote.USD.market_cap'] / total_market_cap\n",
    "\n",
    "        # Print updated index\n",
    "        print(f\"Top 10 Cryptocurrencies by Market Capitalization as of {datetime.now().strftime('%Y-%m-%d %H:%M:%S')}:\")\n",
    "        print(index_df)\n",
    "\n",
    "        # Update previous total market capitalization for the next iteration\n",
    "        prev_total_market_cap = total_market_cap\n",
    "\n",
    "# Start the monthly update process\n",
    "update_index_fund()\n"
   ]
  }
 ],
 "metadata": {
  "kernelspec": {
   "display_name": "myenv",
   "language": "python",
   "name": "python3"
  },
  "language_info": {
   "codemirror_mode": {
    "name": "ipython",
    "version": 3
   },
   "file_extension": ".py",
   "mimetype": "text/x-python",
   "name": "python",
   "nbconvert_exporter": "python",
   "pygments_lexer": "ipython3",
   "version": "3.12.3"
  }
 },
 "nbformat": 4,
 "nbformat_minor": 2
}
