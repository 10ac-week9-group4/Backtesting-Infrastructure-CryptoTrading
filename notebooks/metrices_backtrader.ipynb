{
 "cells": [
  {
   "cell_type": "code",
   "execution_count": 13,
   "metadata": {},
   "outputs": [],
   "source": [
    "import yfinance as yf\n",
    "import pandas as pd\n",
    "import backtrader as bt\n",
    "from datetime import datetime\n",
    "import os\n",
    "import sys\n",
    "import json\n",
    "from backtrader.analyzers import Returns,DrawDown,SharpeRatio,TradeAnalyzer"
   ]
  },
  {
   "cell_type": "code",
   "execution_count": 14,
   "metadata": {},
   "outputs": [],
   "source": [
    "# import strategies\n",
    "sys.path.append('../strategies/')\n",
    "from Test_Strategy import TestStrategy\n",
    "from SMA import SMA\n",
    "from SMA_RSI import SMA_RSI"
   ]
  },
  {
   "cell_type": "code",
   "execution_count": 15,
   "metadata": {},
   "outputs": [],
   "source": [
    "def prepare_cerebro(asset,strategy,data_path,start_date:str,end_date:str=datetime.now(),cash:int=100000,commission:float=0)->bt.Cerebro:\n",
    "    if end_date ==None:\n",
    "        end_date= datetime.strftime(datetime.now(),\"%Y-%m-%d\")\n",
    "\n",
    "    cerebro = bt.Cerebro()\n",
    "    cerebro.broker.setcash(cash)\n",
    "    cerebro.broker.setcommission(commission=commission)\n",
    "    cerebro.addstrategy(strategy)\n",
    "    \n",
    "    isExist = os.path.exists(data_path)\n",
    "    if not isExist:\n",
    "        data= yf.download(asset,start_date,end=end_date)\n",
    "        data.to_csv(data_path)\n",
    "    \n",
    "    data = bt.feeds.YahooFinanceCSVData(\n",
    "        dataname=data_path,\n",
    "        fromdate=datetime.strptime(start_date,\"%Y-%m-%d\"),\n",
    "        todate=datetime.strptime(end_date,\"%Y-%m-%d\"),\n",
    "        reverse=False\n",
    "    )\n",
    "\n",
    "    cerebro.adddata(data)\n",
    "    # cerebro.addanalyzer(AnnualReturn)\n",
    "    cerebro.addanalyzer(TradeAnalyzer)\n",
    "    return cerebro"
   ]
  },
  {
   "cell_type": "code",
   "execution_count": 16,
   "metadata": {},
   "outputs": [],
   "source": [
    "def run_test(cerebro:bt.Cerebro):\n",
    "\n",
    "    result={}\n",
    "\n",
    "    cerebro.addanalyzer(SharpeRatio, _name='sharpe')\n",
    "    cerebro.addanalyzer(Returns, _name='returns')\n",
    "    cerebro.addanalyzer(DrawDown, _name='draw')\n",
    "    cerebro.addanalyzer(TradeAnalyzer, _name='trade')\n",
    "    \n",
    "    starting = cerebro.broker.getvalue()\n",
    "    res=cerebro.run()\n",
    "    final=cerebro.broker.getvalue()\n",
    "\n",
    "    thestrat = res[0]\n",
    "\n",
    "    sharpe=thestrat.analyzers.sharpe.get_analysis()\n",
    "    return_val=thestrat.analyzers.returns.get_analysis()\n",
    "    drawdown=thestrat.analyzers.draw.get_analysis()\n",
    "    trade=thestrat.analyzers.trade.get_analysis()\n",
    "\n",
    "    result[\"sharpe_ratio\"]=sharpe['sharperatio']\n",
    "    result[\"return\"]=return_val['rtot']\n",
    "    result['max_drawdown'] = drawdown['max']['drawdown']\n",
    "    \n",
    "    try:\n",
    "        result['win_trade']=trade['won']['total']\n",
    "    except:\n",
    "        result['win_trade']=\"Undefined\"\n",
    "    \n",
    "    try:\n",
    "        result['loss_trade']=trade['lost']['total']\n",
    "    except:\n",
    "        result['loss_trade']=\"Undefined\"\n",
    "\n",
    "    try:\n",
    "        result['total_trade']=trade['total']['total']\n",
    "    except:\n",
    "        result['total_trade']=\"Undefined\"\n",
    "\n",
    "    result['start_portfolio']=starting\n",
    "    result['final_portfolio']=final\n",
    "\n",
    "    return result"
   ]
  },
  {
   "cell_type": "code",
   "execution_count": 22,
   "metadata": {},
   "outputs": [
    {
     "data": {
      "text/plain": [
       "{'sharpe_ratio': None,\n",
       " 'return': 0.012814048279627026,\n",
       " 'max_drawdown': 8.334746138768745,\n",
       " 'win_trade': 'Undefined',\n",
       " 'loss_trade': 'Undefined',\n",
       " 'total_trade': 1,\n",
       " 'start_portfolio': 100000,\n",
       " 'final_portfolio': 101289.65}"
      ]
     },
     "execution_count": 22,
     "metadata": {},
     "output_type": "execute_result"
    }
   ],
   "source": [
    "cerebro=prepare_cerebro('BTC',TestStrategy,\"../data/BTC-USD.csv\",\"2024-04-19\",\"2024-06-19\")\n",
    "\n",
    "result=run_test(cerebro)\n",
    "result"
   ]
  }
 ],
 "metadata": {
  "kernelspec": {
   "display_name": "Python 3",
   "language": "python",
   "name": "python3"
  },
  "language_info": {
   "codemirror_mode": {
    "name": "ipython",
    "version": 3
   },
   "file_extension": ".py",
   "mimetype": "text/x-python",
   "name": "python",
   "nbconvert_exporter": "python",
   "pygments_lexer": "ipython3",
   "version": "3.10.12"
  }
 },
 "nbformat": 4,
 "nbformat_minor": 2
}
