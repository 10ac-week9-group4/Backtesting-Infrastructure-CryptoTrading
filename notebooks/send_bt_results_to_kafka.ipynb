{
 "cells": [
  {
   "cell_type": "code",
   "execution_count": 1,
   "metadata": {},
   "outputs": [
    {
     "name": "stderr",
     "output_type": "stream",
     "text": [
      "[*********************100%%**********************]  1 of 1 completed\n"
     ]
    },
    {
     "data": {
      "text/plain": [
       "{'sharpe_ratio': -58.66063557429906,\n",
       " 'return': 0.0016255774658640904,\n",
       " 'max_drawdown': 0.023526728407521492,\n",
       " 'win_trade': 7,\n",
       " 'loss_trade': 3,\n",
       " 'total_trade': 11,\n",
       " 'start_portfolio': 100000,\n",
       " 'final_portfolio': 100162.6899433136}"
      ]
     },
     "execution_count": 1,
     "metadata": {},
     "output_type": "execute_result"
    }
   ],
   "source": [
    "import os\n",
    "os.chdir(\"../../\")\n",
    "from src.backtesting.run_backtest import prepare_and_run_backtest\n",
    "\n",
    "result=prepare_and_run_backtest()\n",
    "result"
   ]
  },
  {
   "cell_type": "code",
   "execution_count": null,
   "metadata": {},
   "outputs": [],
   "source": []
  },
  {
   "cell_type": "code",
   "execution_count": 9,
   "metadata": {},
   "outputs": [],
   "source": [
    "from sqlalchemy.orm import sessionmaker\n",
    "from models import engine, BacktestResult, Dim_Date\n",
    "from datetime import datetime\n",
    "\n",
    "# Your results dictionary\n",
    "results = {\n",
    "    'sharpe_ratio': -58.66063557429906,\n",
    "    'return': 0.0016255774658640904,\n",
    "    'max_drawdown': 0.023526728407521492,\n",
    "    'win_trade': 7,\n",
    "    'loss_trade': 3,\n",
    "    'total_trade': 11,\n",
    "    'start_portfolio': 100000,\n",
    "    'final_portfolio': 100162.6899433136\n",
    "}\n",
    "\n",
    "# Create a session\n",
    "Session = sessionmaker(bind=engine)\n",
    "session = Session()\n",
    "\n",
    "# Correctly querying Dim_Date and handling the result\n",
    "current_date = datetime.now().date()\n",
    "date_record = session.query(Dim_Date).filter_by(Date=current_date).first()\n",
    "if not date_record:\n",
    "    date_record = Dim_Date(Date=current_date)  # Correct column name\n",
    "    session.add(date_record)\n",
    "    session.commit()\n",
    "\n",
    "# Create a new BacktestResult record (uncommented and assuming corrections are made)\n",
    "backtest_result = BacktestResult(\n",
    "    SharpeRatio=results['sharpe_ratio'],\n",
    "    TotalReturn=results['return'],\n",
    "    MaxDrawdown=results['max_drawdown'],\n",
    "    WinningTrades=results['win_trade'],\n",
    "    LosingTrades=results['loss_trade'],\n",
    "    TradeCount=results['total_trade'],\n",
    "    DateKey=date_record.DateKey  # Ensure this is the correct reference\n",
    ")\n",
    "\n",
    "# Add the new record to the session and commit it\n",
    "session.add(backtest_result)\n",
    "session.commit()"
   ]
  },
  {
   "cell_type": "code",
   "execution_count": null,
   "metadata": {},
   "outputs": [],
   "source": []
  }
 ],
 "metadata": {
  "kernelspec": {
   "display_name": ".venv",
   "language": "python",
   "name": "python3"
  },
  "language_info": {
   "codemirror_mode": {
    "name": "ipython",
    "version": 3
   },
   "file_extension": ".py",
   "mimetype": "text/x-python",
   "name": "python",
   "nbconvert_exporter": "python",
   "pygments_lexer": "ipython3",
   "version": "3.9.19"
  }
 },
 "nbformat": 4,
 "nbformat_minor": 2
}
