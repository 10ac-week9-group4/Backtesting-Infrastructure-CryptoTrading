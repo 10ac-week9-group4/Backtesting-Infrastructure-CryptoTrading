{
 "cells": [
  {
   "cell_type": "code",
   "execution_count": 21,
   "metadata": {},
   "outputs": [],
   "source": [
    "import yfinance as yf\n",
    "import pandas as pd\n",
    "from datetime import datetime, timedelta\n",
    "import numpy as np\n",
    "from scipy.optimize import minimize"
   ]
  },
  {
   "cell_type": "code",
   "execution_count": 22,
   "metadata": {},
   "outputs": [],
   "source": [
    "tickers = ['BTC','SOL','LINK','LTC','UNI','VET']\n",
    "end_date = datetime.today()\n",
    "start_date = end_date - timedelta(days = 5*365)"
   ]
  },
  {
   "cell_type": "code",
   "execution_count": 23,
   "metadata": {},
   "outputs": [
    {
     "name": "stderr",
     "output_type": "stream",
     "text": [
      "[*********************100%%**********************]  1 of 1 completed\n",
      "[*********************100%%**********************]  1 of 1 completed\n",
      "[*********************100%%**********************]  1 of 1 completed\n",
      "[*********************100%%**********************]  1 of 1 completed\n",
      "[*********************100%%**********************]  1 of 1 completed\n",
      "[*********************100%%**********************]  1 of 1 completed\n"
     ]
    }
   ],
   "source": [
    "adj_close_df = pd.DataFrame()\n",
    "for ticker in tickers:\n",
    "    data = yf.download(ticker, start = start_date,end = end_date)\n",
    "    adj_close_df[ticker] = data['Adj Close']"
   ]
  },
  {
   "cell_type": "code",
   "execution_count": 24,
   "metadata": {},
   "outputs": [],
   "source": [
    "log_returns = np.log(adj_close_df/adj_close_df.shift(1))"
   ]
  },
  {
   "cell_type": "code",
   "execution_count": 25,
   "metadata": {},
   "outputs": [],
   "source": [
    "#log_returns = log_returns.dropna()"
   ]
  },
  {
   "cell_type": "code",
   "execution_count": 26,
   "metadata": {},
   "outputs": [
    {
     "name": "stdout",
     "output_type": "stream",
     "text": [
      "           BTC       SOL      LINK       LTC          UNI       VET\n",
      "BTC   0.001392  0.002926 -0.000211  0.001256     0.000962 -0.001010\n",
      "SOL   0.002926  0.874495 -0.016111  0.027054     0.010865  0.079842\n",
      "LINK -0.000211 -0.016111  0.463099  0.008732     0.114427  0.031158\n",
      "LTC   0.001256  0.027054  0.008732  0.051275    -1.004799  0.029206\n",
      "UNI   0.000962  0.010865  0.114427 -1.004799  1101.202903  1.420500\n",
      "VET  -0.001010  0.079842  0.031158  0.029206     1.420500  0.355835\n"
     ]
    }
   ],
   "source": [
    "cov_matrix = log_returns.cov() * 252\n",
    "print(cov_matrix)"
   ]
  },
  {
   "cell_type": "code",
   "execution_count": 27,
   "metadata": {},
   "outputs": [],
   "source": [
    "def standard_deviation(weights, cov_matrix):\n",
    "    variance = weights.T @ cov_matrix @ weights\n",
    "    return np.sqrt(variance)\n",
    "\n",
    "def expected_return(weights, log_returns):\n",
    "    return np.sum(log_returns.mean()*weights)*252\n",
    "\n",
    "def sharpe_ratio(weights, log_returns, cov_matrix, risk_free_rate):\n",
    "    return (expected_return(weights, log_returns) - risk_free_rate) / standard_deviation(weights, cov_matrix)"
   ]
  },
  {
   "cell_type": "code",
   "execution_count": 28,
   "metadata": {},
   "outputs": [],
   "source": [
    "# Objective function for optimization (negative Sharpe ratio for maximization)\n",
    "def objective_function(weights, log_returns, cov_matrix, risk_free_rate, mode='maximize_sharpe'):\n",
    "    if mode == 'maximize_sharpe':\n",
    "        return -sharpe_ratio(weights, log_returns, cov_matrix, risk_free_rate)\n",
    "    elif mode == 'minimize_volatility':\n",
    "        return standard_deviation(weights, cov_matrix)"
   ]
  },
  {
   "cell_type": "code",
   "execution_count": 29,
   "metadata": {},
   "outputs": [],
   "source": [
    "risk_free_rate = .02\n",
    "\n",
    "#def neg_sharpe_ratio(weights, log_returns, cov_matrix, risk_free_rate):\n",
    "    #return -sharpe_ratio(weights, log_returns, cov_matrix, risk_free_rate)\n",
    "\n",
    "constraints = {'type': 'eq', 'fun': lambda weights: np.sum(weights) - 1}\n",
    "bounds = [(0, 0.4) for _ in range(len(tickers))]\n",
    "initial_weights = np.array([1/len(tickers)]*len(tickers))\n",
    "\n",
    "#optimized_results = minimize(neg_sharpe_ratio, initial_weights, args=(log_returns, cov_matrix, risk_free_rate), method='SLSQP', constraints=constraints, bounds=bounds)"
   ]
  },
  {
   "cell_type": "markdown",
   "metadata": {},
   "source": [
    "Analyze the Optimal Portfolio"
   ]
  },
  {
   "cell_type": "code",
   "execution_count": 30,
   "metadata": {},
   "outputs": [
    {
     "name": "stdout",
     "output_type": "stream",
     "text": [
      "Optimal Weights (Highest Sharpe Ratio):\n",
      "BTC: 0.4000\n",
      "SOL: 0.0000\n",
      "LINK: 0.0640\n",
      "LTC: 0.1360\n",
      "UNI: 0.0000\n",
      "VET: 0.4000\n",
      "\n",
      "Expected Annual Return (Highest Sharpe Ratio): 0.1723\n",
      "Volatility (Risk): 0.2544\n",
      "Sharpe Ratio: 0.5985\n",
      "\n",
      "Optimal Weights (Lowest Volatility):\n",
      "BTC: 0.4000\n",
      "SOL: 0.0326\n",
      "LINK: 0.0868\n",
      "LTC: 0.4000\n",
      "UNI: 0.0003\n",
      "VET: 0.0803\n",
      "\n",
      "Expected Annual Return (Lowest Volatility): 0.0266\n",
      "Volatility (Risk): 0.1394\n"
     ]
    }
   ],
   "source": [
    "# Optimization for highest Sharpe ratio\n",
    "optimized_results_sharpe = minimize(objective_function, initial_weights, args=(log_returns, cov_matrix, risk_free_rate, 'maximize_sharpe'), method='SLSQP', constraints=constraints, bounds=bounds)\n",
    "optimal_weights_sharpe = optimized_results_sharpe.x\n",
    "\n",
    "# Optimization for lowest volatility (risk)\n",
    "optimized_results_volatility = minimize(objective_function, initial_weights, args=(log_returns, cov_matrix, risk_free_rate, 'minimize_volatility'), method='SLSQP', constraints=constraints, bounds=bounds)\n",
    "optimal_weights_volatility = optimized_results_volatility.x\n",
    "\n",
    "# Print optimal weights and portfolio statistics for highest Sharpe ratio\n",
    "print(\"Optimal Weights (Highest Sharpe Ratio):\")\n",
    "for ticker, weight in zip(tickers, optimal_weights_sharpe):\n",
    "    print(f\"{ticker}: {weight:.4f}\")\n",
    "\n",
    "optimal_portfolio_return_sharpe = expected_return(optimal_weights_sharpe, log_returns)\n",
    "optimal_portfolio_volatility_sharpe = standard_deviation(optimal_weights_sharpe, cov_matrix)\n",
    "optimal_sharpe_ratio = sharpe_ratio(optimal_weights_sharpe, log_returns, cov_matrix, risk_free_rate)\n",
    "\n",
    "print(f\"\\nExpected Annual Return (Highest Sharpe Ratio): {optimal_portfolio_return_sharpe:.4f}\")\n",
    "print(f\"Volatility (Risk): {optimal_portfolio_volatility_sharpe:.4f}\")\n",
    "print(f\"Sharpe Ratio: {optimal_sharpe_ratio:.4f}\")\n",
    "\n",
    "# Print optimal weights and portfolio statistics for lowest volatility\n",
    "print(\"\\nOptimal Weights (Lowest Volatility):\")\n",
    "for ticker, weight in zip(tickers, optimal_weights_volatility):\n",
    "    print(f\"{ticker}: {weight:.4f}\")\n",
    "\n",
    "optimal_portfolio_return_volatility = expected_return(optimal_weights_volatility, log_returns)\n",
    "optimal_portfolio_volatility_volatility = standard_deviation(optimal_weights_volatility, cov_matrix)\n",
    "\n",
    "print(f\"\\nExpected Annual Return (Lowest Volatility): {optimal_portfolio_return_volatility:.4f}\")\n",
    "print(f\"Volatility (Risk): {optimal_portfolio_volatility_volatility:.4f}\")"
   ]
  },
  {
   "cell_type": "code",
   "execution_count": 31,
   "metadata": {},
   "outputs": [
    {
     "data": {
      "image/png": "[encoded data removed]",
      "text/plain": [
       "<Figure size 1200x600 with 2 Axes>"
      ]
     },
     "metadata": {},
     "output_type": "display_data"
    }
   ],
   "source": [
    "# Plotting optimal portfolio weights\n",
    "import matplotlib.pyplot as plt\n",
    "\n",
    "plt.figure(figsize=(12, 6))\n",
    "\n",
    "plt.subplot(1, 2, 1)\n",
    "plt.bar(tickers, optimal_weights_sharpe)\n",
    "plt.xlabel('Assets')\n",
    "plt.ylabel('Optimal Weights')\n",
    "plt.title('Optimal Portfolio Weights (Highest Sharpe Ratio)')\n",
    "\n",
    "plt.subplot(1, 2, 2)\n",
    "plt.bar(tickers, optimal_weights_volatility)\n",
    "plt.xlabel('Assets')\n",
    "plt.ylabel('Optimal Weights')\n",
    "plt.title('Optimal Portfolio Weights (Lowest Volatility)')\n",
    "\n",
    "plt.tight_layout()\n",
    "plt.show()\n"
   ]
  }
 ],
 "metadata": {
  "kernelspec": {
   "display_name": "myenv",
   "language": "python",
   "name": "python3"
  },
  "language_info": {
   "codemirror_mode": {
    "name": "ipython",
    "version": 3
   },
   "file_extension": ".py",
   "mimetype": "text/x-python",
   "name": "python",
   "nbconvert_exporter": "python",
   "pygments_lexer": "ipython3",
   "version": "3.12.3"
  }
 },
 "nbformat": 4,
 "nbformat_minor": 2
}
