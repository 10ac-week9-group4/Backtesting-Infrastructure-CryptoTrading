{
 "cells": [
  {
   "cell_type": "code",
   "execution_count": 1,
   "metadata": {},
   "outputs": [],
   "source": [
    "import os\n",
    "os.chdir(\"../../../\")\n",
    "\n",
    "# The backtest results dictionary\n",
    "results = {\n",
    "    'sharpe_ratio': -58.66063557429906,\n",
    "    'return': 0.0016255774658640904,\n",
    "    'max_drawdown': 0.023526728407521492,\n",
    "    'win_trade': 7,\n",
    "    'loss_trade': 3,\n",
    "    'total_trade': 11,\n",
    "    'start_portfolio': 100000,\n",
    "    'final_portfolio': 100162.6899433136\n",
    "}\n"
   ]
  },
  {
   "cell_type": "code",
   "execution_count": 2,
   "metadata": {},
   "outputs": [
    {
     "name": "stderr",
     "output_type": "stream",
     "text": [
      "%4|1719207981.731|GETPID|hilla#producer-1| [thrd:main]: Failed to acquire idempotence PID from broker localhost:9094/0: Broker: Coordinator load in progress: retrying\n"
     ]
    }
   ],
   "source": [
    "from src.kafka import send_message_to_kafka\n",
    "topic_name = \"backtest_results_testing\""
   ]
  },
  {
   "cell_type": "markdown",
   "metadata": {},
   "source": [
    "#### Send message to Kafka"
   ]
  },
  {
   "cell_type": "code",
   "execution_count": 5,
   "metadata": {},
   "outputs": [
    {
     "name": "stderr",
     "output_type": "stream",
     "text": [
      "2024-06-24 08:46:30 hilla src.kafka.producer[3893284] INFO Message sent to Kafka topic 'backtest_results_testing': {'sharpe_ratio': -58.66063557429906, 'return': 0.0016255774658640904, 'max_drawdown': 0.023526728407521492, 'win_trade': 7, 'loss_trade': 3, 'total_trade': 11, 'start_portfolio': 100000, 'final_portfolio': 100162.6899433136}\n"
     ]
    },
    {
     "data": {
      "text/plain": [
       "True"
      ]
     },
     "execution_count": 5,
     "metadata": {},
     "output_type": "execute_result"
    }
   ],
   "source": [
    "send_message_to_kafka(topic_name, results)"
   ]
  },
  {
   "cell_type": "markdown",
   "metadata": {},
   "source": [
    "#### Consume messages from Kafka"
   ]
  },
  {
   "cell_type": "code",
   "execution_count": 5,
   "metadata": {},
   "outputs": [],
   "source": [
    "from src.kafka import create_and_consume_messages\n",
    "\n",
    "for message in create_and_consume_messages(topic_name):\n",
    "    # Process each message\n",
    "    print(message)"
   ]
  },
  {
   "cell_type": "code",
   "execution_count": null,
   "metadata": {},
   "outputs": [],
   "source": []
  }
 ],
 "metadata": {
  "kernelspec": {
   "display_name": ".venv",
   "language": "python",
   "name": "python3"
  },
  "language_info": {
   "codemirror_mode": {
    "name": "ipython",
    "version": 3
   },
   "file_extension": ".py",
   "mimetype": "text/x-python",
   "name": "python",
   "nbconvert_exporter": "python",
   "pygments_lexer": "ipython3",
   "version": "3.9.19"
  }
 },
 "nbformat": 4,
 "nbformat_minor": 2
}
