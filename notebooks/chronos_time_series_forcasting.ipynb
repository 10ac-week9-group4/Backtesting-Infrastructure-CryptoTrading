{
 "cells": [
  {
   "cell_type": "code",
   "execution_count": null,
   "metadata": {},
   "outputs": [],
   "source": [
    "import pandas as pd\n",
    "from datetime import date\n",
    "import matplotlib.pyplot as plt\n",
    "import yfinance as yf\n",
    "import numpy as np\n",
    "import tensorflow as tf\n",
    "from sklearn.preprocessing import MinMaxScaler\n",
    "from tensorflow.keras.layers import Dense, Dropout, LSTM\n",
    "from tensorflow.keras.models import Sequential\n",
    "from chronos import ChronosPipeline\n",
    "import torch\n"
   ]
  },
  {
   "cell_type": "code",
   "execution_count": null,
   "metadata": {},
   "outputs": [],
   "source": [
    "START = \"2020-01-01\"\n",
    "TODAY = date.today().strftime(\"%Y-%m-%d\")\n",
    "\n",
    "def load_data(ticker):\n",
    "    data = yf.download(ticker, START, TODAY)\n",
    "    data.reset_index(inplace=True)\n",
    "    return data\n",
    "\n",
    "data = load_data('BTC-USD')\n",
    "df = data.drop(['Date', 'Adj Close'], axis=1)\n",
    "\n",
    "train = df[0:int(len(df)*0.70)]\n",
    "test = df[int(len(df)*0.70):]\n",
    "\n",
    "scaler = MinMaxScaler(feature_range=(0, 1))\n",
    "train_close = scaler.fit_transform(train.iloc[:, 4:5].values)\n",
    "test_close = scaler.transform(test.iloc[:, 4:5].values)\n"
   ]
  },
  {
   "cell_type": "markdown",
   "metadata": {},
   "source": [
    "Train LSTM model"
   ]
  },
  {
   "cell_type": "code",
   "execution_count": null,
   "metadata": {},
   "outputs": [],
   "source": [
    "x_train = []\n",
    "y_train = []\n",
    "\n",
    "for i in range(100, len(train_close)):\n",
    "    x_train.append(train_close[i-100:i, 0])\n",
    "    y_train.append(train_close[i, 0])\n",
    "\n",
    "x_train, y_train = np.array(x_train), np.array(y_train)\n",
    "x_train = np.reshape(x_train, (x_train.shape[0], x_train.shape[1], 1))\n",
    "\n",
    "model = Sequential()\n",
    "model.add(LSTM(128, return_sequences=True, input_shape=(x_train.shape[1], 1)))\n",
    "model.add(Dropout(0.2))\n",
    "model.add(LSTM(64, return_sequences=False))\n",
    "model.add(Dropout(0.2))\n",
    "model.add(Dense(1, activation=\"linear\"))\n",
    "\n",
    "model.compile(optimizer='adam', loss='mean_squared_error', metrics=[tf.keras.metrics.MeanAbsoluteError()])\n",
    "model.fit(x_train, y_train, batch_size=32, epochs=50)\n",
    "\n",
    "model.save('model.h5')\n"
   ]
  },
  {
   "cell_type": "markdown",
   "metadata": {},
   "source": [
    "use Chronos"
   ]
  },
  {
   "cell_type": "code",
   "execution_count": null,
   "metadata": {},
   "outputs": [],
   "source": [
    "saved_model = tf.keras.models.load_model('model.h5')\n",
    "\n",
    "# Wrap the model with ChronosPipeline\n",
    "pipeline = ChronosPipeline(saved_model)\n",
    "\n",
    "# Prepare input data for forecasting\n",
    "past_100_days = pd.DataFrame(train_close[-100:])\n",
    "test_df = pd.DataFrame(test_close)\n",
    "final_df = pd.concat([past_100_days, test_df], ignore_index=True)\n",
    "\n",
    "input_data = scaler.fit_transform(final_df)\n",
    "\n",
    "x_test = []\n",
    "y_test = []\n",
    "for i in range(100, input_data.shape[0]):\n",
    "    x_test.append(input_data[i-100:i])\n",
    "    y_test.append(input_data[i, 0])\n",
    "\n",
    "x_test, y_test = np.array(x_test), np.array(y_test)\n",
    "\n",
    "# Perform forecasting with Chronos\n",
    "forecast_horizon = 10  # Adjust as needed\n",
    "num_samples = 100  # Adjust as needed\n",
    "\n",
    "forecast = pipeline.predict(\n",
    "    context=torch.tensor(input_data[-100:]),  # Provide recent context for forecasting\n",
    "    prediction_length=forecast_horizon,\n",
    "    num_samples=num_samples,\n",
    ")\n",
    "\n",
    "# Optionally, print or save the forecast results\n",
    "print(forecast.shape)  # Example of printing forecast shape\n",
    "\n",
    "# Plotting the results\n",
    "scaling_factor = scaler.scale_[0]\n",
    "scale_factor = 1 / scaling_factor\n",
    "\n",
    "y_pred = forecast * scale_factor\n",
    "y_test = y_test[-forecast_horizon:] * scale_factor\n",
    "\n",
    "plt.figure(figsize=(12, 6))\n",
    "plt.plot(y_test, 'b', label=\"Original Price\")\n",
    "plt.plot(y_pred.mean(axis=1), 'r', label=\"Predicted Price\")\n",
    "plt.xlabel('Time')\n",
    "plt.ylabel('Price')\n",
    "plt.legend()\n",
    "plt.grid(True)\n",
    "plt.show()\n"
   ]
  },
  {
   "cell_type": "code",
   "execution_count": null,
   "metadata": {},
   "outputs": [],
   "source": []
  }
 ],
 "metadata": {
  "language_info": {
   "name": "python"
  }
 },
 "nbformat": 4,
 "nbformat_minor": 2
}
