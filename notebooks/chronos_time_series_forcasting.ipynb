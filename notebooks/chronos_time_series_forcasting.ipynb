{
 "cells": [
  {
   "cell_type": "code",
   "execution_count": 1,
   "metadata": {},
   "outputs": [
    {
     "ename": "",
     "evalue": "",
     "output_type": "error",
     "traceback": [
      "\u001b[1;31mThe Kernel crashed while executing code in the current cell or a previous cell. \n",
      "\u001b[1;31mPlease review the code in the cell(s) to identify a possible cause of the failure. \n",
      "\u001b[1;31mClick <a href='https://aka.ms/vscodeJupyterKernelCrash'>here</a> for more info. \n",
      "\u001b[1;31mView Jupyter <a href='command:jupyter.viewOutput'>log</a> for further details."
     ]
    }
   ],
   "source": [
    "import pandas as pd\n",
    "from datetime import date\n",
    "import yfinance as yf\n",
    "import torch\n",
    "from chronos import ChronosPipeline"
   ]
  },
  {
   "cell_type": "code",
   "execution_count": 2,
   "metadata": {},
   "outputs": [
    {
     "name": "stderr",
     "output_type": "stream",
     "text": [
      "[*********************100%%**********************]  1 of 1 completed"
     ]
    },
    {
     "name": "stderr",
     "output_type": "stream",
     "text": [
      "\n",
      "/workspaces/Backtesting-Infrastructure-CryptoTrading/.venv/lib/python3.10/site-packages/huggingface_hub/file_download.py:1132: FutureWarning: `resume_download` is deprecated and will be removed in version 1.0.0. Downloads always resume when possible. If you want to force a new download, use `force_download=True`.\n",
      "  warnings.warn(\n",
      "2024-06-27 05:21:31.913347: I tensorflow/core/platform/cpu_feature_guard.cc:210] This TensorFlow binary is optimized to use available CPU instructions in performance-critical operations.\n",
      "To enable the following instructions: AVX2 FMA, in other operations, rebuild TensorFlow with the appropriate compiler flags.\n",
      "2024-06-27 05:21:35.825899: W tensorflow/compiler/tf2tensorrt/utils/py_utils.cc:38] TF-TRT Warning: Could not find TensorRT\n"
     ]
    }
   ],
   "source": [
    "\n",
    "START = \"2020-01-01\"\n",
    "TODAY = date.today().strftime(\"%Y-%m-%d\")\n",
    "\n",
    "# Define a function to load the dataset\n",
    "def load_data(ticker):\n",
    "    data = yf.download(ticker, START, TODAY)\n",
    "    data.reset_index(inplace=True)\n",
    "    return data\n",
    "\n",
    "# Load BTC-USD data\n",
    "data = load_data('BTC-USD')\n",
    "df = data[['Date', 'Close']]  # Extract Date and Close price columns\n",
    "\n",
    "# Initialize Chronos pipeline\n",
    "pipeline = ChronosPipeline.from_pretrained(\n",
    "    \"amazon/chronos-t5-small\",\n",
    "    device_map=\"cpu\",  # Use \"cpu\" for CPU inference or \"mps\" for Apple Silicon\n",
    "    torch_dtype=torch.float32,  # Adjust dtype as needed based on model requirements\n",
    ")\n",
    "\n",
    "# Prepare context data (closing prices as a 1D tensor)\n",
    "context = torch.tensor(df['Close'].values, dtype=torch.float32)\n",
    "\n",
    "# Perform forecasting\n",
    "prediction_length = 10  # Adjust as needed\n",
    "num_samples = 1000  # Adjust as needed\n",
    "forecast = pipeline.predict(\n",
    "    context=context,\n",
    "    prediction_length=prediction_length,\n",
    "    num_samples=num_samples,\n",
    ")\n",
    "\n",
    "# Print or use forecasted results\n",
    "print(forecast.shape)  # Example of printing forecast shape\n"
   ]
  },
  {
   "cell_type": "code",
   "execution_count": null,
   "metadata": {},
   "outputs": [],
   "source": [
    "import matplotlib.pyplot as plt\n",
    "# Plotting the results\n",
    "plt.figure(figsize=(12, 6))\n",
    "plt.plot(df['Date'], df['Close'], label=\"Original Close Price\")\n",
    "# Extract the last `prediction_length` dates for x-axis\n",
    "x_dates = df['Date'].iloc[-prediction_length:].values \n",
    "# Use the mean of forecast across samples for y-axis\n",
    "y_pred = forecast.mean(axis=1).flatten()  # Flatten to match x_dates shape\n",
    "plt.plot(x_dates, y_pred, 'r', label=\"Predicted Close Price\")\n",
    "plt.xlabel('Date')\n",
    "plt.ylabel('Price')\n",
    "plt.legend()\n",
    "plt.grid(True)\n",
    "plt.show()"
   ]
  }
 ],
 "metadata": {
  "kernelspec": {
   "display_name": "myenv",
   "language": "python",
   "name": "python3"
  },
  "language_info": {
   "codemirror_mode": {
    "name": "ipython",
    "version": 3
   },
   "file_extension": ".py",
   "mimetype": "text/x-python",
   "name": "python",
   "nbconvert_exporter": "python",
   "pygments_lexer": "ipython3",
   "version": "3.10.13"
  }
 },
 "nbformat": 4,
 "nbformat_minor": 2
}
