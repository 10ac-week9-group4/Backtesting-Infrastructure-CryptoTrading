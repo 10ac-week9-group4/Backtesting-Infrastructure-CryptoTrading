{
 "cells": [
  {
   "cell_type": "code",
   "execution_count": 1,
   "metadata": {},
   "outputs": [],
   "source": [
    "import os\n",
    "import requests\n",
    "import pandas as pd\n",
    "from dotenv import load_dotenv\n",
    "from datetime import datetime, timedelta\n",
    "import time"
   ]
  },
  {
   "cell_type": "code",
   "execution_count": 2,
   "metadata": {},
   "outputs": [],
   "source": [
    "# Load environment variables from .env file\n",
    "load_dotenv()\n",
    "\n",
    "# CoinMarketCap API URL\n",
    "url = \"https://pro-api.coinmarketcap.com/v1/cryptocurrency/listings/latest\"\n",
    "\n",
    "# Fetch API key from environment variables\n",
    "api_key = os.getenv('COINMARKETCAP_API_KEY')"
   ]
  },
  {
   "cell_type": "code",
   "execution_count": 3,
   "metadata": {},
   "outputs": [],
   "source": [
    "parameters = {\n",
    "            'start': '1',\n",
    "            'limit': '1000',  # Fetching top 100 cryptocurrencies\n",
    "            'convert': 'USD'\n",
    "        }\n",
    "\n",
    "        # Headers containing your API key\n",
    "headers = {\n",
    "            'Accepts': 'application/json',\n",
    "            'X-CMC_PRO_API_KEY': api_key,\n",
    "        }\n",
    "\n",
    "        # Make a GET request to the CoinMarketCap API\n",
    "response = requests.get(url, headers=headers, params=parameters)\n",
    "        \n",
    "        # Check for HTTP errors\n",
    "response.raise_for_status()\n",
    "        \n",
    "        # Load data into pandas DataFrame\n",
    "data = response.json()\n",
    "df = pd.json_normalize(data['data'])  # Normalize JSON data into DataFrame\n"
   ]
  },
  {
   "cell_type": "code",
   "execution_count": 4,
   "metadata": {},
   "outputs": [
    {
     "data": {
      "text/html": [
       "<div>\n",
       "<style scoped>\n",
       "    .dataframe tbody tr th:only-of-type {\n",
       "        vertical-align: middle;\n",
       "    }\n",
       "\n",
       "    .dataframe tbody tr th {\n",
       "        vertical-align: top;\n",
       "    }\n",
       "\n",
       "    .dataframe thead th {\n",
       "        text-align: right;\n",
       "    }\n",
       "</style>\n",
       "<table border=\"1\" class=\"dataframe\">\n",
       "  <thead>\n",
       "    <tr style=\"text-align: right;\">\n",
       "      <th></th>\n",
       "      <th>id</th>\n",
       "      <th>name</th>\n",
       "      <th>symbol</th>\n",
       "      <th>slug</th>\n",
       "      <th>num_market_pairs</th>\n",
       "      <th>date_added</th>\n",
       "      <th>tags</th>\n",
       "      <th>max_supply</th>\n",
       "      <th>circulating_supply</th>\n",
       "      <th>total_supply</th>\n",
       "      <th>...</th>\n",
       "      <th>quote.USD.market_cap</th>\n",
       "      <th>quote.USD.market_cap_dominance</th>\n",
       "      <th>quote.USD.fully_diluted_market_cap</th>\n",
       "      <th>quote.USD.tvl</th>\n",
       "      <th>quote.USD.last_updated</th>\n",
       "      <th>platform.id</th>\n",
       "      <th>platform.name</th>\n",
       "      <th>platform.symbol</th>\n",
       "      <th>platform.slug</th>\n",
       "      <th>platform.token_address</th>\n",
       "    </tr>\n",
       "  </thead>\n",
       "  <tbody>\n",
       "    <tr>\n",
       "      <th>0</th>\n",
       "      <td>1</td>\n",
       "      <td>Bitcoin</td>\n",
       "      <td>BTC</td>\n",
       "      <td>bitcoin</td>\n",
       "      <td>11134</td>\n",
       "      <td>2010-07-13T00:00:00.000Z</td>\n",
       "      <td>[mineable, pow, sha-256, store-of-value, state...</td>\n",
       "      <td>21000000.0</td>\n",
       "      <td>1.971666e+07</td>\n",
       "      <td>1.971666e+07</td>\n",
       "      <td>...</td>\n",
       "      <td>1.222071e+12</td>\n",
       "      <td>53.4591</td>\n",
       "      <td>1.301615e+12</td>\n",
       "      <td>NaN</td>\n",
       "      <td>2024-06-25T18:40:00.000Z</td>\n",
       "      <td>NaN</td>\n",
       "      <td>NaN</td>\n",
       "      <td>NaN</td>\n",
       "      <td>NaN</td>\n",
       "      <td>NaN</td>\n",
       "    </tr>\n",
       "    <tr>\n",
       "      <th>1</th>\n",
       "      <td>1027</td>\n",
       "      <td>Ethereum</td>\n",
       "      <td>ETH</td>\n",
       "      <td>ethereum</td>\n",
       "      <td>9097</td>\n",
       "      <td>2015-08-07T00:00:00.000Z</td>\n",
       "      <td>[pos, smart-contracts, ethereum-ecosystem, coi...</td>\n",
       "      <td>NaN</td>\n",
       "      <td>1.201769e+08</td>\n",
       "      <td>1.201769e+08</td>\n",
       "      <td>...</td>\n",
       "      <td>4.101068e+11</td>\n",
       "      <td>17.9383</td>\n",
       "      <td>4.101068e+11</td>\n",
       "      <td>NaN</td>\n",
       "      <td>2024-06-25T18:39:00.000Z</td>\n",
       "      <td>NaN</td>\n",
       "      <td>NaN</td>\n",
       "      <td>NaN</td>\n",
       "      <td>NaN</td>\n",
       "      <td>NaN</td>\n",
       "    </tr>\n",
       "    <tr>\n",
       "      <th>2</th>\n",
       "      <td>825</td>\n",
       "      <td>Tether USDt</td>\n",
       "      <td>USDT</td>\n",
       "      <td>tether</td>\n",
       "      <td>89820</td>\n",
       "      <td>2015-02-25T00:00:00.000Z</td>\n",
       "      <td>[stablecoin, asset-backed-stablecoin, avalanch...</td>\n",
       "      <td>NaN</td>\n",
       "      <td>1.129344e+11</td>\n",
       "      <td>1.160774e+11</td>\n",
       "      <td>...</td>\n",
       "      <td>1.128953e+11</td>\n",
       "      <td>4.9381</td>\n",
       "      <td>1.160373e+11</td>\n",
       "      <td>NaN</td>\n",
       "      <td>2024-06-25T18:39:00.000Z</td>\n",
       "      <td>1027.0</td>\n",
       "      <td>Ethereum</td>\n",
       "      <td>ETH</td>\n",
       "      <td>ethereum</td>\n",
       "      <td>0xdac17f958d2ee523a2206206994597c13d831ec7</td>\n",
       "    </tr>\n",
       "    <tr>\n",
       "      <th>3</th>\n",
       "      <td>1839</td>\n",
       "      <td>BNB</td>\n",
       "      <td>BNB</td>\n",
       "      <td>bnb</td>\n",
       "      <td>2186</td>\n",
       "      <td>2017-07-25T00:00:00.000Z</td>\n",
       "      <td>[marketplace, centralized-exchange, payments, ...</td>\n",
       "      <td>NaN</td>\n",
       "      <td>1.475835e+08</td>\n",
       "      <td>1.475835e+08</td>\n",
       "      <td>...</td>\n",
       "      <td>8.523862e+10</td>\n",
       "      <td>3.7284</td>\n",
       "      <td>8.523862e+10</td>\n",
       "      <td>NaN</td>\n",
       "      <td>2024-06-25T18:39:00.000Z</td>\n",
       "      <td>NaN</td>\n",
       "      <td>NaN</td>\n",
       "      <td>NaN</td>\n",
       "      <td>NaN</td>\n",
       "      <td>NaN</td>\n",
       "    </tr>\n",
       "    <tr>\n",
       "      <th>4</th>\n",
       "      <td>5426</td>\n",
       "      <td>Solana</td>\n",
       "      <td>SOL</td>\n",
       "      <td>solana</td>\n",
       "      <td>691</td>\n",
       "      <td>2020-04-10T00:00:00.000Z</td>\n",
       "      <td>[pos, platform, solana-ecosystem, cms-holdings...</td>\n",
       "      <td>NaN</td>\n",
       "      <td>4.622524e+08</td>\n",
       "      <td>5.789304e+08</td>\n",
       "      <td>...</td>\n",
       "      <td>6.393931e+10</td>\n",
       "      <td>2.7967</td>\n",
       "      <td>8.007836e+10</td>\n",
       "      <td>NaN</td>\n",
       "      <td>2024-06-25T18:39:00.000Z</td>\n",
       "      <td>NaN</td>\n",
       "      <td>NaN</td>\n",
       "      <td>NaN</td>\n",
       "      <td>NaN</td>\n",
       "      <td>NaN</td>\n",
       "    </tr>\n",
       "  </tbody>\n",
       "</table>\n",
       "<p>5 rows × 36 columns</p>\n",
       "</div>"
      ],
      "text/plain": [
       "     id         name symbol      slug  num_market_pairs  \\\n",
       "0     1      Bitcoin    BTC   bitcoin             11134   \n",
       "1  1027     Ethereum    ETH  ethereum              9097   \n",
       "2   825  Tether USDt   USDT    tether             89820   \n",
       "3  1839          BNB    BNB       bnb              2186   \n",
       "4  5426       Solana    SOL    solana               691   \n",
       "\n",
       "                 date_added  \\\n",
       "0  2010-07-13T00:00:00.000Z   \n",
       "1  2015-08-07T00:00:00.000Z   \n",
       "2  2015-02-25T00:00:00.000Z   \n",
       "3  2017-07-25T00:00:00.000Z   \n",
       "4  2020-04-10T00:00:00.000Z   \n",
       "\n",
       "                                                tags  max_supply  \\\n",
       "0  [mineable, pow, sha-256, store-of-value, state...  21000000.0   \n",
       "1  [pos, smart-contracts, ethereum-ecosystem, coi...         NaN   \n",
       "2  [stablecoin, asset-backed-stablecoin, avalanch...         NaN   \n",
       "3  [marketplace, centralized-exchange, payments, ...         NaN   \n",
       "4  [pos, platform, solana-ecosystem, cms-holdings...         NaN   \n",
       "\n",
       "   circulating_supply  total_supply  ...  quote.USD.market_cap  \\\n",
       "0        1.971666e+07  1.971666e+07  ...          1.222071e+12   \n",
       "1        1.201769e+08  1.201769e+08  ...          4.101068e+11   \n",
       "2        1.129344e+11  1.160774e+11  ...          1.128953e+11   \n",
       "3        1.475835e+08  1.475835e+08  ...          8.523862e+10   \n",
       "4        4.622524e+08  5.789304e+08  ...          6.393931e+10   \n",
       "\n",
       "   quote.USD.market_cap_dominance  quote.USD.fully_diluted_market_cap  \\\n",
       "0                         53.4591                        1.301615e+12   \n",
       "1                         17.9383                        4.101068e+11   \n",
       "2                          4.9381                        1.160373e+11   \n",
       "3                          3.7284                        8.523862e+10   \n",
       "4                          2.7967                        8.007836e+10   \n",
       "\n",
       "   quote.USD.tvl    quote.USD.last_updated  platform.id platform.name  \\\n",
       "0            NaN  2024-06-25T18:40:00.000Z          NaN           NaN   \n",
       "1            NaN  2024-06-25T18:39:00.000Z          NaN           NaN   \n",
       "2            NaN  2024-06-25T18:39:00.000Z       1027.0      Ethereum   \n",
       "3            NaN  2024-06-25T18:39:00.000Z          NaN           NaN   \n",
       "4            NaN  2024-06-25T18:39:00.000Z          NaN           NaN   \n",
       "\n",
       "   platform.symbol  platform.slug                      platform.token_address  \n",
       "0              NaN            NaN                                         NaN  \n",
       "1              NaN            NaN                                         NaN  \n",
       "2              ETH       ethereum  0xdac17f958d2ee523a2206206994597c13d831ec7  \n",
       "3              NaN            NaN                                         NaN  \n",
       "4              NaN            NaN                                         NaN  \n",
       "\n",
       "[5 rows x 36 columns]"
      ]
     },
     "execution_count": 4,
     "metadata": {},
     "output_type": "execute_result"
    }
   ],
   "source": [
    "df.head()"
   ]
  },
  {
   "cell_type": "code",
   "execution_count": 5,
   "metadata": {},
   "outputs": [],
   "source": [
    "# Selecting the 'id' and the 'market_cap_usd' columns\n",
    "market_cap_raw = df.loc[:,[\"name\",\"quote.USD.market_cap\"] ]"
   ]
  },
  {
   "cell_type": "code",
   "execution_count": 6,
   "metadata": {},
   "outputs": [
    {
     "name": "stdout",
     "output_type": "stream",
     "text": [
      "name                    1000\n",
      "quote.USD.market_cap    1000\n",
      "dtype: int64\n"
     ]
    }
   ],
   "source": [
    "print(market_cap_raw.count())"
   ]
  },
  {
   "cell_type": "code",
   "execution_count": 7,
   "metadata": {},
   "outputs": [
    {
     "name": "stdout",
     "output_type": "stream",
     "text": [
      "name                    1000\n",
      "quote.USD.market_cap    1000\n",
      "dtype: int64\n"
     ]
    }
   ],
   "source": [
    "# Filtering out rows without a market capitalization\n",
    "cap = market_cap_raw[market_cap_raw['quote.USD.market_cap'] > 0]\n",
    "\n",
    "# Counting the number of values again\n",
    "print(cap.count())"
   ]
  },
  {
   "cell_type": "code",
   "execution_count": 8,
   "metadata": {},
   "outputs": [
    {
     "data": {
      "image/png": "[encoded data removed]",
      "text/plain": [
       "<Figure size 640x480 with 1 Axes>"
      ]
     },
     "metadata": {},
     "output_type": "display_data"
    }
   ],
   "source": [
    "TOP_CAP_TITLE = 'Top 10 market capitalization'\n",
    "TOP_CAP_YLABEL = '% of total cap'\n",
    "\n",
    "# Assuming 'cap' is your filtered DataFrame with 'id' and 'quote.USD.market_cap' columns\n",
    "cap10 = cap.head(10)\n",
    "cap10 = cap10.set_index(\"name\")\n",
    "cap10 = cap10.assign(market_cap_perc=lambda x: (x['quote.USD.market_cap'] / cap['quote.USD.market_cap'].sum()) * 100)\n",
    "\n",
    "import matplotlib.pyplot as plt\n",
    "\n",
    "# Plotting the bar plot\n",
    "ax = cap10['market_cap_perc'].plot(kind='bar', title=TOP_CAP_TITLE, ylabel=TOP_CAP_YLABEL)\n",
    "\n",
    "# Annotating the y axis with the label defined above\n",
    "ax.set_ylabel(TOP_CAP_YLABEL)\n",
    "\n",
    "# Show the plot\n",
    "plt.show()\n"
   ]
  },
  {
   "cell_type": "code",
   "execution_count": 9,
   "metadata": {},
   "outputs": [
    {
     "data": {
      "text/plain": [
       "[Text(0, 0.5, 'USD'),\n",
       " Text(0.5, 0, ''),\n",
       " Text(0.5, 1.0, 'Top 10 market capitalization')]"
      ]
     },
     "execution_count": 9,
     "metadata": {},
     "output_type": "execute_result"
    },
    {
     "data": {
      "image/png": "[encoded data removed]",
      "text/plain": [
       "<Figure size 640x480 with 1 Axes>"
      ]
     },
     "metadata": {},
     "output_type": "display_data"
    }
   ],
   "source": [
    "# Colors for the bar plot\n",
    "COLORS = ['orange', 'green', 'orange', 'cyan', 'cyan', 'blue', 'silver', 'orange', 'red', 'green']\n",
    "\n",
    "# Plotting market_cap_usd with custom colors and logarithmic scale\n",
    "ax = cap10['quote.USD.market_cap'].plot.bar(color=COLORS, log=True)\n",
    "\n",
    "\n",
    "# Annotating the y axis with 'USD'\n",
    "ax.set(ylabel = \"USD\" , xlabel = \"\" , title = \"Top 10 market capitalization\")\n",
    "\n",
    "# Final touch! Removing the xlabel as it is not very informative\n"
   ]
  }
 ],
 "metadata": {
  "kernelspec": {
   "display_name": "myenv",
   "language": "python",
   "name": "python3"
  },
  "language_info": {
   "codemirror_mode": {
    "name": "ipython",
    "version": 3
   },
   "file_extension": ".py",
   "mimetype": "text/x-python",
   "name": "python",
   "nbconvert_exporter": "python",
   "pygments_lexer": "ipython3",
   "version": "3.12.3"
  }
 },
 "nbformat": 4,
 "nbformat_minor": 2
}
