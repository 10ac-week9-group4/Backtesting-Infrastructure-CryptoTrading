{
 "cells": [
  {
   "cell_type": "code",
   "execution_count": 1,
   "metadata": {},
   "outputs": [
    {
     "name": "stderr",
     "output_type": "stream",
     "text": [
      "2024-06-24 12:02:31.306993: I external/local_tsl/tsl/cuda/cudart_stub.cc:32] Could not find cuda drivers on your machine, GPU will not be used.\n",
      "2024-06-24 12:02:32.252350: I external/local_tsl/tsl/cuda/cudart_stub.cc:32] Could not find cuda drivers on your machine, GPU will not be used.\n",
      "2024-06-24 12:02:34.449844: I tensorflow/core/platform/cpu_feature_guard.cc:210] This TensorFlow binary is optimized to use available CPU instructions in performance-critical operations.\n",
      "To enable the following instructions: AVX2 FMA, in other operations, rebuild TensorFlow with the appropriate compiler flags.\n",
      "2024-06-24 12:02:37.492045: W tensorflow/compiler/tf2tensorrt/utils/py_utils.cc:38] TF-TRT Warning: Could not find TensorRT\n"
     ]
    }
   ],
   "source": [
    "import pandas as pd\n",
    "import datetime as dt\n",
    "from datetime import date\n",
    "import matplotlib.pyplot as plt\n",
    "import yfinance as yf\n",
    "import numpy as np\n",
    "import tensorflow as tf"
   ]
  },
  {
   "cell_type": "code",
   "execution_count": 2,
   "metadata": {},
   "outputs": [],
   "source": [
    "START = \"2020-01-01\"\n",
    "TODAY = date.today().strftime(\"%Y-%m-%d\")\n",
    "\n",
    "# Define a function to load the dataset\n",
    "\n",
    "def load_data(ticker):\n",
    "    data = yf.download(ticker, START, TODAY)\n",
    "    data.reset_index(inplace=True)\n",
    "    return data"
   ]
  },
  {
   "cell_type": "code",
   "execution_count": 3,
   "metadata": {},
   "outputs": [
    {
     "name": "stderr",
     "output_type": "stream",
     "text": [
      "[*********************100%%**********************]  1 of 1 completed\n"
     ]
    },
    {
     "data": {
      "text/html": [
       "<div>\n",
       "<style scoped>\n",
       "    .dataframe tbody tr th:only-of-type {\n",
       "        vertical-align: middle;\n",
       "    }\n",
       "\n",
       "    .dataframe tbody tr th {\n",
       "        vertical-align: top;\n",
       "    }\n",
       "\n",
       "    .dataframe thead th {\n",
       "        text-align: right;\n",
       "    }\n",
       "</style>\n",
       "<table border=\"1\" class=\"dataframe\">\n",
       "  <thead>\n",
       "    <tr style=\"text-align: right;\">\n",
       "      <th></th>\n",
       "      <th>Date</th>\n",
       "      <th>Open</th>\n",
       "      <th>High</th>\n",
       "      <th>Low</th>\n",
       "      <th>Close</th>\n",
       "      <th>Adj Close</th>\n",
       "      <th>Volume</th>\n",
       "    </tr>\n",
       "  </thead>\n",
       "  <tbody>\n",
       "    <tr>\n",
       "      <th>0</th>\n",
       "      <td>2020-01-01</td>\n",
       "      <td>7194.892090</td>\n",
       "      <td>7254.330566</td>\n",
       "      <td>7174.944336</td>\n",
       "      <td>7200.174316</td>\n",
       "      <td>7200.174316</td>\n",
       "      <td>18565664997</td>\n",
       "    </tr>\n",
       "    <tr>\n",
       "      <th>1</th>\n",
       "      <td>2020-01-02</td>\n",
       "      <td>7202.551270</td>\n",
       "      <td>7212.155273</td>\n",
       "      <td>6935.270020</td>\n",
       "      <td>6985.470215</td>\n",
       "      <td>6985.470215</td>\n",
       "      <td>20802083465</td>\n",
       "    </tr>\n",
       "    <tr>\n",
       "      <th>2</th>\n",
       "      <td>2020-01-03</td>\n",
       "      <td>6984.428711</td>\n",
       "      <td>7413.715332</td>\n",
       "      <td>6914.996094</td>\n",
       "      <td>7344.884277</td>\n",
       "      <td>7344.884277</td>\n",
       "      <td>28111481032</td>\n",
       "    </tr>\n",
       "    <tr>\n",
       "      <th>3</th>\n",
       "      <td>2020-01-04</td>\n",
       "      <td>7345.375488</td>\n",
       "      <td>7427.385742</td>\n",
       "      <td>7309.514160</td>\n",
       "      <td>7410.656738</td>\n",
       "      <td>7410.656738</td>\n",
       "      <td>18444271275</td>\n",
       "    </tr>\n",
       "    <tr>\n",
       "      <th>4</th>\n",
       "      <td>2020-01-05</td>\n",
       "      <td>7410.451660</td>\n",
       "      <td>7544.497070</td>\n",
       "      <td>7400.535645</td>\n",
       "      <td>7411.317383</td>\n",
       "      <td>7411.317383</td>\n",
       "      <td>19725074095</td>\n",
       "    </tr>\n",
       "  </tbody>\n",
       "</table>\n",
       "</div>"
      ],
      "text/plain": [
       "        Date         Open         High          Low        Close    Adj Close  \\\n",
       "0 2020-01-01  7194.892090  7254.330566  7174.944336  7200.174316  7200.174316   \n",
       "1 2020-01-02  7202.551270  7212.155273  6935.270020  6985.470215  6985.470215   \n",
       "2 2020-01-03  6984.428711  7413.715332  6914.996094  7344.884277  7344.884277   \n",
       "3 2020-01-04  7345.375488  7427.385742  7309.514160  7410.656738  7410.656738   \n",
       "4 2020-01-05  7410.451660  7544.497070  7400.535645  7411.317383  7411.317383   \n",
       "\n",
       "        Volume  \n",
       "0  18565664997  \n",
       "1  20802083465  \n",
       "2  28111481032  \n",
       "3  18444271275  \n",
       "4  19725074095  "
      ]
     },
     "execution_count": 3,
     "metadata": {},
     "output_type": "execute_result"
    }
   ],
   "source": [
    "data = load_data('BTC-USD')\n",
    "df=data\n",
    "df.head()"
   ]
  },
  {
   "cell_type": "code",
   "execution_count": 4,
   "metadata": {},
   "outputs": [
    {
     "data": {
      "text/html": [
       "<div>\n",
       "<style scoped>\n",
       "    .dataframe tbody tr th:only-of-type {\n",
       "        vertical-align: middle;\n",
       "    }\n",
       "\n",
       "    .dataframe tbody tr th {\n",
       "        vertical-align: top;\n",
       "    }\n",
       "\n",
       "    .dataframe thead th {\n",
       "        text-align: right;\n",
       "    }\n",
       "</style>\n",
       "<table border=\"1\" class=\"dataframe\">\n",
       "  <thead>\n",
       "    <tr style=\"text-align: right;\">\n",
       "      <th></th>\n",
       "      <th>Open</th>\n",
       "      <th>High</th>\n",
       "      <th>Low</th>\n",
       "      <th>Close</th>\n",
       "      <th>Volume</th>\n",
       "    </tr>\n",
       "  </thead>\n",
       "  <tbody>\n",
       "    <tr>\n",
       "      <th>0</th>\n",
       "      <td>7194.892090</td>\n",
       "      <td>7254.330566</td>\n",
       "      <td>7174.944336</td>\n",
       "      <td>7200.174316</td>\n",
       "      <td>18565664997</td>\n",
       "    </tr>\n",
       "    <tr>\n",
       "      <th>1</th>\n",
       "      <td>7202.551270</td>\n",
       "      <td>7212.155273</td>\n",
       "      <td>6935.270020</td>\n",
       "      <td>6985.470215</td>\n",
       "      <td>20802083465</td>\n",
       "    </tr>\n",
       "    <tr>\n",
       "      <th>2</th>\n",
       "      <td>6984.428711</td>\n",
       "      <td>7413.715332</td>\n",
       "      <td>6914.996094</td>\n",
       "      <td>7344.884277</td>\n",
       "      <td>28111481032</td>\n",
       "    </tr>\n",
       "    <tr>\n",
       "      <th>3</th>\n",
       "      <td>7345.375488</td>\n",
       "      <td>7427.385742</td>\n",
       "      <td>7309.514160</td>\n",
       "      <td>7410.656738</td>\n",
       "      <td>18444271275</td>\n",
       "    </tr>\n",
       "    <tr>\n",
       "      <th>4</th>\n",
       "      <td>7410.451660</td>\n",
       "      <td>7544.497070</td>\n",
       "      <td>7400.535645</td>\n",
       "      <td>7411.317383</td>\n",
       "      <td>19725074095</td>\n",
       "    </tr>\n",
       "  </tbody>\n",
       "</table>\n",
       "</div>"
      ],
      "text/plain": [
       "          Open         High          Low        Close       Volume\n",
       "0  7194.892090  7254.330566  7174.944336  7200.174316  18565664997\n",
       "1  7202.551270  7212.155273  6935.270020  6985.470215  20802083465\n",
       "2  6984.428711  7413.715332  6914.996094  7344.884277  28111481032\n",
       "3  7345.375488  7427.385742  7309.514160  7410.656738  18444271275\n",
       "4  7410.451660  7544.497070  7400.535645  7411.317383  19725074095"
      ]
     },
     "execution_count": 4,
     "metadata": {},
     "output_type": "execute_result"
    }
   ],
   "source": [
    "df = df.drop(['Date', 'Adj Close'], axis = 1)\n",
    "df.head()"
   ]
  },
  {
   "cell_type": "markdown",
   "metadata": {},
   "source": [
    "## Visualize closing prices"
   ]
  },
  {
   "cell_type": "code",
   "execution_count": 5,
   "metadata": {},
   "outputs": [
    {
     "data": {
      "image/png": "[encoded data removed]",
      "text/plain": [
       "<Figure size 800x600 with 1 Axes>"
      ]
     },
     "metadata": {},
     "output_type": "display_data"
    }
   ],
   "source": [
    "plt.figure(figsize=(8, 6))\n",
    "plt.plot(df['Close'])\n",
    "plt.title(\"TCS India Stock Price\")\n",
    "plt.xlabel(\"Date\")\n",
    "plt.ylabel(\"Price (INR)\")\n",
    "plt.grid(True)\n",
    "plt.show()"
   ]
  },
  {
   "cell_type": "markdown",
   "metadata": {},
   "source": [
    "## moving average of 100 days"
   ]
  },
  {
   "cell_type": "code",
   "execution_count": 6,
   "metadata": {},
   "outputs": [
    {
     "data": {
      "text/plain": [
       "0                NaN\n",
       "1                NaN\n",
       "2                NaN\n",
       "3                NaN\n",
       "4                NaN\n",
       "            ...     \n",
       "1631    66600.002461\n",
       "1632    66533.476133\n",
       "1633    66443.603125\n",
       "1634    66372.162969\n",
       "1635    66309.933203\n",
       "Name: Close, Length: 1636, dtype: float64"
      ]
     },
     "execution_count": 6,
     "metadata": {},
     "output_type": "execute_result"
    }
   ],
   "source": [
    "ma100 = df.Close.rolling(100).mean()\n",
    "ma100"
   ]
  },
  {
   "cell_type": "code",
   "execution_count": 7,
   "metadata": {},
   "outputs": [
    {
     "data": {
      "text/plain": [
       "Text(0.5, 1.0, 'Graph Of Moving Averages Of 100 Days')"
      ]
     },
     "execution_count": 7,
     "metadata": {},
     "output_type": "execute_result"
    },
    {
     "data": {
      "image/png": "[encoded data removed]",
      "text/plain": [
       "<Figure size 1000x600 with 1 Axes>"
      ]
     },
     "metadata": {},
     "output_type": "display_data"
    }
   ],
   "source": [
    "plt.figure(figsize = (10,6))\n",
    "plt.plot(df.Close)\n",
    "plt.plot(ma100, 'r')\n",
    "plt.grid(True)\n",
    "plt.title('Graph Of Moving Averages Of 100 Days')"
   ]
  },
  {
   "cell_type": "markdown",
   "metadata": {},
   "source": [
    "## Spliting the dataset into training (70%) and testing (30%) set"
   ]
  },
  {
   "cell_type": "code",
   "execution_count": 8,
   "metadata": {},
   "outputs": [
    {
     "name": "stdout",
     "output_type": "stream",
     "text": [
      "(1145, 7)\n",
      "(491, 7)\n"
     ]
    }
   ],
   "source": [
    "# Splitting data into training and testing\n",
    "\n",
    "train = pd.DataFrame(data[0:int(len(data)*0.70)])\n",
    "test = pd.DataFrame(data[int(len(data)*0.70): int(len(data))])\n",
    "\n",
    "print(train.shape)\n",
    "print(test.shape)"
   ]
  },
  {
   "cell_type": "code",
   "execution_count": 9,
   "metadata": {},
   "outputs": [
    {
     "data": {
      "text/html": [
       "<div>\n",
       "<style scoped>\n",
       "    .dataframe tbody tr th:only-of-type {\n",
       "        vertical-align: middle;\n",
       "    }\n",
       "\n",
       "    .dataframe tbody tr th {\n",
       "        vertical-align: top;\n",
       "    }\n",
       "\n",
       "    .dataframe thead th {\n",
       "        text-align: right;\n",
       "    }\n",
       "</style>\n",
       "<table border=\"1\" class=\"dataframe\">\n",
       "  <thead>\n",
       "    <tr style=\"text-align: right;\">\n",
       "      <th></th>\n",
       "      <th>Date</th>\n",
       "      <th>Open</th>\n",
       "      <th>High</th>\n",
       "      <th>Low</th>\n",
       "      <th>Close</th>\n",
       "      <th>Adj Close</th>\n",
       "      <th>Volume</th>\n",
       "    </tr>\n",
       "  </thead>\n",
       "  <tbody>\n",
       "    <tr>\n",
       "      <th>0</th>\n",
       "      <td>2020-01-01</td>\n",
       "      <td>7194.892090</td>\n",
       "      <td>7254.330566</td>\n",
       "      <td>7174.944336</td>\n",
       "      <td>7200.174316</td>\n",
       "      <td>7200.174316</td>\n",
       "      <td>18565664997</td>\n",
       "    </tr>\n",
       "    <tr>\n",
       "      <th>1</th>\n",
       "      <td>2020-01-02</td>\n",
       "      <td>7202.551270</td>\n",
       "      <td>7212.155273</td>\n",
       "      <td>6935.270020</td>\n",
       "      <td>6985.470215</td>\n",
       "      <td>6985.470215</td>\n",
       "      <td>20802083465</td>\n",
       "    </tr>\n",
       "    <tr>\n",
       "      <th>2</th>\n",
       "      <td>2020-01-03</td>\n",
       "      <td>6984.428711</td>\n",
       "      <td>7413.715332</td>\n",
       "      <td>6914.996094</td>\n",
       "      <td>7344.884277</td>\n",
       "      <td>7344.884277</td>\n",
       "      <td>28111481032</td>\n",
       "    </tr>\n",
       "    <tr>\n",
       "      <th>3</th>\n",
       "      <td>2020-01-04</td>\n",
       "      <td>7345.375488</td>\n",
       "      <td>7427.385742</td>\n",
       "      <td>7309.514160</td>\n",
       "      <td>7410.656738</td>\n",
       "      <td>7410.656738</td>\n",
       "      <td>18444271275</td>\n",
       "    </tr>\n",
       "    <tr>\n",
       "      <th>4</th>\n",
       "      <td>2020-01-05</td>\n",
       "      <td>7410.451660</td>\n",
       "      <td>7544.497070</td>\n",
       "      <td>7400.535645</td>\n",
       "      <td>7411.317383</td>\n",
       "      <td>7411.317383</td>\n",
       "      <td>19725074095</td>\n",
       "    </tr>\n",
       "  </tbody>\n",
       "</table>\n",
       "</div>"
      ],
      "text/plain": [
       "        Date         Open         High          Low        Close    Adj Close  \\\n",
       "0 2020-01-01  7194.892090  7254.330566  7174.944336  7200.174316  7200.174316   \n",
       "1 2020-01-02  7202.551270  7212.155273  6935.270020  6985.470215  6985.470215   \n",
       "2 2020-01-03  6984.428711  7413.715332  6914.996094  7344.884277  7344.884277   \n",
       "3 2020-01-04  7345.375488  7427.385742  7309.514160  7410.656738  7410.656738   \n",
       "4 2020-01-05  7410.451660  7544.497070  7400.535645  7411.317383  7411.317383   \n",
       "\n",
       "        Volume  \n",
       "0  18565664997  \n",
       "1  20802083465  \n",
       "2  28111481032  \n",
       "3  18444271275  \n",
       "4  19725074095  "
      ]
     },
     "execution_count": 9,
     "metadata": {},
     "output_type": "execute_result"
    }
   ],
   "source": [
    "train.head()"
   ]
  },
  {
   "cell_type": "code",
   "execution_count": 10,
   "metadata": {},
   "outputs": [
    {
     "data": {
      "text/html": [
       "<div>\n",
       "<style scoped>\n",
       "    .dataframe tbody tr th:only-of-type {\n",
       "        vertical-align: middle;\n",
       "    }\n",
       "\n",
       "    .dataframe tbody tr th {\n",
       "        vertical-align: top;\n",
       "    }\n",
       "\n",
       "    .dataframe thead th {\n",
       "        text-align: right;\n",
       "    }\n",
       "</style>\n",
       "<table border=\"1\" class=\"dataframe\">\n",
       "  <thead>\n",
       "    <tr style=\"text-align: right;\">\n",
       "      <th></th>\n",
       "      <th>Date</th>\n",
       "      <th>Open</th>\n",
       "      <th>High</th>\n",
       "      <th>Low</th>\n",
       "      <th>Close</th>\n",
       "      <th>Adj Close</th>\n",
       "      <th>Volume</th>\n",
       "    </tr>\n",
       "  </thead>\n",
       "  <tbody>\n",
       "    <tr>\n",
       "      <th>1145</th>\n",
       "      <td>2023-02-19</td>\n",
       "      <td>24640.027344</td>\n",
       "      <td>25093.054688</td>\n",
       "      <td>24327.642578</td>\n",
       "      <td>24327.642578</td>\n",
       "      <td>24327.642578</td>\n",
       "      <td>25555105670</td>\n",
       "    </tr>\n",
       "    <tr>\n",
       "      <th>1146</th>\n",
       "      <td>2023-02-20</td>\n",
       "      <td>24336.623047</td>\n",
       "      <td>25020.458984</td>\n",
       "      <td>23927.910156</td>\n",
       "      <td>24829.148438</td>\n",
       "      <td>24829.148438</td>\n",
       "      <td>28987376573</td>\n",
       "    </tr>\n",
       "    <tr>\n",
       "      <th>1147</th>\n",
       "      <td>2023-02-21</td>\n",
       "      <td>24833.048828</td>\n",
       "      <td>25126.851562</td>\n",
       "      <td>24200.363281</td>\n",
       "      <td>24436.353516</td>\n",
       "      <td>24436.353516</td>\n",
       "      <td>31252098714</td>\n",
       "    </tr>\n",
       "    <tr>\n",
       "      <th>1148</th>\n",
       "      <td>2023-02-22</td>\n",
       "      <td>24437.417969</td>\n",
       "      <td>24472.339844</td>\n",
       "      <td>23644.318359</td>\n",
       "      <td>24188.843750</td>\n",
       "      <td>24188.843750</td>\n",
       "      <td>30199996781</td>\n",
       "    </tr>\n",
       "    <tr>\n",
       "      <th>1149</th>\n",
       "      <td>2023-02-23</td>\n",
       "      <td>24190.718750</td>\n",
       "      <td>24572.089844</td>\n",
       "      <td>23693.919922</td>\n",
       "      <td>23947.492188</td>\n",
       "      <td>23947.492188</td>\n",
       "      <td>30476264066</td>\n",
       "    </tr>\n",
       "  </tbody>\n",
       "</table>\n",
       "</div>"
      ],
      "text/plain": [
       "           Date          Open          High           Low         Close  \\\n",
       "1145 2023-02-19  24640.027344  25093.054688  24327.642578  24327.642578   \n",
       "1146 2023-02-20  24336.623047  25020.458984  23927.910156  24829.148438   \n",
       "1147 2023-02-21  24833.048828  25126.851562  24200.363281  24436.353516   \n",
       "1148 2023-02-22  24437.417969  24472.339844  23644.318359  24188.843750   \n",
       "1149 2023-02-23  24190.718750  24572.089844  23693.919922  23947.492188   \n",
       "\n",
       "         Adj Close       Volume  \n",
       "1145  24327.642578  25555105670  \n",
       "1146  24829.148438  28987376573  \n",
       "1147  24436.353516  31252098714  \n",
       "1148  24188.843750  30199996781  \n",
       "1149  23947.492188  30476264066  "
      ]
     },
     "execution_count": 10,
     "metadata": {},
     "output_type": "execute_result"
    }
   ],
   "source": [
    "test.head()"
   ]
  },
  {
   "cell_type": "markdown",
   "metadata": {},
   "source": [
    "## MinMax scaler for normalization"
   ]
  },
  {
   "cell_type": "code",
   "execution_count": 11,
   "metadata": {},
   "outputs": [],
   "source": [
    "from sklearn.preprocessing import MinMaxScaler\n",
    "scaler = MinMaxScaler(feature_range=(0,1))"
   ]
  },
  {
   "cell_type": "code",
   "execution_count": 12,
   "metadata": {},
   "outputs": [],
   "source": [
    "train_close = train.iloc[:, 4:5].values\n",
    "test_close = test.iloc[:, 4:5].values"
   ]
  },
  {
   "cell_type": "code",
   "execution_count": 13,
   "metadata": {},
   "outputs": [
    {
     "data": {
      "text/plain": [
       "array([[0.03561545],\n",
       "       [0.03218546],\n",
       "       [0.03792726],\n",
       "       ...,\n",
       "       [0.29798509],\n",
       "       [0.31303599],\n",
       "       [0.31424495]])"
      ]
     },
     "execution_count": 13,
     "metadata": {},
     "output_type": "execute_result"
    }
   ],
   "source": [
    "data_training_array = scaler.fit_transform(train_close)\n",
    "data_training_array"
   ]
  },
  {
   "cell_type": "code",
   "execution_count": 14,
   "metadata": {},
   "outputs": [],
   "source": [
    "x_train = []\n",
    "y_train = [] \n",
    "\n",
    "for i in range(100, data_training_array.shape[0]):\n",
    "    x_train.append(data_training_array[i-100: i])\n",
    "    y_train.append(data_training_array[i, 0])\n",
    "\n",
    "x_train, y_train = np.array(x_train), np.array(y_train) "
   ]
  },
  {
   "cell_type": "code",
   "execution_count": 15,
   "metadata": {},
   "outputs": [
    {
     "data": {
      "text/plain": [
       "(1045, 100, 1)"
      ]
     },
     "execution_count": 15,
     "metadata": {},
     "output_type": "execute_result"
    }
   ],
   "source": [
    "x_train.shape"
   ]
  },
  {
   "cell_type": "markdown",
   "metadata": {},
   "source": [
    "## LSTM MODEL"
   ]
  },
  {
   "cell_type": "code",
   "execution_count": 16,
   "metadata": {},
   "outputs": [],
   "source": [
    "from tensorflow.keras.layers import Dense, Dropout, LSTM\n",
    "from tensorflow.keras.models import Sequential"
   ]
  },
  {
   "cell_type": "code",
   "execution_count": 17,
   "metadata": {},
   "outputs": [
    {
     "name": "stderr",
     "output_type": "stream",
     "text": [
      "/workspaces/Backtesting-Infrastructure-CryptoTrading/.venv/lib/python3.10/site-packages/keras/src/layers/rnn/rnn.py:204: UserWarning: Do not pass an `input_shape`/`input_dim` argument to a layer. When using Sequential models, prefer using an `Input(shape)` object as the first layer in the model instead.\n",
      "  super().__init__(**kwargs)\n"
     ]
    }
   ],
   "source": [
    "model = Sequential()\n",
    "model.add(LSTM(128, return_sequences=True, input_shape=(x_train.shape[1], 1)))\n",
    "model.add(Dropout(0.2))\n",
    "model.add(LSTM(64, return_sequences=False))\n",
    "model.add(Dropout(0.2))\n",
    "model.add(Dense(1, activation=\"linear\"))"
   ]
  },
  {
   "cell_type": "code",
   "execution_count": 18,
   "metadata": {},
   "outputs": [
    {
     "data": {
      "text/html": [
       "<pre style=\"white-space:pre;overflow-x:auto;line-height:normal;font-family:Menlo,'DejaVu Sans Mono',consolas,'Courier New',monospace\"><span style=\"font-weight: bold\">Model: \"sequential\"</span>\n",
       "</pre>\n"
      ],
      "text/plain": [
       "\u001b[1mModel: \"sequential\"\u001b[0m\n"
      ]
     },
     "metadata": {},
     "output_type": "display_data"
    },
    {
     "data": {
      "text/html": [
       "<pre style=\"white-space:pre;overflow-x:auto;line-height:normal;font-family:Menlo,'DejaVu Sans Mono',consolas,'Courier New',monospace\">┏━━━━━━━━━━━━━━━━━━━━━━━━━━━━━━━━━┳━━━━━━━━━━━━━━━━━━━━━━━━┳━━━━━━━━━━━━━━━┓\n",
       "┃<span style=\"font-weight: bold\"> Layer (type)                    </span>┃<span style=\"font-weight: bold\"> Output Shape           </span>┃<span style=\"font-weight: bold\">       Param # </span>┃\n",
       "┡━━━━━━━━━━━━━━━━━━━━━━━━━━━━━━━━━╇━━━━━━━━━━━━━━━━━━━━━━━━╇━━━━━━━━━━━━━━━┩\n",
       "│ lstm (<span style=\"color: #0087ff; text-decoration-color: #0087ff\">LSTM</span>)                     │ (<span style=\"color: #00d7ff; text-decoration-color: #00d7ff\">None</span>, <span style=\"color: #00af00; text-decoration-color: #00af00\">100</span>, <span style=\"color: #00af00; text-decoration-color: #00af00\">128</span>)       │        <span style=\"color: #00af00; text-decoration-color: #00af00\">66,560</span> │\n",
       "├─────────────────────────────────┼────────────────────────┼───────────────┤\n",
       "│ dropout (<span style=\"color: #0087ff; text-decoration-color: #0087ff\">Dropout</span>)               │ (<span style=\"color: #00d7ff; text-decoration-color: #00d7ff\">None</span>, <span style=\"color: #00af00; text-decoration-color: #00af00\">100</span>, <span style=\"color: #00af00; text-decoration-color: #00af00\">128</span>)       │             <span style=\"color: #00af00; text-decoration-color: #00af00\">0</span> │\n",
       "├─────────────────────────────────┼────────────────────────┼───────────────┤\n",
       "│ lstm_1 (<span style=\"color: #0087ff; text-decoration-color: #0087ff\">LSTM</span>)                   │ (<span style=\"color: #00d7ff; text-decoration-color: #00d7ff\">None</span>, <span style=\"color: #00af00; text-decoration-color: #00af00\">64</span>)             │        <span style=\"color: #00af00; text-decoration-color: #00af00\">49,408</span> │\n",
       "├─────────────────────────────────┼────────────────────────┼───────────────┤\n",
       "│ dropout_1 (<span style=\"color: #0087ff; text-decoration-color: #0087ff\">Dropout</span>)             │ (<span style=\"color: #00d7ff; text-decoration-color: #00d7ff\">None</span>, <span style=\"color: #00af00; text-decoration-color: #00af00\">64</span>)             │             <span style=\"color: #00af00; text-decoration-color: #00af00\">0</span> │\n",
       "├─────────────────────────────────┼────────────────────────┼───────────────┤\n",
       "│ dense (<span style=\"color: #0087ff; text-decoration-color: #0087ff\">Dense</span>)                   │ (<span style=\"color: #00d7ff; text-decoration-color: #00d7ff\">None</span>, <span style=\"color: #00af00; text-decoration-color: #00af00\">1</span>)              │            <span style=\"color: #00af00; text-decoration-color: #00af00\">65</span> │\n",
       "└─────────────────────────────────┴────────────────────────┴───────────────┘\n",
       "</pre>\n"
      ],
      "text/plain": [
       "┏━━━━━━━━━━━━━━━━━━━━━━━━━━━━━━━━━┳━━━━━━━━━━━━━━━━━━━━━━━━┳━━━━━━━━━━━━━━━┓\n",
       "┃\u001b[1m \u001b[0m\u001b[1mLayer (type)                   \u001b[0m\u001b[1m \u001b[0m┃\u001b[1m \u001b[0m\u001b[1mOutput Shape          \u001b[0m\u001b[1m \u001b[0m┃\u001b[1m \u001b[0m\u001b[1m      Param #\u001b[0m\u001b[1m \u001b[0m┃\n",
       "┡━━━━━━━━━━━━━━━━━━━━━━━━━━━━━━━━━╇━━━━━━━━━━━━━━━━━━━━━━━━╇━━━━━━━━━━━━━━━┩\n",
       "│ lstm (\u001b[38;5;33mLSTM\u001b[0m)                     │ (\u001b[38;5;45mNone\u001b[0m, \u001b[38;5;34m100\u001b[0m, \u001b[38;5;34m128\u001b[0m)       │        \u001b[38;5;34m66,560\u001b[0m │\n",
       "├─────────────────────────────────┼────────────────────────┼───────────────┤\n",
       "│ dropout (\u001b[38;5;33mDropout\u001b[0m)               │ (\u001b[38;5;45mNone\u001b[0m, \u001b[38;5;34m100\u001b[0m, \u001b[38;5;34m128\u001b[0m)       │             \u001b[38;5;34m0\u001b[0m │\n",
       "├─────────────────────────────────┼────────────────────────┼───────────────┤\n",
       "│ lstm_1 (\u001b[38;5;33mLSTM\u001b[0m)                   │ (\u001b[38;5;45mNone\u001b[0m, \u001b[38;5;34m64\u001b[0m)             │        \u001b[38;5;34m49,408\u001b[0m │\n",
       "├─────────────────────────────────┼────────────────────────┼───────────────┤\n",
       "│ dropout_1 (\u001b[38;5;33mDropout\u001b[0m)             │ (\u001b[38;5;45mNone\u001b[0m, \u001b[38;5;34m64\u001b[0m)             │             \u001b[38;5;34m0\u001b[0m │\n",
       "├─────────────────────────────────┼────────────────────────┼───────────────┤\n",
       "│ dense (\u001b[38;5;33mDense\u001b[0m)                   │ (\u001b[38;5;45mNone\u001b[0m, \u001b[38;5;34m1\u001b[0m)              │            \u001b[38;5;34m65\u001b[0m │\n",
       "└─────────────────────────────────┴────────────────────────┴───────────────┘\n"
      ]
     },
     "metadata": {},
     "output_type": "display_data"
    },
    {
     "data": {
      "text/html": [
       "<pre style=\"white-space:pre;overflow-x:auto;line-height:normal;font-family:Menlo,'DejaVu Sans Mono',consolas,'Courier New',monospace\"><span style=\"font-weight: bold\"> Total params: </span><span style=\"color: #00af00; text-decoration-color: #00af00\">116,033</span> (453.25 KB)\n",
       "</pre>\n"
      ],
      "text/plain": [
       "\u001b[1m Total params: \u001b[0m\u001b[38;5;34m116,033\u001b[0m (453.25 KB)\n"
      ]
     },
     "metadata": {},
     "output_type": "display_data"
    },
    {
     "data": {
      "text/html": [
       "<pre style=\"white-space:pre;overflow-x:auto;line-height:normal;font-family:Menlo,'DejaVu Sans Mono',consolas,'Courier New',monospace\"><span style=\"font-weight: bold\"> Trainable params: </span><span style=\"color: #00af00; text-decoration-color: #00af00\">116,033</span> (453.25 KB)\n",
       "</pre>\n"
      ],
      "text/plain": [
       "\u001b[1m Trainable params: \u001b[0m\u001b[38;5;34m116,033\u001b[0m (453.25 KB)\n"
      ]
     },
     "metadata": {},
     "output_type": "display_data"
    },
    {
     "data": {
      "text/html": [
       "<pre style=\"white-space:pre;overflow-x:auto;line-height:normal;font-family:Menlo,'DejaVu Sans Mono',consolas,'Courier New',monospace\"><span style=\"font-weight: bold\"> Non-trainable params: </span><span style=\"color: #00af00; text-decoration-color: #00af00\">0</span> (0.00 B)\n",
       "</pre>\n"
      ],
      "text/plain": [
       "\u001b[1m Non-trainable params: \u001b[0m\u001b[38;5;34m0\u001b[0m (0.00 B)\n"
      ]
     },
     "metadata": {},
     "output_type": "display_data"
    }
   ],
   "source": [
    "model.summary()"
   ]
  },
  {
   "cell_type": "markdown",
   "metadata": {},
   "source": [
    "## Training the model"
   ]
  },
  {
   "cell_type": "code",
   "execution_count": 19,
   "metadata": {},
   "outputs": [
    {
     "name": "stdout",
     "output_type": "stream",
     "text": [
      "Epoch 1/50\n",
      "\u001b[1m33/33\u001b[0m \u001b[32m━━━━━━━━━━━━━━━━━━━━\u001b[0m\u001b[37m\u001b[0m \u001b[1m6s\u001b[0m 100ms/step - loss: 0.0692 - mean_absolute_error: 0.1803\n",
      "Epoch 2/50\n",
      "\u001b[1m33/33\u001b[0m \u001b[32m━━━━━━━━━━━━━━━━━━━━\u001b[0m\u001b[37m\u001b[0m \u001b[1m5s\u001b[0m 101ms/step - loss: 0.0040 - mean_absolute_error: 0.0447\n",
      "Epoch 3/50\n",
      "\u001b[1m33/33\u001b[0m \u001b[32m━━━━━━━━━━━━━━━━━━━━\u001b[0m\u001b[37m\u001b[0m \u001b[1m5s\u001b[0m 110ms/step - loss: 0.0042 - mean_absolute_error: 0.0437\n",
      "Epoch 4/50\n",
      "\u001b[1m33/33\u001b[0m \u001b[32m━━━━━━━━━━━━━━━━━━━━\u001b[0m\u001b[37m\u001b[0m \u001b[1m5s\u001b[0m 107ms/step - loss: 0.0033 - mean_absolute_error: 0.0395\n",
      "Epoch 5/50\n",
      "\u001b[1m29/33\u001b[0m \u001b[32m━━━━━━━━━━━━━━━━━\u001b[0m\u001b[37m━━━\u001b[0m \u001b[1m0s\u001b[0m 103ms/step - loss: 0.0035 - mean_absolute_error: 0.0404"
     ]
    },
    {
     "name": "stdout",
     "output_type": "stream",
     "text": [
      "\u001b[1m33/33\u001b[0m \u001b[32m━━━━━━━━━━━━━━━━━━━━\u001b[0m\u001b[37m\u001b[0m \u001b[1m5s\u001b[0m 104ms/step - loss: 0.0035 - mean_absolute_error: 0.0402\n",
      "Epoch 6/50\n",
      "\u001b[1m33/33\u001b[0m \u001b[32m━━━━━━━━━━━━━━━━━━━━\u001b[0m\u001b[37m\u001b[0m \u001b[1m4s\u001b[0m 108ms/step - loss: 0.0037 - mean_absolute_error: 0.0410\n",
      "Epoch 7/50\n",
      "\u001b[1m33/33\u001b[0m \u001b[32m━━━━━━━━━━━━━━━━━━━━\u001b[0m\u001b[37m\u001b[0m \u001b[1m3s\u001b[0m 106ms/step - loss: 0.0035 - mean_absolute_error: 0.0407\n",
      "Epoch 8/50\n",
      "\u001b[1m33/33\u001b[0m \u001b[32m━━━━━━━━━━━━━━━━━━━━\u001b[0m\u001b[37m\u001b[0m \u001b[1m3s\u001b[0m 99ms/step - loss: 0.0032 - mean_absolute_error: 0.0381\n",
      "Epoch 9/50\n",
      "\u001b[1m33/33\u001b[0m \u001b[32m━━━━━━━━━━━━━━━━━━━━\u001b[0m\u001b[37m\u001b[0m \u001b[1m5s\u001b[0m 102ms/step - loss: 0.0032 - mean_absolute_error: 0.0382\n",
      "Epoch 10/50\n",
      "\u001b[1m33/33\u001b[0m \u001b[32m━━━━━━━━━━━━━━━━━━━━\u001b[0m\u001b[37m\u001b[0m \u001b[1m3s\u001b[0m 102ms/step - loss: 0.0029 - mean_absolute_error: 0.0365\n",
      "Epoch 11/50\n",
      "\u001b[1m33/33\u001b[0m \u001b[32m━━━━━━━━━━━━━━━━━━━━\u001b[0m\u001b[37m\u001b[0m \u001b[1m3s\u001b[0m 99ms/step - loss: 0.0028 - mean_absolute_error: 0.0356\n",
      "Epoch 12/50\n",
      "\u001b[1m33/33\u001b[0m \u001b[32m━━━━━━━━━━━━━━━━━━━━\u001b[0m\u001b[37m\u001b[0m \u001b[1m3s\u001b[0m 104ms/step - loss: 0.0028 - mean_absolute_error: 0.0360\n",
      "Epoch 13/50\n",
      "\u001b[1m33/33\u001b[0m \u001b[32m━━━━━━━━━━━━━━━━━━━━\u001b[0m\u001b[37m\u001b[0m \u001b[1m3s\u001b[0m 105ms/step - loss: 0.0030 - mean_absolute_error: 0.0372\n",
      "Epoch 14/50\n",
      "\u001b[1m33/33\u001b[0m \u001b[32m━━━━━━━━━━━━━━━━━━━━\u001b[0m\u001b[37m\u001b[0m \u001b[1m5s\u001b[0m 103ms/step - loss: 0.0036 - mean_absolute_error: 0.0424\n",
      "Epoch 15/50\n",
      "\u001b[1m33/33\u001b[0m \u001b[32m━━━━━━━━━━━━━━━━━━━━\u001b[0m\u001b[37m\u001b[0m \u001b[1m3s\u001b[0m 101ms/step - loss: 0.0024 - mean_absolute_error: 0.0337\n",
      "Epoch 16/50\n",
      "\u001b[1m33/33\u001b[0m \u001b[32m━━━━━━━━━━━━━━━━━━━━\u001b[0m\u001b[37m\u001b[0m \u001b[1m4s\u001b[0m 110ms/step - loss: 0.0026 - mean_absolute_error: 0.0343\n",
      "Epoch 17/50\n",
      "\u001b[1m33/33\u001b[0m \u001b[32m━━━━━━━━━━━━━━━━━━━━\u001b[0m\u001b[37m\u001b[0m \u001b[1m5s\u001b[0m 106ms/step - loss: 0.0026 - mean_absolute_error: 0.0343\n",
      "Epoch 18/50\n",
      "\u001b[1m33/33\u001b[0m \u001b[32m━━━━━━━━━━━━━━━━━━━━\u001b[0m\u001b[37m\u001b[0m \u001b[1m5s\u001b[0m 107ms/step - loss: 0.0023 - mean_absolute_error: 0.0321\n",
      "Epoch 19/50\n",
      "\u001b[1m33/33\u001b[0m \u001b[32m━━━━━━━━━━━━━━━━━━━━\u001b[0m\u001b[37m\u001b[0m \u001b[1m5s\u001b[0m 107ms/step - loss: 0.0024 - mean_absolute_error: 0.0327\n",
      "Epoch 20/50\n",
      "\u001b[1m33/33\u001b[0m \u001b[32m━━━━━━━━━━━━━━━━━━━━\u001b[0m\u001b[37m\u001b[0m \u001b[1m5s\u001b[0m 104ms/step - loss: 0.0021 - mean_absolute_error: 0.0309\n",
      "Epoch 21/50\n",
      "\u001b[1m33/33\u001b[0m \u001b[32m━━━━━━━━━━━━━━━━━━━━\u001b[0m\u001b[37m\u001b[0m \u001b[1m3s\u001b[0m 103ms/step - loss: 0.0023 - mean_absolute_error: 0.0322\n",
      "Epoch 22/50\n",
      "\u001b[1m33/33\u001b[0m \u001b[32m━━━━━━━━━━━━━━━━━━━━\u001b[0m\u001b[37m\u001b[0m \u001b[1m3s\u001b[0m 104ms/step - loss: 0.0022 - mean_absolute_error: 0.0315\n",
      "Epoch 23/50\n",
      "\u001b[1m33/33\u001b[0m \u001b[32m━━━━━━━━━━━━━━━━━━━━\u001b[0m\u001b[37m\u001b[0m \u001b[1m5s\u001b[0m 103ms/step - loss: 0.0022 - mean_absolute_error: 0.0324\n",
      "Epoch 24/50\n",
      "\u001b[1m33/33\u001b[0m \u001b[32m━━━━━━━━━━━━━━━━━━━━\u001b[0m\u001b[37m\u001b[0m \u001b[1m4s\u001b[0m 107ms/step - loss: 0.0021 - mean_absolute_error: 0.0317\n",
      "Epoch 25/50\n",
      "\u001b[1m33/33\u001b[0m \u001b[32m━━━━━━━━━━━━━━━━━━━━\u001b[0m\u001b[37m\u001b[0m \u001b[1m5s\u001b[0m 104ms/step - loss: 0.0021 - mean_absolute_error: 0.0305\n",
      "Epoch 26/50\n",
      "\u001b[1m33/33\u001b[0m \u001b[32m━━━━━━━━━━━━━━━━━━━━\u001b[0m\u001b[37m\u001b[0m \u001b[1m5s\u001b[0m 104ms/step - loss: 0.0023 - mean_absolute_error: 0.0321\n",
      "Epoch 27/50\n",
      "\u001b[1m33/33\u001b[0m \u001b[32m━━━━━━━━━━━━━━━━━━━━\u001b[0m\u001b[37m\u001b[0m \u001b[1m5s\u001b[0m 101ms/step - loss: 0.0025 - mean_absolute_error: 0.0334\n",
      "Epoch 28/50\n",
      "\u001b[1m33/33\u001b[0m \u001b[32m━━━━━━━━━━━━━━━━━━━━\u001b[0m\u001b[37m\u001b[0m \u001b[1m3s\u001b[0m 103ms/step - loss: 0.0022 - mean_absolute_error: 0.0320\n",
      "Epoch 29/50\n",
      "\u001b[1m33/33\u001b[0m \u001b[32m━━━━━━━━━━━━━━━━━━━━\u001b[0m\u001b[37m\u001b[0m \u001b[1m3s\u001b[0m 105ms/step - loss: 0.0022 - mean_absolute_error: 0.0321\n",
      "Epoch 30/50\n",
      "\u001b[1m33/33\u001b[0m \u001b[32m━━━━━━━━━━━━━━━━━━━━\u001b[0m\u001b[37m\u001b[0m \u001b[1m4s\u001b[0m 105ms/step - loss: 0.0022 - mean_absolute_error: 0.0318\n",
      "Epoch 31/50\n",
      "\u001b[1m33/33\u001b[0m \u001b[32m━━━━━━━━━━━━━━━━━━━━\u001b[0m\u001b[37m\u001b[0m \u001b[1m3s\u001b[0m 104ms/step - loss: 0.0021 - mean_absolute_error: 0.0326\n",
      "Epoch 32/50\n",
      "\u001b[1m33/33\u001b[0m \u001b[32m━━━━━━━━━━━━━━━━━━━━\u001b[0m\u001b[37m\u001b[0m \u001b[1m5s\u001b[0m 108ms/step - loss: 0.0019 - mean_absolute_error: 0.0289\n",
      "Epoch 33/50\n",
      "\u001b[1m33/33\u001b[0m \u001b[32m━━━━━━━━━━━━━━━━━━━━\u001b[0m\u001b[37m\u001b[0m \u001b[1m3s\u001b[0m 100ms/step - loss: 0.0018 - mean_absolute_error: 0.0283\n",
      "Epoch 34/50\n",
      "\u001b[1m33/33\u001b[0m \u001b[32m━━━━━━━━━━━━━━━━━━━━\u001b[0m\u001b[37m\u001b[0m \u001b[1m5s\u001b[0m 106ms/step - loss: 0.0021 - mean_absolute_error: 0.0310\n",
      "Epoch 35/50\n",
      "\u001b[1m33/33\u001b[0m \u001b[32m━━━━━━━━━━━━━━━━━━━━\u001b[0m\u001b[37m\u001b[0m \u001b[1m3s\u001b[0m 100ms/step - loss: 0.0020 - mean_absolute_error: 0.0305\n",
      "Epoch 36/50\n",
      "\u001b[1m33/33\u001b[0m \u001b[32m━━━━━━━━━━━━━━━━━━━━\u001b[0m\u001b[37m\u001b[0m \u001b[1m3s\u001b[0m 103ms/step - loss: 0.0018 - mean_absolute_error: 0.0282\n",
      "Epoch 37/50\n",
      "\u001b[1m33/33\u001b[0m \u001b[32m━━━━━━━━━━━━━━━━━━━━\u001b[0m\u001b[37m\u001b[0m \u001b[1m3s\u001b[0m 103ms/step - loss: 0.0016 - mean_absolute_error: 0.0266\n",
      "Epoch 38/50\n",
      "\u001b[1m33/33\u001b[0m \u001b[32m━━━━━━━━━━━━━━━━━━━━\u001b[0m\u001b[37m\u001b[0m \u001b[1m5s\u001b[0m 103ms/step - loss: 0.0017 - mean_absolute_error: 0.0275\n",
      "Epoch 39/50\n",
      "\u001b[1m33/33\u001b[0m \u001b[32m━━━━━━━━━━━━━━━━━━━━\u001b[0m\u001b[37m\u001b[0m \u001b[1m5s\u001b[0m 106ms/step - loss: 0.0020 - mean_absolute_error: 0.0297\n",
      "Epoch 40/50\n",
      "\u001b[1m33/33\u001b[0m \u001b[32m━━━━━━━━━━━━━━━━━━━━\u001b[0m\u001b[37m\u001b[0m \u001b[1m5s\u001b[0m 102ms/step - loss: 0.0018 - mean_absolute_error: 0.0291\n",
      "Epoch 41/50\n",
      "\u001b[1m33/33\u001b[0m \u001b[32m━━━━━━━━━━━━━━━━━━━━\u001b[0m\u001b[37m\u001b[0m \u001b[1m5s\u001b[0m 107ms/step - loss: 0.0018 - mean_absolute_error: 0.0283\n",
      "Epoch 42/50\n",
      "\u001b[1m33/33\u001b[0m \u001b[32m━━━━━━━━━━━━━━━━━━━━\u001b[0m\u001b[37m\u001b[0m \u001b[1m3s\u001b[0m 101ms/step - loss: 0.0017 - mean_absolute_error: 0.0271\n",
      "Epoch 43/50\n",
      "\u001b[1m33/33\u001b[0m \u001b[32m━━━━━━━━━━━━━━━━━━━━\u001b[0m\u001b[37m\u001b[0m \u001b[1m5s\u001b[0m 102ms/step - loss: 0.0018 - mean_absolute_error: 0.0281\n",
      "Epoch 44/50\n",
      "\u001b[1m33/33\u001b[0m \u001b[32m━━━━━━━━━━━━━━━━━━━━\u001b[0m\u001b[37m\u001b[0m \u001b[1m3s\u001b[0m 103ms/step - loss: 0.0015 - mean_absolute_error: 0.0262\n",
      "Epoch 45/50\n",
      "\u001b[1m33/33\u001b[0m \u001b[32m━━━━━━━━━━━━━━━━━━━━\u001b[0m\u001b[37m\u001b[0m \u001b[1m5s\u001b[0m 99ms/step - loss: 0.0015 - mean_absolute_error: 0.0279\n",
      "Epoch 46/50\n",
      "\u001b[1m33/33\u001b[0m \u001b[32m━━━━━━━━━━━━━━━━━━━━\u001b[0m\u001b[37m\u001b[0m \u001b[1m5s\u001b[0m 100ms/step - loss: 0.0017 - mean_absolute_error: 0.0278\n",
      "Epoch 47/50\n",
      "\u001b[1m33/33\u001b[0m \u001b[32m━━━━━━━━━━━━━━━━━━━━\u001b[0m\u001b[37m\u001b[0m \u001b[1m5s\u001b[0m 100ms/step - loss: 0.0015 - mean_absolute_error: 0.0267\n",
      "Epoch 48/50\n",
      "\u001b[1m33/33\u001b[0m \u001b[32m━━━━━━━━━━━━━━━━━━━━\u001b[0m\u001b[37m\u001b[0m \u001b[1m5s\u001b[0m 102ms/step - loss: 0.0016 - mean_absolute_error: 0.0275\n",
      "Epoch 49/50\n",
      "\u001b[1m33/33\u001b[0m \u001b[32m━━━━━━━━━━━━━━━━━━━━\u001b[0m\u001b[37m\u001b[0m \u001b[1m5s\u001b[0m 99ms/step - loss: 0.0017 - mean_absolute_error: 0.0267\n",
      "Epoch 50/50\n",
      "\u001b[1m33/33\u001b[0m \u001b[32m━━━━━━━━━━━━━━━━━━━━\u001b[0m\u001b[37m\u001b[0m \u001b[1m5s\u001b[0m 102ms/step - loss: 0.0018 - mean_absolute_error: 0.0294\n"
     ]
    },
    {
     "data": {
      "text/plain": [
       "<keras.src.callbacks.history.History at 0x721db41b17e0>"
      ]
     },
     "execution_count": 19,
     "metadata": {},
     "output_type": "execute_result"
    }
   ],
   "source": [
    "model.compile(optimizer = 'adam', loss = 'mean_squared_error', metrics=[tf.keras.metrics.MeanAbsoluteError()])\n",
    "model.fit(x_train, y_train,batch_size=32,epochs = 50)"
   ]
  },
  {
   "cell_type": "code",
   "execution_count": 20,
   "metadata": {},
   "outputs": [
    {
     "name": "stderr",
     "output_type": "stream",
     "text": [
      "WARNING:absl:You are saving your model as an HDF5 file via `model.save()` or `keras.saving.save_model(model)`. This file format is considered legacy. We recommend using instead the native Keras format, e.g. `model.save('my_model.keras')` or `keras.saving.save_model(model, 'my_model.keras')`. \n"
     ]
    }
   ],
   "source": [
    "model.save('model.h5')"
   ]
  },
  {
   "cell_type": "code",
   "execution_count": 21,
   "metadata": {},
   "outputs": [
    {
     "data": {
      "text/plain": [
       "(491, 1)"
      ]
     },
     "execution_count": 21,
     "metadata": {},
     "output_type": "execute_result"
    }
   ],
   "source": [
    "test_close.shape"
   ]
  },
  {
   "cell_type": "code",
   "execution_count": 22,
   "metadata": {},
   "outputs": [],
   "source": [
    "past_100_days = pd.DataFrame(train_close[-100:])"
   ]
  },
  {
   "cell_type": "code",
   "execution_count": 23,
   "metadata": {},
   "outputs": [],
   "source": [
    "test_df = pd.DataFrame(test_close)"
   ]
  },
  {
   "cell_type": "code",
   "execution_count": 24,
   "metadata": {},
   "outputs": [],
   "source": [
    "final_df = pd.concat([past_100_days, test_df], ignore_index=True)"
   ]
  },
  {
   "cell_type": "code",
   "execution_count": 25,
   "metadata": {},
   "outputs": [
    {
     "data": {
      "text/html": [
       "<div>\n",
       "<style scoped>\n",
       "    .dataframe tbody tr th:only-of-type {\n",
       "        vertical-align: middle;\n",
       "    }\n",
       "\n",
       "    .dataframe tbody tr th {\n",
       "        vertical-align: top;\n",
       "    }\n",
       "\n",
       "    .dataframe thead th {\n",
       "        text-align: right;\n",
       "    }\n",
       "</style>\n",
       "<table border=\"1\" class=\"dataframe\">\n",
       "  <thead>\n",
       "    <tr style=\"text-align: right;\">\n",
       "      <th></th>\n",
       "      <th>0</th>\n",
       "    </tr>\n",
       "  </thead>\n",
       "  <tbody>\n",
       "    <tr>\n",
       "      <th>0</th>\n",
       "      <td>17034.292969</td>\n",
       "    </tr>\n",
       "    <tr>\n",
       "      <th>1</th>\n",
       "      <td>16799.185547</td>\n",
       "    </tr>\n",
       "    <tr>\n",
       "      <th>2</th>\n",
       "      <td>16353.365234</td>\n",
       "    </tr>\n",
       "    <tr>\n",
       "      <th>3</th>\n",
       "      <td>16618.199219</td>\n",
       "    </tr>\n",
       "    <tr>\n",
       "      <th>4</th>\n",
       "      <td>16884.613281</td>\n",
       "    </tr>\n",
       "  </tbody>\n",
       "</table>\n",
       "</div>"
      ],
      "text/plain": [
       "              0\n",
       "0  17034.292969\n",
       "1  16799.185547\n",
       "2  16353.365234\n",
       "3  16618.199219\n",
       "4  16884.613281"
      ]
     },
     "execution_count": 25,
     "metadata": {},
     "output_type": "execute_result"
    }
   ],
   "source": [
    "final_df.head()"
   ]
  },
  {
   "cell_type": "code",
   "execution_count": 26,
   "metadata": {},
   "outputs": [
    {
     "data": {
      "text/plain": [
       "array([[0.02176424],\n",
       "       [0.01766088],\n",
       "       [0.0098799 ],\n",
       "       [0.01450209],\n",
       "       [0.01915186],\n",
       "       [0.0153964 ],\n",
       "       [0.01571192],\n",
       "       [0.01589098],\n",
       "       [0.0161313 ],\n",
       "       [0.00880595],\n",
       "       [0.        ],\n",
       "       [0.00702464],\n",
       "       [0.01437133],\n",
       "       [0.01426238],\n",
       "       [0.01282035],\n",
       "       [0.01181574],\n",
       "       [0.01147271],\n",
       "       [0.00750552],\n",
       "       [0.01147891],\n",
       "       [0.02410774],\n",
       "       [0.02059209],\n",
       "       [0.02271312],\n",
       "       [0.01956416],\n",
       "       [0.02344312],\n",
       "       [0.02072636],\n",
       "       [0.02272785],\n",
       "       [0.01851506],\n",
       "       [0.02524059],\n",
       "       [0.02348965],\n",
       "       [0.02341237],\n",
       "       [0.02298423],\n",
       "       [0.02476871],\n",
       "       [0.0348022 ],\n",
       "       [0.0354014 ],\n",
       "       [0.02753377],\n",
       "       [0.01501321],\n",
       "       [0.01758943],\n",
       "       [0.01694165],\n",
       "       [0.01138636],\n",
       "       [0.01953044],\n",
       "       [0.01798113],\n",
       "       [0.01820465],\n",
       "       [0.01762191],\n",
       "       [0.01850858],\n",
       "       [0.01840788],\n",
       "       [0.01976606],\n",
       "       [0.01622951],\n",
       "       [0.0133567 ],\n",
       "       [0.01492346],\n",
       "       [0.01422959],\n",
       "       [0.0132681 ],\n",
       "       [0.01462219],\n",
       "       [0.01572855],\n",
       "       [0.01557822],\n",
       "       [0.0187788 ],\n",
       "       [0.01831626],\n",
       "       [0.02032743],\n",
       "       [0.02038169],\n",
       "       [0.02275648],\n",
       "       [0.02459622],\n",
       "       [0.02895495],\n",
       "       [0.03748262],\n",
       "       [0.05379594],\n",
       "       [0.07194699],\n",
       "       [0.0905647 ],\n",
       "       [0.08889792],\n",
       "       [0.09393899],\n",
       "       [0.09379739],\n",
       "       [0.08554661],\n",
       "       [0.09249317],\n",
       "       [0.1202395 ],\n",
       "       [0.12200353],\n",
       "       [0.12100506],\n",
       "       [0.12474031],\n",
       "       [0.11953991],\n",
       "       [0.1279417 ],\n",
       "       [0.12645675],\n",
       "       [0.12725874],\n",
       "       [0.1264273 ],\n",
       "       [0.13940331],\n",
       "       [0.1230946 ],\n",
       "       [0.12831561],\n",
       "       [0.13851675],\n",
       "       [0.13412032],\n",
       "       [0.13372677],\n",
       "       [0.13167647],\n",
       "       [0.12511091],\n",
       "       [0.12169783],\n",
       "       [0.13049739],\n",
       "       [0.12482699],\n",
       "       [0.10527318],\n",
       "       [0.10234357],\n",
       "       [0.10617788],\n",
       "       [0.104735  ],\n",
       "       [0.10508229],\n",
       "       [0.11228526],\n",
       "       [0.14871065],\n",
       "       [0.13676628],\n",
       "       [0.15320937],\n",
       "       [0.15453016],\n",
       "       [0.14905624],\n",
       "       [0.1578091 ],\n",
       "       [0.15095359],\n",
       "       [0.14663376],\n",
       "       [0.14242141],\n",
       "       [0.12934262],\n",
       "       [0.12894553],\n",
       "       [0.13567962],\n",
       "       [0.13501043],\n",
       "       [0.12845646],\n",
       "       [0.13716903],\n",
       "       [0.13418308],\n",
       "       [0.11476143],\n",
       "       [0.11459859],\n",
       "       [0.11603261],\n",
       "       [0.11593215],\n",
       "       [0.11226719],\n",
       "       [0.10351113],\n",
       "       [0.07986107],\n",
       "       [0.0767932 ],\n",
       "       [0.08456276],\n",
       "       [0.11129295],\n",
       "       [0.14678542],\n",
       "       [0.15635919],\n",
       "       [0.14989955],\n",
       "       [0.16171234],\n",
       "       [0.20309623],\n",
       "       [0.1951018 ],\n",
       "       [0.21382549],\n",
       "       [0.20908802],\n",
       "       [0.21621903],\n",
       "       [0.20106307],\n",
       "       [0.21897936],\n",
       "       [0.2043067 ],\n",
       "       [0.20433152],\n",
       "       [0.21305152],\n",
       "       [0.19813882],\n",
       "       [0.20037705],\n",
       "       [0.21923188],\n",
       "       [0.21373625],\n",
       "       [0.22150154],\n",
       "       [0.22032434],\n",
       "       [0.21662904],\n",
       "       [0.20948917],\n",
       "       [0.21608418],\n",
       "       [0.21625687],\n",
       "       [0.21392087],\n",
       "       [0.21185649],\n",
       "       [0.21223933],\n",
       "       [0.21896327],\n",
       "       [0.24200021],\n",
       "       [0.25215931],\n",
       "       [0.25048371],\n",
       "       [0.25502177],\n",
       "       [0.25653378],\n",
       "       [0.25361556],\n",
       "       [0.25356075],\n",
       "       [0.23837108],\n",
       "       [0.25499535],\n",
       "       [0.22750884],\n",
       "       [0.21744375],\n",
       "       [0.20053028],\n",
       "       [0.20996528],\n",
       "       [0.20601885],\n",
       "       [0.20486616],\n",
       "       [0.21851903],\n",
       "       [0.22052795],\n",
       "       [0.23887272],\n",
       "       [0.23654228],\n",
       "       [0.23494054],\n",
       "       [0.23529516],\n",
       "       [0.21474864],\n",
       "       [0.225028  ],\n",
       "       [0.23071374],\n",
       "       [0.22794571],\n",
       "       [0.23993034],\n",
       "       [0.22893901],\n",
       "       [0.22109129],\n",
       "       [0.20781458],\n",
       "       [0.20719503],\n",
       "       [0.20654892],\n",
       "       [0.19571109],\n",
       "       [0.19229378],\n",
       "       [0.1919288 ],\n",
       "       [0.19448674],\n",
       "       [0.19906043],\n",
       "       [0.19633698],\n",
       "       [0.20265769],\n",
       "       [0.19276884],\n",
       "       [0.19377972],\n",
       "       [0.197959  ],\n",
       "       [0.19140081],\n",
       "       [0.19310164],\n",
       "       [0.19963696],\n",
       "       [0.1840878 ],\n",
       "       [0.18655548],\n",
       "       [0.19079806],\n",
       "       [0.19339967],\n",
       "       [0.21464528],\n",
       "       [0.20871536],\n",
       "       [0.20795554],\n",
       "       [0.19953105],\n",
       "       [0.19255527],\n",
       "       [0.20005345],\n",
       "       [0.19700856],\n",
       "       [0.1977754 ],\n",
       "       [0.17405711],\n",
       "       [0.19986484],\n",
       "       [0.18428292],\n",
       "       [0.18711415],\n",
       "       [0.18662822],\n",
       "       [0.17564783],\n",
       "       [0.1771999 ],\n",
       "       [0.17654248],\n",
       "       [0.17682572],\n",
       "       [0.16296699],\n",
       "       [0.17085091],\n",
       "       [0.18395942],\n",
       "       [0.18715707],\n",
       "       [0.18411214],\n",
       "       [0.19309731],\n",
       "       [0.21886618],\n",
       "       [0.24853321],\n",
       "       [0.24652583],\n",
       "       [0.26019492],\n",
       "       [0.25763326],\n",
       "       [0.25643888],\n",
       "       [0.25278889],\n",
       "       [0.26006743],\n",
       "       [0.24956206],\n",
       "       [0.25582959],\n",
       "       [0.25638635],\n",
       "       [0.25835553],\n",
       "       [0.25889119],\n",
       "       [0.26824032],\n",
       "       [0.26162806],\n",
       "       [0.25703062],\n",
       "       [0.24647446],\n",
       "       [0.25403041],\n",
       "       [0.25316256],\n",
       "       [0.25104538],\n",
       "       [0.25529062],\n",
       "       [0.25889436],\n",
       "       [0.25489227],\n",
       "       [0.27381851],\n",
       "       [0.25388735],\n",
       "       [0.25321956],\n",
       "       [0.25240495],\n",
       "       [0.25060302],\n",
       "       [0.24555336],\n",
       "       [0.2465545 ],\n",
       "       [0.24442681],\n",
       "       [0.24646409],\n",
       "       [0.24407403],\n",
       "       [0.24953227],\n",
       "       [0.23369138],\n",
       "       [0.23457232],\n",
       "       [0.23679903],\n",
       "       [0.23428083],\n",
       "       [0.23617549],\n",
       "       [0.23683298],\n",
       "       [0.23540864],\n",
       "       [0.23461981],\n",
       "       [0.2423973 ],\n",
       "       [0.2332558 ],\n",
       "       [0.23372216],\n",
       "       [0.23189677],\n",
       "       [0.23133889],\n",
       "       [0.23133415],\n",
       "       [0.2337553 ],\n",
       "       [0.2439639 ],\n",
       "       [0.24040349],\n",
       "       [0.23810137],\n",
       "       [0.23754502],\n",
       "       [0.23786354],\n",
       "       [0.23554138],\n",
       "       [0.23773227],\n",
       "       [0.23357674],\n",
       "       [0.22539874],\n",
       "       [0.18984267],\n",
       "       [0.17910908],\n",
       "       [0.17992324],\n",
       "       [0.181553  ],\n",
       "       [0.18041081],\n",
       "       [0.17879666],\n",
       "       [0.18577765],\n",
       "       [0.18107808],\n",
       "       [0.17907612],\n",
       "       [0.17839186],\n",
       "       [0.17980959],\n",
       "       [0.18009682],\n",
       "       [0.20839262],\n",
       "       [0.20088554],\n",
       "       [0.17704814],\n",
       "       [0.17476617],\n",
       "       [0.17595428],\n",
       "       [0.177713  ],\n",
       "       [0.17497023],\n",
       "       [0.17440416],\n",
       "       [0.17393735],\n",
       "       [0.18243633],\n",
       "       [0.17659753],\n",
       "       [0.17642341],\n",
       "       [0.17531598],\n",
       "       [0.16362983],\n",
       "       [0.17533548],\n",
       "       [0.18222914],\n",
       "       [0.18766317],\n",
       "       [0.18886778],\n",
       "       [0.18816246],\n",
       "       [0.18756742],\n",
       "       [0.19140875],\n",
       "       [0.19938198],\n",
       "       [0.19800127],\n",
       "       [0.18815115],\n",
       "       [0.18835946],\n",
       "       [0.18835636],\n",
       "       [0.18272659],\n",
       "       [0.18345359],\n",
       "       [0.18203586],\n",
       "       [0.18440018],\n",
       "       [0.19607338],\n",
       "       [0.19415657],\n",
       "       [0.19513735],\n",
       "       [0.21286686],\n",
       "       [0.2049612 ],\n",
       "       [0.2032018 ],\n",
       "       [0.20964928],\n",
       "       [0.2029563 ],\n",
       "       [0.21221844],\n",
       "       [0.21260664],\n",
       "       [0.21201759],\n",
       "       [0.20588434],\n",
       "       [0.20252185],\n",
       "       [0.19348636],\n",
       "       [0.19145269],\n",
       "       [0.19329533],\n",
       "       [0.19328367],\n",
       "       [0.19848376],\n",
       "       [0.22221682],\n",
       "       [0.2204066 ],\n",
       "       [0.21888108],\n",
       "       [0.22571338],\n",
       "       [0.24252326],\n",
       "       [0.24663283],\n",
       "       [0.24795027],\n",
       "       [0.30192134],\n",
       "       [0.31615078],\n",
       "       [0.32664524],\n",
       "       [0.32060345],\n",
       "       [0.31629517],\n",
       "       [0.31943279],\n",
       "       [0.32726762],\n",
       "       [0.32663726],\n",
       "       [0.32952433],\n",
       "       [0.34295406],\n",
       "       [0.33424473],\n",
       "       [0.33065081],\n",
       "       [0.33675716],\n",
       "       [0.336184  ],\n",
       "       [0.33597484],\n",
       "       [0.34306416],\n",
       "       [0.34675926],\n",
       "       [0.36487298],\n",
       "       [0.37570866],\n",
       "       [0.37263834],\n",
       "       [0.37118045],\n",
       "       [0.36154345],\n",
       "       [0.34470612],\n",
       "       [0.38559785],\n",
       "       [0.35547697],\n",
       "       [0.36318977],\n",
       "       [0.36299813],\n",
       "       [0.37697538],\n",
       "       [0.37855332],\n",
       "       [0.3495262 ],\n",
       "       [0.37777461],\n",
       "       [0.37528372],\n",
       "       [0.3828001 ],\n",
       "       [0.38413547],\n",
       "       [0.37859109],\n",
       "       [0.37466495],\n",
       "       [0.38473399],\n",
       "       [0.38521232],\n",
       "       [0.38266859],\n",
       "       [0.39970294],\n",
       "       [0.41344873],\n",
       "       [0.42221124],\n",
       "       [0.45714735],\n",
       "       [0.4938086 ],\n",
       "       [0.4879757 ],\n",
       "       [0.48005579],\n",
       "       [0.49530876],\n",
       "       [0.48761859],\n",
       "       [0.48855609],\n",
       "       [0.44429719],\n",
       "       [0.44789936],\n",
       "       [0.47304098],\n",
       "       [0.47536627],\n",
       "       [0.45626877],\n",
       "       [0.46168552],\n",
       "       [0.44640609],\n",
       "       [0.46837744],\n",
       "       [0.46221627],\n",
       "       [0.4863317 ],\n",
       "       [0.49011733],\n",
       "       [0.49236442],\n",
       "       [0.48785523],\n",
       "       [0.47522917],\n",
       "       [0.48564911],\n",
       "       [0.46657738],\n",
       "       [0.4826771 ],\n",
       "       [0.46845277],\n",
       "       [0.4592296 ],\n",
       "       [0.46023315],\n",
       "       [0.46212307],\n",
       "       [0.49532151],\n",
       "       [0.50912061],\n",
       "       [0.47229806],\n",
       "       [0.49554124],\n",
       "       [0.49524051],\n",
       "       [0.49221246],\n",
       "       [0.49140791],\n",
       "       [0.54424571],\n",
       "       [0.52974609],\n",
       "       [0.53826405],\n",
       "       [0.53374034],\n",
       "       [0.47238519],\n",
       "       [0.47219695],\n",
       "       [0.45393897],\n",
       "       [0.46643019],\n",
       "       [0.47765216],\n",
       "       [0.47045634],\n",
       "       [0.4446153 ],\n",
       "       [0.4508347 ],\n",
       "       [0.45165813],\n",
       "       [0.44956723],\n",
       "       [0.41399039],\n",
       "       [0.41989277],\n",
       "       [0.42393358],\n",
       "       [0.42143314],\n",
       "       [0.45429854],\n",
       "       [0.45959005],\n",
       "       [0.45811594],\n",
       "       [0.47997868],\n",
       "       [0.47412076],\n",
       "       [0.46766302],\n",
       "       [0.47627036],\n",
       "       [0.47819171],\n",
       "       [0.47481261],\n",
       "       [0.46768006],\n",
       "       [0.46899055],\n",
       "       [0.47642566],\n",
       "       [0.49795502],\n",
       "       [0.51511748],\n",
       "       [0.5473296 ],\n",
       "       [0.55822174],\n",
       "       [0.56734347],\n",
       "       [0.59639084],\n",
       "       [0.59262478],\n",
       "       [0.62900159],\n",
       "       [0.63095389],\n",
       "       [0.63482236],\n",
       "       [0.62614453],\n",
       "       [0.63416514],\n",
       "       [0.62817168],\n",
       "       [0.63699828],\n",
       "       [0.62921949],\n",
       "       [0.61989589],\n",
       "       [0.60989482],\n",
       "       [0.62454068],\n",
       "       [0.62737047],\n",
       "       [0.6760502 ],\n",
       "       [0.7207821 ],\n",
       "       [0.81536807],\n",
       "       [0.79256715],\n",
       "       [0.81424834],\n",
       "       [0.80707884],\n",
       "       [0.82693222],\n",
       "       [0.91704363],\n",
       "       [0.83799452],\n",
       "       [0.87823462],\n",
       "       [0.89252317],\n",
       "       [0.91651445],\n",
       "       [0.91998394],\n",
       "       [0.9290754 ],\n",
       "       [0.98325206],\n",
       "       [0.97203636],\n",
       "       [1.        ],\n",
       "       [0.97055816],\n",
       "       [0.93577714],\n",
       "       [0.86441717],\n",
       "       [0.9180945 ],\n",
       "       [0.9033984 ],\n",
       "       [0.80503553],\n",
       "       [0.90977016],\n",
       "       [0.8674937 ],\n",
       "       [0.83760292],\n",
       "       [0.84254987],\n",
       "       [0.89791074],\n",
       "       [0.94546433],\n",
       "       [0.94597088],\n",
       "       [0.93667721],\n",
       "       [0.95918497],\n",
       "       [0.94431269],\n",
       "       [0.93999263],\n",
       "       [0.96945956],\n",
       "       [0.94098473],\n",
       "       [0.86671847],\n",
       "       [0.87603566],\n",
       "       [0.92015779],\n",
       "       [0.90844318],\n",
       "       [0.9269168 ],\n",
       "       [0.93505775],\n",
       "       [0.97465556],\n",
       "       [0.93115628],\n",
       "       [0.95644359],\n",
       "       [0.94724101],\n",
       "       [0.8972422 ],\n",
       "       [0.83834836],\n",
       "       [0.8718105 ],\n",
       "       [0.83144979],\n",
       "       [0.83818064],\n",
       "       [0.79393389],\n",
       "       [0.83296024],\n",
       "       [0.83873403],\n",
       "       [0.85882037],\n",
       "       [0.8576371 ],\n",
       "       [0.8909907 ],\n",
       "       [0.88347875],\n",
       "       [0.84629698],\n",
       "       [0.84987153],\n",
       "       [0.83719379],\n",
       "       [0.83132639],\n",
       "       [0.82598729],\n",
       "       [0.83869129],\n",
       "       [0.78276673],\n",
       "       [0.74117857],\n",
       "       [0.75635273],\n",
       "       [0.82208835],\n",
       "       [0.83957008],\n",
       "       [0.84200759],\n",
       "       [0.82683759],\n",
       "       [0.81240151],\n",
       "       [0.79238492],\n",
       "       [0.82488304],\n",
       "       [0.78548806],\n",
       "       [0.78550435],\n",
       "       [0.79693065],\n",
       "       [0.82229104],\n",
       "       [0.79875266],\n",
       "       [0.88103913],\n",
       "       [0.86295922],\n",
       "       [0.89472909],\n",
       "       [0.89279056],\n",
       "       [0.88122893],\n",
       "       [0.97145877],\n",
       "       [0.94856608],\n",
       "       [0.93086517],\n",
       "       [0.91004751],\n",
       "       [0.920459  ],\n",
       "       [0.93337161],\n",
       "       [0.92031924],\n",
       "       [0.93561625],\n",
       "       [0.91644682],\n",
       "       [0.90391327],\n",
       "       [0.91764713],\n",
       "       [0.90240043],\n",
       "       [0.906162  ],\n",
       "       [0.90694153],\n",
       "       [0.92532284],\n",
       "       [0.95609249],\n",
       "       [0.96508182],\n",
       "       [0.95939809],\n",
       "       [0.93470923],\n",
       "       [0.93406674],\n",
       "       [0.94003953],\n",
       "       [0.93767095],\n",
       "       [0.8996187 ],\n",
       "       [0.91548635],\n",
       "       [0.88957209],\n",
       "       [0.87656416],\n",
       "       [0.8797041 ],\n",
       "       [0.88752393],\n",
       "       [0.88492777],\n",
       "       [0.86137385],\n",
       "       [0.85822444],\n",
       "       [0.85592689],\n",
       "       [0.8431432 ],\n",
       "       [0.84587251],\n",
       "       [0.82716654]])"
      ]
     },
     "execution_count": 26,
     "metadata": {},
     "output_type": "execute_result"
    }
   ],
   "source": [
    "input_data = scaler.fit_transform(final_df)\n",
    "input_data"
   ]
  },
  {
   "cell_type": "code",
   "execution_count": 27,
   "metadata": {},
   "outputs": [
    {
     "data": {
      "text/plain": [
       "(591, 1)"
      ]
     },
     "execution_count": 27,
     "metadata": {},
     "output_type": "execute_result"
    }
   ],
   "source": [
    "input_data.shape"
   ]
  },
  {
   "cell_type": "markdown",
   "metadata": {},
   "source": [
    "## Testing the model"
   ]
  },
  {
   "cell_type": "code",
   "execution_count": 28,
   "metadata": {},
   "outputs": [],
   "source": [
    "x_test = []\n",
    "y_test = []\n",
    "for i in range(100, input_data.shape[0]):\n",
    "   x_test.append(input_data[i-100: i])\n",
    "   y_test.append(input_data[i, 0])"
   ]
  },
  {
   "cell_type": "code",
   "execution_count": 29,
   "metadata": {},
   "outputs": [
    {
     "name": "stdout",
     "output_type": "stream",
     "text": [
      "(491, 100, 1)\n",
      "(491,)\n"
     ]
    }
   ],
   "source": [
    "x_test, y_test = np.array(x_test), np.array(y_test)\n",
    "print(x_test.shape)\n",
    "print(y_test.shape)"
   ]
  },
  {
   "cell_type": "markdown",
   "metadata": {},
   "source": [
    "## predicting"
   ]
  },
  {
   "cell_type": "code",
   "execution_count": 30,
   "metadata": {},
   "outputs": [
    {
     "name": "stdout",
     "output_type": "stream",
     "text": [
      "\u001b[1m16/16\u001b[0m \u001b[32m━━━━━━━━━━━━━━━━━━━━\u001b[0m\u001b[37m\u001b[0m \u001b[1m1s\u001b[0m 55ms/step\n"
     ]
    }
   ],
   "source": [
    "y_pred = model.predict(x_test)"
   ]
  },
  {
   "cell_type": "code",
   "execution_count": 31,
   "metadata": {},
   "outputs": [
    {
     "data": {
      "text/plain": [
       "(491, 1)"
      ]
     },
     "execution_count": 31,
     "metadata": {},
     "output_type": "execute_result"
    }
   ],
   "source": [
    "y_pred.shape"
   ]
  },
  {
   "cell_type": "code",
   "execution_count": 32,
   "metadata": {},
   "outputs": [
    {
     "data": {
      "text/plain": [
       "array([0.14905624, 0.1578091 , 0.15095359, 0.14663376, 0.14242141,\n",
       "       0.12934262, 0.12894553, 0.13567962, 0.13501043, 0.12845646,\n",
       "       0.13716903, 0.13418308, 0.11476143, 0.11459859, 0.11603261,\n",
       "       0.11593215, 0.11226719, 0.10351113, 0.07986107, 0.0767932 ,\n",
       "       0.08456276, 0.11129295, 0.14678542, 0.15635919, 0.14989955,\n",
       "       0.16171234, 0.20309623, 0.1951018 , 0.21382549, 0.20908802,\n",
       "       0.21621903, 0.20106307, 0.21897936, 0.2043067 , 0.20433152,\n",
       "       0.21305152, 0.19813882, 0.20037705, 0.21923188, 0.21373625,\n",
       "       0.22150154, 0.22032434, 0.21662904, 0.20948917, 0.21608418,\n",
       "       0.21625687, 0.21392087, 0.21185649, 0.21223933, 0.21896327,\n",
       "       0.24200021, 0.25215931, 0.25048371, 0.25502177, 0.25653378,\n",
       "       0.25361556, 0.25356075, 0.23837108, 0.25499535, 0.22750884,\n",
       "       0.21744375, 0.20053028, 0.20996528, 0.20601885, 0.20486616,\n",
       "       0.21851903, 0.22052795, 0.23887272, 0.23654228, 0.23494054,\n",
       "       0.23529516, 0.21474864, 0.225028  , 0.23071374, 0.22794571,\n",
       "       0.23993034, 0.22893901, 0.22109129, 0.20781458, 0.20719503,\n",
       "       0.20654892, 0.19571109, 0.19229378, 0.1919288 , 0.19448674,\n",
       "       0.19906043, 0.19633698, 0.20265769, 0.19276884, 0.19377972,\n",
       "       0.197959  , 0.19140081, 0.19310164, 0.19963696, 0.1840878 ,\n",
       "       0.18655548, 0.19079806, 0.19339967, 0.21464528, 0.20871536,\n",
       "       0.20795554, 0.19953105, 0.19255527, 0.20005345, 0.19700856,\n",
       "       0.1977754 , 0.17405711, 0.19986484, 0.18428292, 0.18711415,\n",
       "       0.18662822, 0.17564783, 0.1771999 , 0.17654248, 0.17682572,\n",
       "       0.16296699, 0.17085091, 0.18395942, 0.18715707, 0.18411214,\n",
       "       0.19309731, 0.21886618, 0.24853321, 0.24652583, 0.26019492,\n",
       "       0.25763326, 0.25643888, 0.25278889, 0.26006743, 0.24956206,\n",
       "       0.25582959, 0.25638635, 0.25835553, 0.25889119, 0.26824032,\n",
       "       0.26162806, 0.25703062, 0.24647446, 0.25403041, 0.25316256,\n",
       "       0.25104538, 0.25529062, 0.25889436, 0.25489227, 0.27381851,\n",
       "       0.25388735, 0.25321956, 0.25240495, 0.25060302, 0.24555336,\n",
       "       0.2465545 , 0.24442681, 0.24646409, 0.24407403, 0.24953227,\n",
       "       0.23369138, 0.23457232, 0.23679903, 0.23428083, 0.23617549,\n",
       "       0.23683298, 0.23540864, 0.23461981, 0.2423973 , 0.2332558 ,\n",
       "       0.23372216, 0.23189677, 0.23133889, 0.23133415, 0.2337553 ,\n",
       "       0.2439639 , 0.24040349, 0.23810137, 0.23754502, 0.23786354,\n",
       "       0.23554138, 0.23773227, 0.23357674, 0.22539874, 0.18984267,\n",
       "       0.17910908, 0.17992324, 0.181553  , 0.18041081, 0.17879666,\n",
       "       0.18577765, 0.18107808, 0.17907612, 0.17839186, 0.17980959,\n",
       "       0.18009682, 0.20839262, 0.20088554, 0.17704814, 0.17476617,\n",
       "       0.17595428, 0.177713  , 0.17497023, 0.17440416, 0.17393735,\n",
       "       0.18243633, 0.17659753, 0.17642341, 0.17531598, 0.16362983,\n",
       "       0.17533548, 0.18222914, 0.18766317, 0.18886778, 0.18816246,\n",
       "       0.18756742, 0.19140875, 0.19938198, 0.19800127, 0.18815115,\n",
       "       0.18835946, 0.18835636, 0.18272659, 0.18345359, 0.18203586,\n",
       "       0.18440018, 0.19607338, 0.19415657, 0.19513735, 0.21286686,\n",
       "       0.2049612 , 0.2032018 , 0.20964928, 0.2029563 , 0.21221844,\n",
       "       0.21260664, 0.21201759, 0.20588434, 0.20252185, 0.19348636,\n",
       "       0.19145269, 0.19329533, 0.19328367, 0.19848376, 0.22221682,\n",
       "       0.2204066 , 0.21888108, 0.22571338, 0.24252326, 0.24663283,\n",
       "       0.24795027, 0.30192134, 0.31615078, 0.32664524, 0.32060345,\n",
       "       0.31629517, 0.31943279, 0.32726762, 0.32663726, 0.32952433,\n",
       "       0.34295406, 0.33424473, 0.33065081, 0.33675716, 0.336184  ,\n",
       "       0.33597484, 0.34306416, 0.34675926, 0.36487298, 0.37570866,\n",
       "       0.37263834, 0.37118045, 0.36154345, 0.34470612, 0.38559785,\n",
       "       0.35547697, 0.36318977, 0.36299813, 0.37697538, 0.37855332,\n",
       "       0.3495262 , 0.37777461, 0.37528372, 0.3828001 , 0.38413547,\n",
       "       0.37859109, 0.37466495, 0.38473399, 0.38521232, 0.38266859,\n",
       "       0.39970294, 0.41344873, 0.42221124, 0.45714735, 0.4938086 ,\n",
       "       0.4879757 , 0.48005579, 0.49530876, 0.48761859, 0.48855609,\n",
       "       0.44429719, 0.44789936, 0.47304098, 0.47536627, 0.45626877,\n",
       "       0.46168552, 0.44640609, 0.46837744, 0.46221627, 0.4863317 ,\n",
       "       0.49011733, 0.49236442, 0.48785523, 0.47522917, 0.48564911,\n",
       "       0.46657738, 0.4826771 , 0.46845277, 0.4592296 , 0.46023315,\n",
       "       0.46212307, 0.49532151, 0.50912061, 0.47229806, 0.49554124,\n",
       "       0.49524051, 0.49221246, 0.49140791, 0.54424571, 0.52974609,\n",
       "       0.53826405, 0.53374034, 0.47238519, 0.47219695, 0.45393897,\n",
       "       0.46643019, 0.47765216, 0.47045634, 0.4446153 , 0.4508347 ,\n",
       "       0.45165813, 0.44956723, 0.41399039, 0.41989277, 0.42393358,\n",
       "       0.42143314, 0.45429854, 0.45959005, 0.45811594, 0.47997868,\n",
       "       0.47412076, 0.46766302, 0.47627036, 0.47819171, 0.47481261,\n",
       "       0.46768006, 0.46899055, 0.47642566, 0.49795502, 0.51511748,\n",
       "       0.5473296 , 0.55822174, 0.56734347, 0.59639084, 0.59262478,\n",
       "       0.62900159, 0.63095389, 0.63482236, 0.62614453, 0.63416514,\n",
       "       0.62817168, 0.63699828, 0.62921949, 0.61989589, 0.60989482,\n",
       "       0.62454068, 0.62737047, 0.6760502 , 0.7207821 , 0.81536807,\n",
       "       0.79256715, 0.81424834, 0.80707884, 0.82693222, 0.91704363,\n",
       "       0.83799452, 0.87823462, 0.89252317, 0.91651445, 0.91998394,\n",
       "       0.9290754 , 0.98325206, 0.97203636, 1.        , 0.97055816,\n",
       "       0.93577714, 0.86441717, 0.9180945 , 0.9033984 , 0.80503553,\n",
       "       0.90977016, 0.8674937 , 0.83760292, 0.84254987, 0.89791074,\n",
       "       0.94546433, 0.94597088, 0.93667721, 0.95918497, 0.94431269,\n",
       "       0.93999263, 0.96945956, 0.94098473, 0.86671847, 0.87603566,\n",
       "       0.92015779, 0.90844318, 0.9269168 , 0.93505775, 0.97465556,\n",
       "       0.93115628, 0.95644359, 0.94724101, 0.8972422 , 0.83834836,\n",
       "       0.8718105 , 0.83144979, 0.83818064, 0.79393389, 0.83296024,\n",
       "       0.83873403, 0.85882037, 0.8576371 , 0.8909907 , 0.88347875,\n",
       "       0.84629698, 0.84987153, 0.83719379, 0.83132639, 0.82598729,\n",
       "       0.83869129, 0.78276673, 0.74117857, 0.75635273, 0.82208835,\n",
       "       0.83957008, 0.84200759, 0.82683759, 0.81240151, 0.79238492,\n",
       "       0.82488304, 0.78548806, 0.78550435, 0.79693065, 0.82229104,\n",
       "       0.79875266, 0.88103913, 0.86295922, 0.89472909, 0.89279056,\n",
       "       0.88122893, 0.97145877, 0.94856608, 0.93086517, 0.91004751,\n",
       "       0.920459  , 0.93337161, 0.92031924, 0.93561625, 0.91644682,\n",
       "       0.90391327, 0.91764713, 0.90240043, 0.906162  , 0.90694153,\n",
       "       0.92532284, 0.95609249, 0.96508182, 0.95939809, 0.93470923,\n",
       "       0.93406674, 0.94003953, 0.93767095, 0.8996187 , 0.91548635,\n",
       "       0.88957209, 0.87656416, 0.8797041 , 0.88752393, 0.88492777,\n",
       "       0.86137385, 0.85822444, 0.85592689, 0.8431432 , 0.84587251,\n",
       "       0.82716654])"
      ]
     },
     "execution_count": 32,
     "metadata": {},
     "output_type": "execute_result"
    }
   ],
   "source": [
    "y_test"
   ]
  },
  {
   "cell_type": "markdown",
   "metadata": {},
   "source": [
    "## reverting price value"
   ]
  },
  {
   "cell_type": "code",
   "execution_count": 33,
   "metadata": {},
   "outputs": [],
   "source": [
    "scaling_factor = scaler.scale_[0]"
   ]
  },
  {
   "cell_type": "code",
   "execution_count": 34,
   "metadata": {},
   "outputs": [],
   "source": [
    "scaling_factor_decimal = format(scaling_factor, '.10f')"
   ]
  },
  {
   "cell_type": "code",
   "execution_count": 35,
   "metadata": {},
   "outputs": [
    {
     "data": {
      "text/plain": [
       "'0.0000174532'"
      ]
     },
     "execution_count": 35,
     "metadata": {},
     "output_type": "execute_result"
    }
   ],
   "source": [
    "scaling_factor_decimal"
   ]
  },
  {
   "cell_type": "code",
   "execution_count": 36,
   "metadata": {},
   "outputs": [],
   "source": [
    "scale_factor = 1/0.0000174532\n",
    "y_pred = y_pred * scale_factor\n",
    "y_test = y_test * scale_factor"
   ]
  },
  {
   "cell_type": "code",
   "execution_count": 37,
   "metadata": {},
   "outputs": [
    {
     "data": {
      "image/png": "[encoded data removed]",
      "text/plain": [
       "<Figure size 1200x600 with 1 Axes>"
      ]
     },
     "metadata": {},
     "output_type": "display_data"
    }
   ],
   "source": [
    "plt.figure(figsize = (12,6))\n",
    "plt.plot(y_test, 'b', label = \"Original Price\")\n",
    "plt.plot(y_pred, 'r', label = \"Predicted Price\")\n",
    "plt.xlabel('Time')\n",
    "plt.ylabel('Price')\n",
    "plt.legend()\n",
    "plt.grid(True)\n",
    "plt.show()"
   ]
  }
 ],
 "metadata": {
  "kernelspec": {
   "display_name": ".venv",
   "language": "python",
   "name": "python3"
  },
  "language_info": {
   "codemirror_mode": {
    "name": "ipython",
    "version": 3
   },
   "file_extension": ".py",
   "mimetype": "text/x-python",
   "name": "python",
   "nbconvert_exporter": "python",
   "pygments_lexer": "ipython3",
   "version": "3.10.13"
  }
 },
 "nbformat": 4,
 "nbformat_minor": 2
}
