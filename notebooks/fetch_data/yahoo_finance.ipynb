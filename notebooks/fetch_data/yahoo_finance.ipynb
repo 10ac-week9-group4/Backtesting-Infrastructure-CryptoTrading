{
 "cells": [
  {
   "cell_type": "markdown",
   "metadata": {},
   "source": [
    "#### Fetching Microsoft Stock Data (official code example from yfinance)"
   ]
  },
  {
   "cell_type": "code",
   "execution_count": 3,
   "metadata": {},
   "outputs": [],
   "source": [
    "import yfinance as yf\n",
    "\n",
    "msft = yf.Ticker(\"MSFT\")\n",
    "\n",
    "# get all stock info\n",
    "msft.info\n",
    "\n",
    "# get historical market data\n",
    "hist = msft.history(period=\"1mo\")\n",
    "\n",
    "# show meta information about the history (requires history() to be called first)\n",
    "msft.history_metadata\n",
    "\n",
    "# show actions (dividends, splits, capital gains)\n",
    "msft.actions\n",
    "msft.dividends\n",
    "msft.splits\n",
    "msft.capital_gains  # only for mutual funds & etfs\n",
    "\n",
    "# show share count\n",
    "msft.get_shares_full(start=\"2022-01-01\", end=None)\n",
    "\n",
    "# show financials:\n",
    "# - income statement\n",
    "msft.income_stmt\n",
    "msft.quarterly_income_stmt\n",
    "# - balance sheet\n",
    "msft.balance_sheet\n",
    "msft.quarterly_balance_sheet\n",
    "# - cash flow statement\n",
    "msft.cashflow\n",
    "msft.quarterly_cashflow\n",
    "# see `Ticker.get_income_stmt()` for more options\n",
    "\n",
    "# show holders\n",
    "msft.major_holders\n",
    "msft.institutional_holders\n",
    "msft.mutualfund_holders\n",
    "msft.insider_transactions\n",
    "msft.insider_purchases\n",
    "msft.insider_roster_holders\n",
    "\n",
    "# show recommendations\n",
    "msft.recommendations\n",
    "msft.recommendations_summary\n",
    "msft.upgrades_downgrades\n",
    "\n",
    "# Show future and historic earnings dates, returns at most next 4 quarters and last 8 quarters by default.\n",
    "# Note: If more are needed use msft.get_earnings_dates(limit=XX) with increased limit argument.\n",
    "msft.earnings_dates\n",
    "\n",
    "# show ISIN code - *experimental*\n",
    "# ISIN = International Securities Identification Number\n",
    "msft.isin\n",
    "\n",
    "# show options expirations\n",
    "msft.options\n",
    "\n",
    "# show news\n",
    "msft.news\n",
    "\n",
    "# get option chain for specific expiration\n",
    "opt = msft.option_chain('2024-06-21')\n",
    "# data available via: opt.calls, opt.puts"
   ]
  },
  {
   "cell_type": "markdown",
   "metadata": {},
   "source": [
    "#### Example: Data for Google Stock "
   ]
  },
  {
   "cell_type": "code",
   "execution_count": 1,
   "metadata": {},
   "outputs": [
    {
     "name": "stdout",
     "output_type": "stream",
     "text": [
      "| Open    | High    | Low     | Close   | Volume      | Dividends   | Stock Splits   |\n",
      "|:--------|:--------|:--------|:--------|:------------|:------------|:---------------|\n",
      "| 136.683 | 137.312 | 135.924 | 136.493 | 2.54768e+07 | 0           | 0              |\n",
      "| 138.811 | 141.538 | 137.912 | 138.181 | 4.91072e+07 | 0           | 0              |\n",
      "| 139.33  | 140.529 | 139.02  | 140.259 | 2.74883e+07 | 0           | 0              |\n",
      "| 140.609 | 141.827 | 140.549 | 141.328 | 2.65146e+07 | 0           | 0              |\n",
      "| 141.428 | 142.516 | 141.028 | 141.358 | 1.67803e+07 | 0           | 0              |\n"
     ]
    }
   ],
   "source": [
    "import yfinance as yf\n",
    "from src.utils import display_df\n",
    "\n",
    "# Get stock data for Apple (AAPL)\n",
    "ticker = yf.Ticker(\"GOOGL\")\n",
    "\n",
    "# Get historical market data\n",
    "# hist = ticker.history(period=\"max\")  # Get all available data\n",
    "# or\n",
    "hist = ticker.history(period=\"6mo\")  # Get data for the past year\n",
    "\n",
    "# Display the data\n",
    "display_df(hist)\n"
   ]
  },
  {
   "cell_type": "markdown",
   "metadata": {},
   "source": [
    "#### Preparation for saving to Postgres"
   ]
  },
  {
   "cell_type": "code",
   "execution_count": 9,
   "metadata": {},
   "outputs": [],
   "source": [
    "import yfinance as yf\n",
    "\n",
    "symbol = \"AAPL\"\n",
    "period = \"1y\"\n",
    "\n",
    "# Get stock data for Apple (AAPL)\n",
    "ticker = yf.Ticker(symbol)\n",
    "hist = ticker.history(period=period)\n"
   ]
  },
  {
   "cell_type": "code",
   "execution_count": 3,
   "metadata": {},
   "outputs": [
    {
     "name": "stdout",
     "output_type": "stream",
     "text": [
      "{'Open': 207.3699951171875, 'High': 220.1999969482422, 'Low': 206.89999389648438, 'Close': 213.07000732421875, 'Volume': 198134300.0, 'Dividends': 0.0, 'Stock Splits': 0.0, 'symbol': 'AAPL', 'date': '2024-06-12'}\n",
      "Message delivered to stock_data [0]\n",
      "{'Open': 214.74000549316406, 'High': 216.75, 'Low': 211.60000610351562, 'Close': 214.24000549316406, 'Volume': 97862700.0, 'Dividends': 0.0, 'Stock Splits': 0.0, 'symbol': 'AAPL', 'date': '2024-06-13'}\n",
      "Message delivered to stock_data [0]\n",
      "{'Open': 213.85000610351562, 'High': 215.1699981689453, 'Low': 211.3000030517578, 'Close': 212.49000549316406, 'Volume': 70122700.0, 'Dividends': 0.0, 'Stock Splits': 0.0, 'symbol': 'AAPL', 'date': '2024-06-14'}\n",
      "Message delivered to stock_data [0]\n",
      "{'Open': 213.3699951171875, 'High': 218.9499969482422, 'Low': 212.72000122070312, 'Close': 216.6699981689453, 'Volume': 93728300.0, 'Dividends': 0.0, 'Stock Splits': 0.0, 'symbol': 'AAPL', 'date': '2024-06-17'}\n",
      "Message delivered to stock_data [0]\n",
      "{'Open': 217.58999633789062, 'High': 218.6300048828125, 'Low': 213.0, 'Close': 214.2899932861328, 'Volume': 79943300.0, 'Dividends': 0.0, 'Stock Splits': 0.0, 'symbol': 'AAPL', 'date': '2024-06-18'}\n",
      "Message delivered to stock_data [0]\n"
     ]
    }
   ],
   "source": [
    "from confluent_kafka import Producer\n",
    "import yfinance as yf\n",
    "import json\n",
    "import time\n",
    "\n",
    "# Callback function to handle delivery reports\n",
    "def delivery_report(err, msg):\n",
    "    if err is not None:\n",
    "        print(f\"Message delivery failed: {err}\")\n",
    "    else:\n",
    "        print(f\"Message delivered to {msg.topic()} [{msg.partition()}]\")\n",
    "\n",
    "def fetch_and_send_stock_data(symbol, period=\"1d\", max_retries=2):\n",
    "    # Fetch stock data\n",
    "    stock = yf.Ticker(symbol)\n",
    "    hist = stock.history(period=period)  # Fetch data for the specified period\n",
    "\n",
    "    # Kafka configuration\n",
    "    conf = {'bootstrap.servers': \"localhost:9094\"}\n",
    "    producer = Producer(**conf)\n",
    "    topic = 'stock_data'\n",
    "\n",
    "    # Iterate over each row in the DataFrame\n",
    "    for index, row in hist.iterrows():\n",
    "        # Prepare data for sending to Kafka\n",
    "        data = row.to_dict()\n",
    "        data['symbol'] = symbol  # Add the symbol to the data\n",
    "        data['date'] = index.strftime('%Y-%m-%d')  # Add the date to the data\n",
    "\n",
    "        # Attempt to send data to Kafka with retries\n",
    "        for attempt in range(max_retries):\n",
    "            try:\n",
    "                print(str(data))\n",
    "                producer.produce(topic, json.dumps(data).encode('utf-8'), callback=delivery_report)\n",
    "                producer.flush()\n",
    "                break  # Exit the retry loop on success\n",
    "            except Exception as e:\n",
    "                print(f\"Attempt {attempt + 1} failed: {e}\")\n",
    "                if attempt < max_retries - 1:\n",
    "                    time.sleep(2 ** attempt)  # Exponential backoff\n",
    "                else:\n",
    "                    print(\"Max retries reached. Failed to send data to Kafka.\")\n",
    "\n",
    "# Example usage for a longer period, e.g., 5 days\n",
    "fetch_and_send_stock_data(\"AAPL\", \"5d\")"
   ]
  },
  {
   "cell_type": "code",
   "execution_count": null,
   "metadata": {},
   "outputs": [],
   "source": []
  }
 ],
 "metadata": {
  "kernelspec": {
   "display_name": ".venv",
   "language": "python",
   "name": "python3"
  },
  "language_info": {
   "codemirror_mode": {
    "name": "ipython",
    "version": 3
   },
   "file_extension": ".py",
   "mimetype": "text/x-python",
   "name": "python",
   "nbconvert_exporter": "python",
   "pygments_lexer": "ipython3",
   "version": "3.9.19"
  }
 },
 "nbformat": 4,
 "nbformat_minor": 2
}
