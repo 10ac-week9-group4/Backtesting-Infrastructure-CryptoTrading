{
 "cells": [
  {
   "cell_type": "code",
   "execution_count": 2,
   "metadata": {},
   "outputs": [],
   "source": [
    "import os\n",
    "\n",
    "from src.utils import display_df"
   ]
  },
  {
   "cell_type": "code",
   "execution_count": 3,
   "metadata": {},
   "outputs": [
    {
     "name": "stdout",
     "output_type": "stream",
     "text": [
      "| timestamp           | open    | high    | low     | close   | volume   | close_time    | quote_av    | trades   | tb_base_av   | tb_quote_av   | ignore   |\n",
      "|:--------------------|:--------|:--------|:--------|:--------|:---------|:--------------|:------------|:---------|:-------------|:--------------|:---------|\n",
      "| 2024-06-19 05:13:00 | 65450   | 65450   | 65415.3 | 65428   | 14.8104  | 1718774039999 | 968967      | 521      | 8.42332      | 551040        | 0        |\n",
      "| 2024-06-19 05:14:00 | 65428   | 65446.5 | 65428   | 65446.5 | 5.37906  | 1718774099999 | 351987      | 235      | 3.83647      | 251036        | 0        |\n",
      "| 2024-06-19 05:15:00 | 65446.5 | 65446.5 | 65420   | 65434   | 12.0845  | 1718774159999 | 790734      | 785      | 3.0195       | 197574        | 0        |\n",
      "| 2024-06-19 05:16:00 | 65434   | 65434   | 65335   | 65372   | 51.4224  | 1718774219999 | 3.36158e+06 | 2180     | 16.5037      | 1.07844e+06   | 0        |\n",
      "| 2024-06-19 05:17:00 | 65372   | 65403.1 | 65361.5 | 65384.9 | 40.2095  | 1718774279999 | 2.62903e+06 | 1178     | 15.1511      | 990538        | 0        |\n"
     ]
    }
   ],
   "source": [
    "from binance import Client\n",
    "import pandas as pd\n",
    "\n",
    "client = Client(api_key='YOUR_API_KEY', api_secret='YOUR_API_SECRET')\n",
    "\n",
    "# Get klines for BTCUSDT (Bitcoin/Tether)\n",
    "klines = client.get_historical_klines(\"BTCUSDT\", Client.KLINE_INTERVAL_1MINUTE, \"1 day ago UTC\")\n",
    "\n",
    "# Convert to Pandas DataFrame (optional)\n",
    "df = pd.DataFrame(klines, \n",
    "                  columns = ['timestamp', 'open', 'high', 'low', \n",
    "                             'close', 'volume', 'close_time', 'quote_av', \n",
    "                             'trades', 'tb_base_av', 'tb_quote_av', 'ignore' ])\n",
    "df['timestamp'] = pd.to_datetime(df['timestamp'], unit='ms')\n",
    "\n",
    "# display df in markdown\n",
    "display_df(df)\n"
   ]
  },
  {
   "cell_type": "markdown",
   "metadata": {},
   "source": []
  },
  {
   "cell_type": "markdown",
   "metadata": {},
   "source": []
  }
 ],
 "metadata": {
  "kernelspec": {
   "display_name": ".venv",
   "language": "python",
   "name": "python3"
  },
  "language_info": {
   "codemirror_mode": {
    "name": "ipython",
    "version": 3
   },
   "file_extension": ".py",
   "mimetype": "text/x-python",
   "name": "python",
   "nbconvert_exporter": "python",
   "pygments_lexer": "ipython3",
   "version": "3.9.19"
  }
 },
 "nbformat": 4,
 "nbformat_minor": 2
}
