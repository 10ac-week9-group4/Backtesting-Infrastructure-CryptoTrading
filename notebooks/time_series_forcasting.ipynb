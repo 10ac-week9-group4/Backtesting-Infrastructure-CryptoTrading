{
 "cells": [
  {
   "cell_type": "code",
   "execution_count": 125,
   "metadata": {},
   "outputs": [],
   "source": [
    "import os\n",
    "import requests\n",
    "import pandas as pd\n",
    "from dotenv import load_dotenv\n",
    "import datetime as dt\n",
    "from datetime import date\n",
    "import matplotlib.pyplot as plt\n",
    "import yfinance as yf\n",
    "import numpy as np"
   ]
  },
  {
   "cell_type": "code",
   "execution_count": 126,
   "metadata": {},
   "outputs": [],
   "source": [
    "#Load environment variables from .env file\n",
    "load_dotenv()\n",
    "\n",
    "# API URL\n",
    "#base_url = 'https://newsapi.org/v2/everything'\n",
    "base_url = \"https://api.bing.microsoft.com/v7.0/news/search\"\n",
    "\n",
    "# Fetch API key from environment variables\n",
    "API_KEY = os.getenv('NEWS_API_KEY')"
   ]
  },
  {
   "cell_type": "code",
   "execution_count": 127,
   "metadata": {},
   "outputs": [],
   "source": [
    "# Load data function\n",
    "def load_data(ticker):\n",
    "    data = yf.download(ticker, START, TODAY)\n",
    "    data.reset_index(inplace=True)\n",
    "    return data"
   ]
  },
  {
   "cell_type": "markdown",
   "metadata": {},
   "source": [
    "Sentiment Analysis Integration"
   ]
  },
  {
   "cell_type": "markdown",
   "metadata": {},
   "source": [
    "using BERT through Hugging Face’s transformers library"
   ]
  },
  {
   "cell_type": "code",
   "execution_count": 128,
   "metadata": {},
   "outputs": [],
   "source": [
    "from transformers import pipeline"
   ]
  },
  {
   "cell_type": "code",
   "execution_count": 129,
   "metadata": {},
   "outputs": [],
   "source": [
    "def fetch_news_headlines(query='Cryptocurrency', pages=5):\n",
    "    all_headlines = []\n",
    "\n",
    "    for page in range(1, pages + 1):\n",
    "        params = {\n",
    "            'q': query,             # Query term\n",
    "            'sortBy': 'publishedAt',# Sort by publication date\n",
    "            'apiKey': API_KEY,      # Your API key\n",
    "            'pageSize': 100,        # Number of results per page (max 100)\n",
    "            'page': page            # Page number\n",
    "        }\n",
    "        \n",
    "        response = requests.get(base_url, params=params)\n",
    "\n",
    "        if response.status_code == 200:\n",
    "            news_data = response.json()\n",
    "            articles = news_data['articles']\n",
    "            headlines = [article['title'] for article in articles]\n",
    "            all_headlines.extend(headlines)\n",
    "        else:\n",
    "            print(f\"Error fetching news: {response.status_code} - {response.reason}\")\n",
    "            break\n",
    "\n",
    "    return all_headlines"
   ]
  },
  {
   "cell_type": "code",
   "execution_count": 130,
   "metadata": {},
   "outputs": [
    {
     "name": "stderr",
     "output_type": "stream",
     "text": [
      "[*********************100%%**********************]  1 of 1 completed\n"
     ]
    },
    {
     "name": "stdout",
     "output_type": "stream",
     "text": [
      "Error fetching news: 426 - Upgrade Required\n"
     ]
    }
   ],
   "source": [
    "def analyze_sentiment_for_headlines(headlines):\n",
    "    # Load BERT-based sentiment analysis model\n",
    "    sentiment_pipeline = pipeline('sentiment-analysis', model='nlptown/bert-base-multilingual-uncased-sentiment')\n",
    "\n",
    "    sentiments = []\n",
    "    for headline in headlines:\n",
    "        # Perform sentiment analysis on the headline using sentiment_pipeline\n",
    "        sentiment = sentiment_pipeline(headline)[0]\n",
    "        sentiments.append(sentiment)\n",
    "    return sentiments\n",
    "\n",
    "\n",
    "# Constants\n",
    "START = \"2020-01-01\"\n",
    "TODAY = date.today().strftime(\"%Y-%m-%d\")\n",
    "\n",
    "# Load and preprocess data\n",
    "data = load_data('BTC-USD')\n",
    "df = data.drop(['Date', 'Adj Close'], axis=1)\n",
    "\n",
    "# Fetch cryptocurrency-related news headlines (fetching 10 pages of 100 headlines each)\n",
    "headlines = fetch_news_headlines(query='Cryptocurrency', pages=10)\n",
    "\n",
    "if headlines:\n",
    "    sentiments = analyze_sentiment_for_headlines(headlines)\n",
    "else:\n",
    "    sentiments = []"
   ]
  },
  {
   "cell_type": "code",
   "execution_count": 131,
   "metadata": {},
   "outputs": [],
   "source": [
    "# Combine headlines with their sentiment scores\n",
    "#news_data = pd.DataFrame({'Headline': headlines, 'Sentiment_Label': [sentiment['label'] for sentiment in sentiments], 'Sentiment_Score': [sentiment['score'] for sentiment in sentiments]})\n",
    "#news_data"
   ]
  },
  {
   "cell_type": "code",
   "execution_count": 132,
   "metadata": {},
   "outputs": [],
   "source": [
    "# Ensure sentiments align with the dataframe length\n",
    "if len(sentiments) > 0:\n",
    "    sentiment_labels = [sentiment['label'] for sentiment in sentiments]\n",
    "    sentiment_scores = [sentiment['score'] for sentiment in sentiments]\n",
    "\n",
    "    # Check if there are more sentiments than rows in df, truncate if necessary\n",
    "    num_sentiments = min(len(sentiments), len(df))\n",
    "    sentiment_labels = sentiment_labels[:num_sentiments]\n",
    "    sentiment_scores = sentiment_scores[:num_sentiments]\n"
   ]
  },
  {
   "cell_type": "code",
   "execution_count": 133,
   "metadata": {},
   "outputs": [],
   "source": [
    "# Add sentiment scores to the dataframe\n",
    "df['Sentiment_Label'] = pd.Series(sentiment_labels, index=df.index[:num_sentiments])\n",
    "df['Sentiment_Score'] = pd.Series(sentiment_scores, index=df.index[:num_sentiments])\n"
   ]
  },
  {
   "cell_type": "code",
   "execution_count": 134,
   "metadata": {},
   "outputs": [
    {
     "data": {
      "text/html": [
       "<div>\n",
       "<style scoped>\n",
       "    .dataframe tbody tr th:only-of-type {\n",
       "        vertical-align: middle;\n",
       "    }\n",
       "\n",
       "    .dataframe tbody tr th {\n",
       "        vertical-align: top;\n",
       "    }\n",
       "\n",
       "    .dataframe thead th {\n",
       "        text-align: right;\n",
       "    }\n",
       "</style>\n",
       "<table border=\"1\" class=\"dataframe\">\n",
       "  <thead>\n",
       "    <tr style=\"text-align: right;\">\n",
       "      <th></th>\n",
       "      <th>Open</th>\n",
       "      <th>High</th>\n",
       "      <th>Low</th>\n",
       "      <th>Close</th>\n",
       "      <th>Volume</th>\n",
       "      <th>Sentiment_Label</th>\n",
       "      <th>Sentiment_Score</th>\n",
       "    </tr>\n",
       "  </thead>\n",
       "  <tbody>\n",
       "    <tr>\n",
       "      <th>0</th>\n",
       "      <td>7194.892090</td>\n",
       "      <td>7254.330566</td>\n",
       "      <td>7174.944336</td>\n",
       "      <td>7200.174316</td>\n",
       "      <td>18565664997</td>\n",
       "      <td>1 star</td>\n",
       "      <td>0.774917</td>\n",
       "    </tr>\n",
       "    <tr>\n",
       "      <th>1</th>\n",
       "      <td>7202.551270</td>\n",
       "      <td>7212.155273</td>\n",
       "      <td>6935.270020</td>\n",
       "      <td>6985.470215</td>\n",
       "      <td>20802083465</td>\n",
       "      <td>5 stars</td>\n",
       "      <td>0.379669</td>\n",
       "    </tr>\n",
       "    <tr>\n",
       "      <th>2</th>\n",
       "      <td>6984.428711</td>\n",
       "      <td>7413.715332</td>\n",
       "      <td>6914.996094</td>\n",
       "      <td>7344.884277</td>\n",
       "      <td>28111481032</td>\n",
       "      <td>4 stars</td>\n",
       "      <td>0.440640</td>\n",
       "    </tr>\n",
       "    <tr>\n",
       "      <th>3</th>\n",
       "      <td>7345.375488</td>\n",
       "      <td>7427.385742</td>\n",
       "      <td>7309.514160</td>\n",
       "      <td>7410.656738</td>\n",
       "      <td>18444271275</td>\n",
       "      <td>1 star</td>\n",
       "      <td>0.602686</td>\n",
       "    </tr>\n",
       "    <tr>\n",
       "      <th>4</th>\n",
       "      <td>7410.451660</td>\n",
       "      <td>7544.497070</td>\n",
       "      <td>7400.535645</td>\n",
       "      <td>7411.317383</td>\n",
       "      <td>19725074095</td>\n",
       "      <td>2 stars</td>\n",
       "      <td>0.375282</td>\n",
       "    </tr>\n",
       "    <tr>\n",
       "      <th>...</th>\n",
       "      <td>...</td>\n",
       "      <td>...</td>\n",
       "      <td>...</td>\n",
       "      <td>...</td>\n",
       "      <td>...</td>\n",
       "      <td>...</td>\n",
       "      <td>...</td>\n",
       "    </tr>\n",
       "    <tr>\n",
       "      <th>1633</th>\n",
       "      <td>64837.988281</td>\n",
       "      <td>65007.546875</td>\n",
       "      <td>63378.894531</td>\n",
       "      <td>64096.199219</td>\n",
       "      <td>26188171739</td>\n",
       "      <td>NaN</td>\n",
       "      <td>NaN</td>\n",
       "    </tr>\n",
       "    <tr>\n",
       "      <th>1634</th>\n",
       "      <td>64113.863281</td>\n",
       "      <td>64475.468750</td>\n",
       "      <td>63929.757812</td>\n",
       "      <td>64252.578125</td>\n",
       "      <td>9858198793</td>\n",
       "      <td>NaN</td>\n",
       "      <td>NaN</td>\n",
       "    </tr>\n",
       "    <tr>\n",
       "      <th>1635</th>\n",
       "      <td>64248.964844</td>\n",
       "      <td>64491.703125</td>\n",
       "      <td>63180.796875</td>\n",
       "      <td>63180.796875</td>\n",
       "      <td>11170471802</td>\n",
       "      <td>NaN</td>\n",
       "      <td>NaN</td>\n",
       "    </tr>\n",
       "    <tr>\n",
       "      <th>1636</th>\n",
       "      <td>63173.351562</td>\n",
       "      <td>63292.527344</td>\n",
       "      <td>58601.699219</td>\n",
       "      <td>60277.414062</td>\n",
       "      <td>43152133651</td>\n",
       "      <td>NaN</td>\n",
       "      <td>NaN</td>\n",
       "    </tr>\n",
       "    <tr>\n",
       "      <th>1637</th>\n",
       "      <td>60266.281250</td>\n",
       "      <td>62258.261719</td>\n",
       "      <td>60239.750000</td>\n",
       "      <td>61804.640625</td>\n",
       "      <td>29201215431</td>\n",
       "      <td>NaN</td>\n",
       "      <td>NaN</td>\n",
       "    </tr>\n",
       "  </tbody>\n",
       "</table>\n",
       "<p>1638 rows × 7 columns</p>\n",
       "</div>"
      ],
      "text/plain": [
       "              Open          High           Low         Close       Volume  \\\n",
       "0      7194.892090   7254.330566   7174.944336   7200.174316  18565664997   \n",
       "1      7202.551270   7212.155273   6935.270020   6985.470215  20802083465   \n",
       "2      6984.428711   7413.715332   6914.996094   7344.884277  28111481032   \n",
       "3      7345.375488   7427.385742   7309.514160   7410.656738  18444271275   \n",
       "4      7410.451660   7544.497070   7400.535645   7411.317383  19725074095   \n",
       "...            ...           ...           ...           ...          ...   \n",
       "1633  64837.988281  65007.546875  63378.894531  64096.199219  26188171739   \n",
       "1634  64113.863281  64475.468750  63929.757812  64252.578125   9858198793   \n",
       "1635  64248.964844  64491.703125  63180.796875  63180.796875  11170471802   \n",
       "1636  63173.351562  63292.527344  58601.699219  60277.414062  43152133651   \n",
       "1637  60266.281250  62258.261719  60239.750000  61804.640625  29201215431   \n",
       "\n",
       "     Sentiment_Label  Sentiment_Score  \n",
       "0             1 star         0.774917  \n",
       "1            5 stars         0.379669  \n",
       "2            4 stars         0.440640  \n",
       "3             1 star         0.602686  \n",
       "4            2 stars         0.375282  \n",
       "...              ...              ...  \n",
       "1633             NaN              NaN  \n",
       "1634             NaN              NaN  \n",
       "1635             NaN              NaN  \n",
       "1636             NaN              NaN  \n",
       "1637             NaN              NaN  \n",
       "\n",
       "[1638 rows x 7 columns]"
      ]
     },
     "execution_count": 134,
     "metadata": {},
     "output_type": "execute_result"
    }
   ],
   "source": [
    "df"
   ]
  },
  {
   "cell_type": "code",
   "execution_count": 135,
   "metadata": {},
   "outputs": [
    {
     "data": {
      "text/plain": [
       "100"
      ]
     },
     "execution_count": 135,
     "metadata": {},
     "output_type": "execute_result"
    }
   ],
   "source": [
    "count_valid_sentiments = df[['Sentiment_Label', 'Sentiment_Score']].notna().all(axis=1).sum()\n",
    "count_valid_sentiments"
   ]
  }
 ],
 "metadata": {
  "kernelspec": {
   "display_name": "myenv",
   "language": "python",
   "name": "python3"
  },
  "language_info": {
   "codemirror_mode": {
    "name": "ipython",
    "version": 3
   },
   "file_extension": ".py",
   "mimetype": "text/x-python",
   "name": "python",
   "nbconvert_exporter": "python",
   "pygments_lexer": "ipython3",
   "version": "3.12.3"
  }
 },
 "nbformat": 4,
 "nbformat_minor": 2
}
