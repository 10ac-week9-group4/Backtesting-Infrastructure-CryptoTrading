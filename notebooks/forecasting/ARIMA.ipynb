{
 "cells": [
  {
   "cell_type": "code",
   "execution_count": 1,
   "metadata": {},
   "outputs": [
    {
     "name": "stderr",
     "output_type": "stream",
     "text": [
      "[*********************100%%**********************]  1 of 1 completed\n",
      "/home/hilla/code/10Academy-training/week9/Backtesting-Infrastructure-CryptoTrading/.venv/lib/python3.9/site-packages/statsmodels/tsa/base/tsa_model.py:473: ValueWarning: A date index has been provided, but it has no associated frequency information and so will be ignored when e.g. forecasting.\n",
      "  self._init_dates(dates, freq)\n",
      "/home/hilla/code/10Academy-training/week9/Backtesting-Infrastructure-CryptoTrading/.venv/lib/python3.9/site-packages/statsmodels/tsa/base/tsa_model.py:473: ValueWarning: A date index has been provided, but it has no associated frequency information and so will be ignored when e.g. forecasting.\n",
      "  self._init_dates(dates, freq)\n",
      "/home/hilla/code/10Academy-training/week9/Backtesting-Infrastructure-CryptoTrading/.venv/lib/python3.9/site-packages/statsmodels/tsa/base/tsa_model.py:473: ValueWarning: A date index has been provided, but it has no associated frequency information and so will be ignored when e.g. forecasting.\n",
      "  self._init_dates(dates, freq)\n"
     ]
    },
    {
     "name": "stdout",
     "output_type": "stream",
     "text": [
      "{'labels': ['2024-05-09', '2024-05-10', '2024-05-13', '2024-05-14', '2024-05-15', '2024-05-16', '2024-05-17', '2024-05-20', '2024-05-21', '2024-05-22', '2024-05-23', '2024-05-24', '2024-05-28', '2024-05-29', '2024-05-30', '2024-05-31', '2024-06-03', '2024-06-04', '2024-06-05', '2024-06-06', '2024-06-07', '2024-06-10', '2024-06-11', '2024-06-12', '2024-06-13', '2024-06-14', '2024-06-17', '2024-06-18', '2024-06-20', '2024-06-21', '2024-06-24', '2024-06-25', '2024-06-26', '2024-06-27', '2024-06-28', '2024-07-01', '2024-07-02', '2024-07-03', '2024-07-04'], 'actual': [169.76516723632812, 168.4566650390625, 168.94610595703125, 170.1447296142578, 172.31224060058594, 173.98031616210938, 175.85816955566406, 176.71717834472656, 177.6461181640625, 176.1778106689453, 173.35104370117188, 174.78939819335938, 176.19776916503906, 175.69834899902344, 171.91270446777344, 172.30224609375, 172.9714813232422, 173.59075927734375, 175.20892333984375, 176.5273895263672, 174.260009765625, 175.00999450683594, 176.6199951171875, 177.7899932861328, 175.16000366210938, 176.7899932861328, 177.24000549316406, 175.08999633789062, 176.3000030517578, 179.6300048828125, 179.22000122070312, 184.02999877929688, 183.8800048828125, 185.41000366210938], 'forecast': [185.41000366210938, 184.92131692330278, 185.4056317011512, 184.52361587340644, 184.63984795240717, 184.32359528692297]}\n"
     ]
    },
    {
     "name": "stderr",
     "output_type": "stream",
     "text": [
      "/home/hilla/code/10Academy-training/week9/Backtesting-Infrastructure-CryptoTrading/.venv/lib/python3.9/site-packages/statsmodels/tsa/base/tsa_model.py:836: ValueWarning: No supported index is available. Prediction results will be given with an integer index beginning at `start`.\n",
      "  return get_prediction_index(\n",
      "/home/hilla/code/10Academy-training/week9/Backtesting-Infrastructure-CryptoTrading/.venv/lib/python3.9/site-packages/statsmodels/tsa/base/tsa_model.py:836: FutureWarning: No supported index is available. In the next version, calling this method in a model without a supported index will result in an exception.\n",
      "  return get_prediction_index(\n"
     ]
    }
   ],
   "source": [
    "import yfinance as yf\n",
    "import pandas as pd\n",
    "from statsmodels.tsa.arima.model import ARIMA\n",
    "from datetime import datetime, timedelta\n",
    "\n",
    "end_date = datetime.now()\n",
    "start_date = end_date - timedelta(days=50) \n",
    "ticker = 'GOOGL'\n",
    "data = yf.download(ticker, start=start_date, end=end_date)\n",
    "ts_data = data['Adj Close']\n",
    "\n",
    "model = ARIMA(ts_data, order=(5, 1, 0)) \n",
    "model_fit = model.fit()\n",
    "\n",
    "forecast = model_fit.forecast(steps=5) \n",
    "forecast_dates = pd.date_range(start=ts_data.index[-1], periods=6, freq='B')[1:]\n",
    "\n",
    "result = {\n",
    "    'labels': ts_data.index.strftime('%Y-%m-%d').tolist()\n",
    "      + forecast_dates.strftime('%Y-%m-%d').tolist(),\n",
    "    'actual': ts_data.tolist(),\n",
    "    'forecast': list(ts_data[-1:]) + forecast.tolist() \n",
    "}\n",
    "\n",
    "print(result)\n"
   ]
  },
  {
   "cell_type": "code",
   "execution_count": 3,
   "metadata": {},
   "outputs": [
    {
     "name": "stdout",
     "output_type": "stream",
     "text": [
      "[185.41000366210938, 184.92131692330278, 185.4056317011512, 184.52361587340644, 184.63984795240717, 184.32359528692297]\n"
     ]
    }
   ],
   "source": [
    "print(result[\"forecast\"])"
   ]
  },
  {
   "cell_type": "code",
   "execution_count": 7,
   "metadata": {},
   "outputs": [
    {
     "ename": "NameError",
     "evalue": "name 'Image' is not defined",
     "output_type": "error",
     "traceback": [
      "\u001b[0;31m---------------------------------------------------------------------------\u001b[0m",
      "\u001b[0;31mNameError\u001b[0m                                 Traceback (most recent call last)",
      "Cell \u001b[0;32mIn[7], line 27\u001b[0m\n\u001b[1;32m     24\u001b[0m plt\u001b[38;5;241m.\u001b[39mclose()  \u001b[38;5;66;03m# Close the figure\u001b[39;00m\n\u001b[1;32m     26\u001b[0m \u001b[38;5;66;03m# Display in Jupyter notebook\u001b[39;00m\n\u001b[0;32m---> 27\u001b[0m display(\u001b[43mImage\u001b[49m(data\u001b[38;5;241m=\u001b[39mimg_base64))\n\u001b[1;32m     29\u001b[0m \u001b[38;5;66;03m#Display the results\u001b[39;00m\n\u001b[1;32m     30\u001b[0m display(HTML(\u001b[38;5;124mf\u001b[39m\u001b[38;5;124m'\u001b[39m\u001b[38;5;124m<h3>Forecast Data:</h3>\u001b[39m\u001b[38;5;124m'\u001b[39m))\n",
      "\u001b[0;31mNameError\u001b[0m: name 'Image' is not defined"
     ]
    }
   ],
   "source": [
    "import matplotlib.pyplot as plt\n",
    "import io\n",
    "from base64 import b64encode\n",
    "\n",
    "\n",
    "plt.figure(figsize=(10, 6))\n",
    "plt.plot(ts_data.index, ts_data, label='Actual', color='blue')\n",
    "plt.plot(forecast_dates, forecast, label='Forecast', color='red')\n",
    "plt.xlabel('Date')\n",
    "plt.ylabel('Price')\n",
    "plt.title(f'{ticker} Stock Price Forecast')\n",
    "plt.legend()\n",
    "\n",
    "# Save plot to buffer and optionally to file\n",
    "img_buffer = io.BytesIO()\n",
    "plt.savefig(img_buffer, format='png')\n",
    "img_buffer.seek(0)\n",
    "img_base64 = b64encode(img_buffer.read()).decode()\n",
    "\n",
    "# if filename:\n",
    "filename = \"googl_forecast.png\"\n",
    "plt.savefig(filename)\n",
    "\n",
    "plt.close()  # Close the figure\n",
    "\n",
    "# Display in Jupyter notebook\n",
    "display(Image(data=img_base64))\n",
    "\n",
    "#Display the results\n",
    "display(HTML(f'<h3>Forecast Data:</h3>'))\n",
    "display(result)\n",
    "# return send_file(img_buffer, mimetype='image/png')"
   ]
  },
  {
   "cell_type": "code",
   "execution_count": null,
   "metadata": {},
   "outputs": [],
   "source": []
  }
 ],
 "metadata": {
  "kernelspec": {
   "display_name": ".venv",
   "language": "python",
   "name": "python3"
  },
  "language_info": {
   "codemirror_mode": {
    "name": "ipython",
    "version": 3
   },
   "file_extension": ".py",
   "mimetype": "text/x-python",
   "name": "python",
   "nbconvert_exporter": "python",
   "pygments_lexer": "ipython3",
   "version": "3.9.19"
  }
 },
 "nbformat": 4,
 "nbformat_minor": 2
}
